{
 "cells": [
  {
   "cell_type": "markdown",
   "id": "1dff28e9-81eb-47c2-8f93-8244ee2fb3ab",
   "metadata": {
    "tags": []
   },
   "source": [
    "# PLS regression analysis for EP DTI and clinical data"
   ]
  },
  {
   "cell_type": "markdown",
   "id": "349d0b8f-569e-459d-9585-87fe31786b3c",
   "metadata": {},
   "source": [
    "- Project:        HCP-EP\n",
    "- File Name:      EP_PLS\n",
    "- Author:         Haley Wang\n",
    "- Date Created:   2023-07-10\n",
    "- Last Modified:  2023-07-10\n",
    "- Code Status:    Finished"
   ]
  },
  {
   "cell_type": "code",
   "execution_count": null,
   "id": "c4ed33df-f46a-4d09-b48d-462fbca025df",
   "metadata": {
    "tags": []
   },
   "outputs": [],
   "source": [
    "import numpy as np\n",
    "import pandas as pd\n",
    "import pyls\n",
    "import matplotlib\n",
    "import matplotlib.pyplot as plt\n",
    "from matplotlib.colors import ListedColormap\n",
    "import seaborn as sns\n",
    "from netneurotools import datasets, stats, plotting\n",
    "from scipy.stats import zscore, pearsonr, ttest_ind\n",
    "from scipy.spatial.distance import squareform, pdist"
   ]
  },
  {
   "cell_type": "code",
   "execution_count": null,
   "id": "cd8f7c76-6a44-4881-9d8c-083004e6f8f3",
   "metadata": {},
   "outputs": [],
   "source": [
    "from IPython.display import display, Javascript\n",
    "\n",
    "def beep():\n",
    "    display(Javascript('new Audio(\"https://www.soundjay.com/buttons/sounds/button-09a.mp3\").play()'))"
   ]
  },
  {
   "cell_type": "code",
   "execution_count": null,
   "id": "416540b7-c6ec-4fbc-857c-a706db15d5b9",
   "metadata": {},
   "outputs": [],
   "source": [
    "pd.set_option('display.max_rows', None)\n",
    "pd.set_option('display.max_columns', None)\n",
    "#pd.reset_option('all')"
   ]
  },
  {
   "cell_type": "code",
   "execution_count": null,
   "id": "4f2a8542-be26-4ade-9b60-8cefe88358db",
   "metadata": {},
   "outputs": [],
   "source": [
    "\"\"\"\n",
    "load data (age and sex were regressed out)\n",
    "\"\"\"\n",
    "\n",
    "df = pd.read_csv('/u/project/CCN/cbearden/haleywan/qunex_studyfolder/analysis/scripts/PLS_MEND_Replication/EP_PLS_all.csv')\n"
   ]
  },
  {
   "cell_type": "code",
   "execution_count": null,
   "id": "cd0bd27d-ccd7-4b1a-b404-b1f4088d7c96",
   "metadata": {
    "tags": []
   },
   "outputs": [],
   "source": [
    "for column in df.columns:\n",
    "    print(column)"
   ]
  },
  {
   "cell_type": "code",
   "execution_count": null,
   "id": "62af07d8-3c4e-4d87-8d91-273d18e595b0",
   "metadata": {
    "tags": []
   },
   "outputs": [],
   "source": [
    "\"\"\"\n",
    "Create X and Y for PLS\n",
    "\"\"\"\n",
    "predictor_cleaned =  df.filter(regex='^(FA|MD|AD|RD)')\n",
    "response_cleaned = df.filter(regex='^(pos|neg|gps|ymrs)')"
   ]
  },
  {
   "cell_type": "code",
   "execution_count": null,
   "id": "94607ce7-5407-409f-8462-3d1b45f8de42",
   "metadata": {},
   "outputs": [],
   "source": [
    "response_cleaned.columns = ['PANSS_Delusions', 'PANSS_Conceptual Disorganization', 'PANSS_Hallucinations', 'PANSS_Excitement', 'PANSS_Grandiosity', \n",
    "                            'PANSS_Suspiciousness/Persecution', 'PANSS_Hostility', 'PANSS_Blunted Affect', 'PANSS_Emotional Withdrawal', 'PANSS_Poor Rapport', \n",
    "                            'PANSS_Social Withdrawal', 'PANSS_Difficulty in abstract thinking', 'PANSS_Lack of Spontaneity', 'PANSS_Stereotyped Thinking', \n",
    "                            'PANSS_Somatic Concern', 'PANSS_Anxiety', 'PANSS_Guilt feeling', 'PANSS_Tension', \n",
    "                            'PANSS_Mannerisms and Posturing', 'PANSS_Depression', 'PANSS_Motor Retardation', 'PANSS_Uncooperativeness', 'PANSS_Unusual Thought Content', \n",
    "                            'PANSS_Disorientation', 'PANSS_Poor Attention', 'PANSS_Lack of Judgement and Insight', 'PANSS_Disturbance of Volition', 'PANSS_Poor Impulse Control', \n",
    "                            'PANSS_Preoccupation', 'PANSS_Active Social Avoidance', \n",
    "                            \n",
    "                            'YMRS_Elevated Mood', 'YMRS_Increased Motor Activity-Energy', 'YMRS_Sexual Interest', 'YMRS_Sleep', 'YMRS_Irritability', 'YMRS_Speech', \n",
    "                            'YMRS_Language-Thought Disorder', 'YMRS_Content', 'YMRS_Disruptive-Aggressive Behavior', 'YMRS_Appearance', 'YMRS_Insight']"
   ]
  },
  {
   "cell_type": "code",
   "execution_count": null,
   "id": "d91911b6-eb7e-4ee0-9638-4b3250040a4c",
   "metadata": {
    "tags": []
   },
   "outputs": [],
   "source": [
    "\"\"\"\n",
    "behavioral PLS\n",
    "\"\"\"\n",
    "X = zscore(predictor_cleaned)\n",
    "Y = zscore(response_cleaned)"
   ]
  },
  {
   "cell_type": "code",
   "execution_count": null,
   "id": "d92e8202-5a17-4321-b56f-6a35335d9750",
   "metadata": {
    "tags": []
   },
   "outputs": [],
   "source": [
    "pls_result = pyls.behavioral_pls(X, Y, n_boot=5000, n_perm=5000, n_split=2, \n",
    "                                 test_split=2, covariance=False, rotate=True, \n",
    "                                 ci=95, verbose=True, n_proc='max')"
   ]
  },
  {
   "cell_type": "code",
   "execution_count": null,
   "id": "b639ce34-c93d-4c65-b509-4f7aab504c44",
   "metadata": {},
   "outputs": [],
   "source": [
    "pyls.save_results('EP_pls_result.hdf5', pls_result)"
   ]
  },
  {
   "cell_type": "code",
   "execution_count": null,
   "id": "963f815d-1c7f-4366-adfc-5457c4710484",
   "metadata": {
    "tags": []
   },
   "outputs": [],
   "source": [
    "pls_result.permres.pvals"
   ]
  },
  {
   "cell_type": "code",
   "execution_count": null,
   "id": "c35d6d6b-d5a0-4274-b0d2-5da0d2448a2c",
   "metadata": {},
   "outputs": [],
   "source": [
    "pls_result.varexp"
   ]
  },
  {
   "cell_type": "code",
   "execution_count": null,
   "id": "1fcdaf8e-abb5-4ecc-9d02-7fad15cbc7d2",
   "metadata": {
    "tags": []
   },
   "outputs": [],
   "source": [
    "\"\"\"\n",
    "loadings - neural\n",
    "\"\"\"\n",
    "xload = pyls.behavioral_pls(Y, X, n_boot=3000, n_perm=0, test_split=2)"
   ]
  },
  {
   "cell_type": "code",
   "execution_count": null,
   "id": "d7404b60-950e-4e48-90ae-51081eb0b696",
   "metadata": {},
   "outputs": [],
   "source": [
    "pyls.save_results('EP_pls_loadings.hdf5', xload)"
   ]
  },
  {
   "cell_type": "code",
   "execution_count": null,
   "id": "353b6fd0-6086-4304-b54e-95d97648985f",
   "metadata": {},
   "outputs": [],
   "source": [
    "lv = 0 # latent variable\n",
    "beep()"
   ]
  },
  {
   "cell_type": "code",
   "execution_count": null,
   "id": "23d50d40-39f0-4b03-9d64-822113654841",
   "metadata": {},
   "outputs": [],
   "source": [
    "# Assessing contribution of variables within a dimension\n",
    "effect_size = pow(xload[\"y_loadings\"][:, lv],2)\n",
    "std_effect_size = zscore(effect_size)\n",
    "relidx = abs(std_effect_size) > 2"
   ]
  },
  {
   "cell_type": "code",
   "execution_count": null,
   "id": "e8545e31-b12f-4923-9b8c-a18b144970d8",
   "metadata": {},
   "outputs": [],
   "source": [
    "err = (xload[\"bootres\"][\"y_loadings_ci\"][:, lv, 1]\n",
    "      - xload[\"bootres\"][\"y_loadings_ci\"][:, lv, 0]) / 2\n",
    "#relidx = (abs(xload[\"y_loadings\"][:, lv]) - err) > 0\n",
    "sorted_idx = np.argsort(xload[\"y_loadings\"][relidx, lv])\n",
    "\n",
    "# Extract column names as a list\n",
    "diffusion_idx = predictor_cleaned.columns.tolist()\n",
    "\n",
    "#plot the figure\n",
    "plt.figure(figsize=(8,6))\n",
    "plt.ion()\n",
    "\n",
    "#plt.bar(np.sort(xload[\"y_loadings\"][relidx, lv]), np.arange(sum(relidx)), yerr=err[relidx][sorted_idx])\n",
    "plt.barh(np.arange(sum(relidx)), np.sort(xload[\"y_loadings\"][relidx, lv]), xerr=err[relidx][sorted_idx], align='center')\n",
    "#plt.barh(np.arange(0,10), loadings, xerr=err[relidx][sorted_idx], align='center')\n",
    "plt.yticks(np.arange(sum(relidx)), labels=predictor_cleaned.columns[relidx][sorted_idx],\n",
    "           rotation='horizontal', fontsize=14)\n",
    "plt.xticks(fontsize=14)\n",
    "#plt.yticks(np.arange(0,10), labels=predictor_cleaned.columns[relidx][sorted_idx],\n",
    "#           rotation='horizontal')\n",
    "plt.xlabel(\"Microstructural Loading Coefficients\", fontsize=16, fontweight=\"bold\")\n",
    "plt.tight_layout()\n",
    "#plt.savefig(\"/u/project/cbearden/haleywan/qunex_studyfolder/analysis/scripts/PLS_ROI_Analysis/figures/bar_pls_lv0_nload.tiff\")"
   ]
  },
  {
   "cell_type": "code",
   "execution_count": null,
   "id": "a60b08ed-deaa-4eab-9625-81a31c113e0e",
   "metadata": {},
   "outputs": [],
   "source": [
    "\"\"\"\n",
    "loadings - psychopathology\n",
    "\"\"\"\n",
    "\n",
    "err = (pls_result[\"bootres\"][\"y_loadings_ci\"][:, lv, 1]\n",
    "      - pls_result[\"bootres\"][\"y_loadings_ci\"][:, lv, 0]) / 2\n",
    "relidx = (abs(pls_result[\"y_loadings\"][:, lv]) - err) > 0  # CI doesnt cross 0\n",
    "sorted_idx = np.argsort(pls_result[\"y_loadings\"][relidx, lv])\n",
    "plt.figure(figsize=(7,6))\n",
    "plt.ion()\n",
    "plt.barh(np.arange(sum(relidx)), np.sort(pls_result[\"y_loadings\"][relidx, lv]), \n",
    "         xerr=err[relidx][sorted_idx], align='center')\n",
    "plt.yticks(np.arange(sum(relidx)), labels=response_cleaned.columns[relidx][sorted_idx],\n",
    "           rotation='horizontal', fontsize=14)\n",
    "plt.xticks(fontsize=14)\n",
    "plt.xlabel(\"Psychopathology Loading Coefficients\", fontsize=16, fontweight=\"bold\")\n",
    "plt.tight_layout()\n",
    "#plt.savefig(\"/u/project/cbearden/haleywan/qunex_studyfolder/analysis/scripts/PLS_ROI_Analysis/figures/bar_pls_lv1_pload.tiff\")"
   ]
  },
  {
   "cell_type": "code",
   "execution_count": null,
   "id": "8dc47092-e36b-460c-99b3-269af9880a55",
   "metadata": {},
   "outputs": [],
   "source": [
    "## for visualization\n",
    "\n",
    "## export the list of ROI loadings with significant contributions\n",
    "ROIs = predictor_cleaned.columns[relidx][sorted_idx].tolist()\n",
    "ROIs"
   ]
  },
  {
   "cell_type": "code",
   "execution_count": null,
   "id": "6dbd9803-0ae4-4f8b-b179-fc23fd4528b6",
   "metadata": {},
   "outputs": [],
   "source": [
    "coefs = xload[\"y_loadings\"][relidx, lv].tolist()\n",
    "coefs"
   ]
  },
  {
   "cell_type": "code",
   "execution_count": null,
   "id": "08bf2b2f-5deb-4be2-845f-ed81fb9ac4c5",
   "metadata": {},
   "outputs": [],
   "source": [
    "# put them together as a df\n",
    "chart = pd.DataFrame({'ROIs': ROIs, 'Coefs': coefs})\n",
    "\n",
    "# Make the coeeficients absolute values\n",
    "chart['Coefs'] = chart['Coefs'].abs()\n",
    "chart = chart.sort_values(by='Coefs', ascending=False)\n",
    "\n",
    "# Remove the suffix of everything in front of the underscore\n",
    "chart['ROIs'] = chart['ROIs'].str.split('_', expand=True).iloc[:, 1]\n",
    "chart = chart.reset_index()\n",
    "\n",
    "# Remove the repetative ROIs and keep the largest coefs\n",
    "chart = chart.drop_duplicates(subset='ROIs', keep='first')\n",
    "chart['ROIs'] = chart['ROIs'].str.replace(' ', '_')\n",
    "chart\n"
   ]
  },
  {
   "cell_type": "code",
   "execution_count": null,
   "id": "a3f90a92-ede0-4a24-b584-41eacaff3fcb",
   "metadata": {},
   "outputs": [],
   "source": [
    "chart.to_csv('EP_loading_chart_for_vis.csv', index=False)"
   ]
  }
 ],
 "metadata": {
  "kernelspec": {
   "display_name": "analysis",
   "language": "python",
   "name": "analysis"
  },
  "language_info": {
   "codemirror_mode": {
    "name": "ipython",
    "version": 3
   },
   "file_extension": ".py",
   "mimetype": "text/x-python",
   "name": "python",
   "nbconvert_exporter": "python",
   "pygments_lexer": "ipython3",
   "version": "3.10.4"
  }
 },
 "nbformat": 4,
 "nbformat_minor": 5
}
