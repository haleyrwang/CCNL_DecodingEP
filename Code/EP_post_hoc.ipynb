{
 "cells": [
  {
   "cell_type": "markdown",
   "id": "7521267b-65dd-499d-9cb5-51a361c19f5c",
   "metadata": {
    "id": "7521267b-65dd-499d-9cb5-51a361c19f5c",
    "tags": []
   },
   "source": [
    "### Post-hoc analysis"
   ]
  },
  {
   "cell_type": "code",
   "execution_count": null,
   "id": "e64809a1-5c00-42e2-9c46-f34c98cebd53",
   "metadata": {
    "id": "e64809a1-5c00-42e2-9c46-f34c98cebd53"
   },
   "outputs": [],
   "source": [
    "import numpy as np\n",
    "import pandas as pd\n",
    "import pyls\n",
    "import matplotlib\n",
    "import matplotlib.pyplot as plt\n",
    "from matplotlib.colors import ListedColormap\n",
    "import seaborn as sns\n",
    "from netneurotools import datasets, stats, plotting\n",
    "from scipy.stats import zscore, pearsonr, ttest_ind\n",
    "from scipy.spatial.distance import squareform, pdist\n",
    "from scipy.stats import pearsonr"
   ]
  },
  {
   "cell_type": "code",
   "execution_count": null,
   "id": "7971b0bf-42a7-411a-a376-23a007f51102",
   "metadata": {
    "id": "7971b0bf-42a7-411a-a376-23a007f51102"
   },
   "outputs": [],
   "source": [
    "\"\"\"\n",
    "load data (age and sex were regressed out)\n",
    "\"\"\"\n",
    "\n",
    "df = pd.read_csv('/u/project/CCN/cbearden/haleywan/qunex_studyfolder/analysis/scripts/PLS_MEND_Replication/EP_PLS_all.csv')"
   ]
  },
  {
   "cell_type": "code",
   "execution_count": null,
   "id": "b838a8e6-df39-4b53-82ec-972c29d975a7",
   "metadata": {
    "id": "b838a8e6-df39-4b53-82ec-972c29d975a7"
   },
   "outputs": [],
   "source": [
    "# Create an empty DataFrame for post hoc analysis\n",
    "column_names = ['ID', 'cohort', 'age', 'sex', 'dup', 'med', 'LC1_brain', 'LC1_behv']\n",
    "post_hoc = pd.DataFrame(columns=column_names)\n",
    "\n",
    "post_hoc['LC1_brain'] = pls_result.x_scores[:,0]\n",
    "post_hoc['LC1_behv'] = pls_result.y_scores[:,0]"
   ]
  },
  {
   "cell_type": "code",
   "execution_count": null,
   "id": "e098c35b-23f1-4c7d-b6a1-1211c36e90f7",
   "metadata": {
    "id": "e098c35b-23f1-4c7d-b6a1-1211c36e90f7"
   },
   "outputs": [],
   "source": [
    "post_hoc['ID'] = df['src_subject_id']\n",
    "post_hoc['cohort'] = df['cohort']\n",
    "post_hoc['age'] = df['age_demeaned']\n",
    "post_hoc['sex'] = df['sex']\n",
    "post_hoc['dup'] = df['dup']\n",
    "post_hoc['med'] = df['med_equiv_current']\n",
    "post_hoc['dx'] = df['dx']\n",
    "post_hoc['dx_code'] = df['dx_code']"
   ]
  },
  {
   "cell_type": "code",
   "execution_count": null,
   "id": "fb5bf791-659d-4a1c-9f37-6e24a1f17a83",
   "metadata": {
    "id": "fb5bf791-659d-4a1c-9f37-6e24a1f17a83",
    "outputId": "1d4ff3f5-5e82-4f35-8665-5bb6307ff787",
    "tags": []
   },
   "outputs": [],
   "source": [
    "post_hoc"
   ]
  },
  {
   "cell_type": "code",
   "execution_count": null,
   "id": "1a88db98-8cfe-45dd-b196-c6441f2841e9",
   "metadata": {
    "id": "1a88db98-8cfe-45dd-b196-c6441f2841e9",
    "outputId": "125e1c48-ae1c-4460-be33-f29fb79f38b1",
    "tags": []
   },
   "outputs": [],
   "source": [
    "post_hoc[~post_hoc['dx'].duplicated(keep='first')]"
   ]
  },
  {
   "cell_type": "code",
   "execution_count": null,
   "id": "55fdad2a-810b-41db-b9da-112de124fca7",
   "metadata": {
    "id": "55fdad2a-810b-41db-b9da-112de124fca7"
   },
   "outputs": [],
   "source": [
    "# Define a function to set the values of column \"A\" based on column \"B\"\n",
    "def set_value(row):\n",
    "    if row['dx'] in [295.90, 295.40, 298.80, 297.10, 295.70]:\n",
    "        return 1\n",
    "    elif row['dx'] in [295.70, 296.24, 296.44, 296.89, 296.54, 296.34, 296.40, 296.53]:\n",
    "        return 0\n",
    "\n",
    "# Apply the function to create column \"A\"\n",
    "post_hoc['SZ'] = post_hoc.apply(set_value, axis=1)"
   ]
  },
  {
   "cell_type": "code",
   "execution_count": null,
   "id": "f787f843-5ddb-4260-abeb-c449afa8c128",
   "metadata": {
    "id": "f787f843-5ddb-4260-abeb-c449afa8c128",
    "outputId": "0ce59fab-4170-4571-fa7c-f230d5fbdf0f",
    "tags": []
   },
   "outputs": [],
   "source": [
    "# Define a function to set the values of column \"A\" based on column \"B\"\n",
    "def set_value(row):\n",
    "    if row['dx'] in [295.90, 295.40, 298.80, 297.10]:\n",
    "        return 1\n",
    "    elif row['dx'] in [295.70, 296.24, 296.44, 296.89, 296.54, 296.34, 296.40, 296.53]:\n",
    "        return 0\n",
    "\n",
    "# Apply the function to create column \"A\"\n",
    "post_hoc['Mood'] = post_hoc.apply(set_value, axis=1)\n",
    "post_hoc"
   ]
  },
  {
   "cell_type": "code",
   "execution_count": null,
   "id": "f291a299-f1d1-49ab-a744-de281b21639e",
   "metadata": {
    "id": "f291a299-f1d1-49ab-a744-de281b21639e",
    "outputId": "afa155c1-78e8-4d88-b517-d9f937b1a8d1",
    "tags": []
   },
   "outputs": [],
   "source": [
    "post_hoc.columns"
   ]
  },
  {
   "cell_type": "markdown",
   "id": "9d93a0ef-2d6a-4511-bf20-4153cd07d0f1",
   "metadata": {
    "id": "9d93a0ef-2d6a-4511-bf20-4153cd07d0f1",
    "tags": []
   },
   "source": [
    "### Figure 1a. Composite scores correlation (color code by diagnosis)"
   ]
  },
  {
   "cell_type": "code",
   "execution_count": null,
   "id": "8d7fb1c0-ae22-4d08-86af-1b5db791cf0d",
   "metadata": {
    "id": "8d7fb1c0-ae22-4d08-86af-1b5db791cf0d",
    "outputId": "c1b4147c-12f7-47d1-e9d0-c40efb83fd67"
   },
   "outputs": [],
   "source": [
    "from matplotlib.ticker import MultipleLocator\n",
    "\n",
    "# Create a dictionary to map values in column C to colors\n",
    "color_palette = [\"#FFC300\", \"#FF5733\", \"#3388FF\"]\n",
    "\n",
    "# Plot the scatter plot using Seaborn\n",
    "# Using Seaborn\n",
    "ax = sns.scatterplot(data=post_hoc, x='LC1_brain', y='LC1_behv', hue='cohort', palette=color_palette, s=85)\n",
    "\n",
    "# Remove top and right spines\n",
    "ax.spines['top'].set_visible(False)\n",
    "ax.spines['right'].set_visible(False)\n",
    "\n",
    "# Set thicker border\n",
    "ax.spines['left'].set_linewidth(1.5)  # Adjust the linewidth (1.5 in this example)\n",
    "ax.spines['bottom'].set_linewidth(1.5)  # Adjust the linewidth (1.5 in this example)\n",
    "\n",
    "\n",
    "# Add gray central dash lines\n",
    "ax.axhline(y=0, color='gray', linestyle='--')\n",
    "ax.axvline(x=0, color='gray', linestyle='--')\n",
    "\n",
    "# Increase font size of axis tick labels\n",
    "ax.tick_params(axis='both', labelsize=15)\n",
    "ax.xaxis.set_major_locator(MultipleLocator(15))\n",
    "ax.yaxis.set_major_locator(MultipleLocator(5))\n",
    "\n",
    "# Set custom axis ranges\n",
    "ax.set_xlim(-30, 30)  # Replace xmin and xmax with your desired values for the x-axis\n",
    "ax.set_ylim(-10, 10)\n",
    "\n",
    "# Change x-axis and y-axis labels\n",
    "ax.set_xlabel('Clinical composite scores', fontsize=15)\n",
    "ax.set_ylabel('Microstructural composite scores', fontsize=15)\n",
    "\n",
    "# Change the legend content\n",
    "legend_labels = {2: 'SZ', 3: 'SZAD', 5: 'BP'}  # Update with your desired legend labels\n",
    "legend_font = {'size': 20}\n",
    "plt.legend(labels=legend_labels.values(), bbox_to_anchor=(1.05, 1), loc='center right', frameon=False, prop=legend_font)\n",
    "\n",
    "\n",
    "# Adjust the legend position\n",
    "plt.subplots_adjust(right=0.9)  # Increase or decrease the value to move the legend further outside\n",
    "\n",
    "# Show the plot\n",
    "plt.show()"
   ]
  }
 ],
 "metadata": {
  "colab": {
   "provenance": []
  },
  "kernelspec": {
   "display_name": "analysis",
   "language": "python",
   "name": "analysis"
  },
  "language_info": {
   "codemirror_mode": {
    "name": "ipython",
    "version": 3
   },
   "file_extension": ".py",
   "mimetype": "text/x-python",
   "name": "python",
   "nbconvert_exporter": "python",
   "pygments_lexer": "ipython3",
   "version": "3.10.4"
  }
 },
 "nbformat": 4,
 "nbformat_minor": 5
}
