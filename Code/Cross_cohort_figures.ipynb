{
 "cells": [
  {
   "cell_type": "code",
   "execution_count": null,
   "metadata": {
    "colab": {
     "base_uri": "https://localhost:8080/"
    },
    "executionInfo": {
     "elapsed": 9107,
     "status": "ok",
     "timestamp": 1692739531295,
     "user": {
      "displayName": "Zhenqi Liu",
      "userId": "12135310574992527405"
     },
     "user_tz": 240
    },
    "id": "WdOqSTTn8pHf",
    "outputId": "c63cbf50-c857-472b-b263-9fdd1feec0dd"
   },
   "outputs": [],
   "source": [
    "!pip install pingouin"
   ]
  },
  {
   "cell_type": "code",
   "execution_count": null,
   "metadata": {
    "colab": {
     "base_uri": "https://localhost:8080/"
    },
    "executionInfo": {
     "elapsed": 14178,
     "status": "ok",
     "timestamp": 1692739558787,
     "user": {
      "displayName": "Zhenqi Liu",
      "userId": "12135310574992527405"
     },
     "user_tz": 240
    },
    "id": "kSTR3wXOhCOm",
    "outputId": "15f9bb14-96a2-44a1-ad0f-5a66cceb1935"
   },
   "outputs": [],
   "source": [
    "from google.colab import drive\n",
    "drive.mount(\"/content/gdrive\")"
   ]
  },
  {
   "cell_type": "code",
   "execution_count": null,
   "metadata": {
    "executionInfo": {
     "elapsed": 1577,
     "status": "ok",
     "timestamp": 1692739560360,
     "user": {
      "displayName": "Zhenqi Liu",
      "userId": "12135310574992527405"
     },
     "user_tz": 240
    },
    "id": "J-ThSsDyhGuW"
   },
   "outputs": [],
   "source": [
    "from pathlib import Path\n",
    "import h5py\n",
    "import numpy as np\n",
    "import matplotlib\n",
    "import matplotlib.pyplot as plt\n",
    "import matplotlib.patheffects as pe\n",
    "import seaborn as sns\n",
    "import pandas as pd\n",
    "import scipy.stats as sstats\n",
    "import pingouin\n",
    "%matplotlib inline"
   ]
  },
  {
   "cell_type": "code",
   "execution_count": null,
   "metadata": {
    "executionInfo": {
     "elapsed": 99,
     "status": "ok",
     "timestamp": 1692739561615,
     "user": {
      "displayName": "Zhenqi Liu",
      "userId": "12135310574992527405"
     },
     "user_tz": 240
    },
    "id": "gzFqaprWhV_4"
   },
   "outputs": [],
   "source": [
    "plt.rcParams['font.size'] = 7\n",
    "plt.rcParams[\"axes.unicode_minus\"] = False"
   ]
  },
  {
   "cell_type": "code",
   "execution_count": null,
   "metadata": {
    "executionInfo": {
     "elapsed": 103,
     "status": "ok",
     "timestamp": 1692739563416,
     "user": {
      "displayName": "Zhenqi Liu",
      "userId": "12135310574992527405"
     },
     "user_tz": 240
    },
    "id": "mA_oEzYzhYKh"
   },
   "outputs": [],
   "source": [
    "# this is for Zhen-Qi, change it when you run it\n",
    "data_dir = Path(\"/content/gdrive/MyDrive/My Documents/Research/Manuscript_JAMAPsychiatry_EP_MEND_PLS/Data\")\n",
    "figs_dir = Path(\"/content/gdrive/MyDrive/My Documents/Research/Manuscript_JAMAPsychiatry_EP_MEND_PLS/Figures\")"
   ]
  },
  {
   "cell_type": "code",
   "execution_count": null,
   "metadata": {
    "id": "4itEh0ExhscD"
   },
   "outputs": [],
   "source": [
    "# this is for Haley\n",
    "data_dir = Path(\"/content/gdrive/MyDrive/Manuscript_JAMAPsychiatry_EP_MEND_PLS/Data\")\n",
    "figs_dir = Path(\"/content/gdrive/MyDrive/Manuscript_JAMAPsychiatry_EP_MEND_PLS/Figures\")"
   ]
  },
  {
   "cell_type": "code",
   "execution_count": null,
   "metadata": {
    "executionInfo": {
     "elapsed": 1390,
     "status": "ok",
     "timestamp": 1692739569664,
     "user": {
      "displayName": "Zhenqi Liu",
      "userId": "12135310574992527405"
     },
     "user_tz": 240
    },
    "id": "1e2KdpF3hb5_"
   },
   "outputs": [],
   "source": [
    "ep_pls_loadings = h5py.File(data_dir / \"EP_pls_loadings.hdf5\")\n",
    "mend_pls_loadings = h5py.File(data_dir / \"MEND_pls_loadings.hdf5\")\n",
    "\n",
    "ep_pls_res = h5py.File(data_dir / \"EP_pls_result.hdf5\")\n",
    "mend_pls_res = h5py.File(data_dir / \"MEND_pls_result.hdf5\")"
   ]
  },
  {
   "cell_type": "code",
   "execution_count": null,
   "metadata": {
    "executionInfo": {
     "elapsed": 4,
     "status": "ok",
     "timestamp": 1692739569815,
     "user": {
      "displayName": "Zhenqi Liu",
      "userId": "12135310574992527405"
     },
     "user_tz": 240
    },
    "id": "DZCDBTxOhp73"
   },
   "outputs": [],
   "source": [
    "ep_x_loadings = ep_pls_loadings[\"results/y_loadings\"]\n",
    "mend_x_loadings = mend_pls_loadings[\"results/y_loadings\"]"
   ]
  },
  {
   "cell_type": "code",
   "execution_count": null,
   "metadata": {
    "executionInfo": {
     "elapsed": 4,
     "status": "ok",
     "timestamp": 1692739569816,
     "user": {
      "displayName": "Zhenqi Liu",
      "userId": "12135310574992527405"
     },
     "user_tz": 240
    },
    "id": "oDQKcCVtmMGa"
   },
   "outputs": [],
   "source": [
    "import colorsys\n",
    "\n",
    "def scale_lightness(rgb, scale_l):\n",
    "    # convert rgb to hls\n",
    "    h, l, s = colorsys.rgb_to_hls(*rgb)\n",
    "    # manipulate h, l, s values and return as rgb\n",
    "    return colorsys.hls_to_rgb(h, min(1, l * scale_l), s = s)"
   ]
  },
  {
   "cell_type": "code",
   "execution_count": null,
   "metadata": {
    "executionInfo": {
     "elapsed": 3,
     "status": "ok",
     "timestamp": 1692739569816,
     "user": {
      "displayName": "Zhenqi Liu",
      "userId": "12135310574992527405"
     },
     "user_tz": 240
    },
    "id": "WrtnPkb4jLR6"
   },
   "outputs": [],
   "source": [
    "\n",
    "from matplotlib.colors import ListedColormap, to_rgb, to_hex\n",
    "xload_name2color = {\n",
    "    \"FA\": \"#F19100\",\n",
    "    \"MD\": \"#305861\",\n",
    "    \"AD\": \"#31A9E7\",\n",
    "    \"RD\": \"#5C554A\"\n",
    "}\n",
    "xload_names = list(xload_name2color.keys())\n",
    "xload_colors = list(xload_name2color.values())\n",
    "cmap_xload = ListedColormap([to_rgb(_) for _ in xload_colors])"
   ]
  },
  {
   "cell_type": "code",
   "execution_count": null,
   "metadata": {
    "colab": {
     "base_uri": "https://localhost:8080/",
     "height": 121
    },
    "executionInfo": {
     "elapsed": 167,
     "status": "ok",
     "timestamp": 1692739570399,
     "user": {
      "displayName": "Zhenqi Liu",
      "userId": "12135310574992527405"
     },
     "user_tz": 240
    },
    "id": "rXN2INg7m-Ag",
    "outputId": "dd68b085-0f14-49af-f573-6ee236020105"
   },
   "outputs": [],
   "source": [
    "cmap_xload"
   ]
  },
  {
   "cell_type": "code",
   "execution_count": null,
   "metadata": {
    "executionInfo": {
     "elapsed": 431,
     "status": "ok",
     "timestamp": 1692739745009,
     "user": {
      "displayName": "Zhenqi Liu",
      "userId": "12135310574992527405"
     },
     "user_tz": 240
    },
    "id": "7Qyy7mfcjpsB"
   },
   "outputs": [],
   "source": [
    "diff_pred_names = np.loadtxt(data_dir / \"JHU_labels.txt\", delimiter=\"\\t\", dtype=str)\n",
    "diff_pred_colors = [xload_names.index(_.split(\"_\")[0]) for _ in diff_pred_names]\n",
    "# diff_pred_colors"
   ]
  },
  {
   "cell_type": "code",
   "execution_count": null,
   "metadata": {
    "executionInfo": {
     "elapsed": 109,
     "status": "ok",
     "timestamp": 1692739749100,
     "user": {
      "displayName": "Zhenqi Liu",
      "userId": "12135310574992527405"
     },
     "user_tz": 240
    },
    "id": "khSVQj83Io7o"
   },
   "outputs": [],
   "source": [
    "classified_tracts = pd.read_csv(data_dir / \"classified_tracts_w_coefs.csv\")\n",
    "classified_tracts[\"combined_ci\"] = (classified_tracts[\"EP_CI\"] > 0).astype(int) + (classified_tracts[\"MEND_CI\"] > 0).astype(int)"
   ]
  },
  {
   "cell_type": "code",
   "execution_count": null,
   "metadata": {
    "colab": {
     "base_uri": "https://localhost:8080/",
     "height": 376
    },
    "executionInfo": {
     "elapsed": 533,
     "status": "ok",
     "timestamp": 1692739918549,
     "user": {
      "displayName": "Zhenqi Liu",
      "userId": "12135310574992527405"
     },
     "user_tz": 240
    },
    "id": "-ubgdJmxibTc",
    "outputId": "1d8eec02-49bd-4091-c675-52a3626e3da6"
   },
   "outputs": [],
   "source": [
    "score_corr_r, score_corr_p = sstats.pearsonr(-1 * mend_x_loadings[:, 0], ep_x_loadings[:, 0])\n",
    "\n",
    "\n",
    "fig, ax = plt.subplots(figsize=(4, 4))\n",
    "scatter = ax.scatter(-1 * mend_x_loadings[:, 0], ep_x_loadings[:, 0],\n",
    "           c=diff_pred_colors, s=8 + classified_tracts[\"combined_ci\"] * 7, cmap=cmap_xload, linewidths=0.5, clip_on=False) #edgecolors='white'\n",
    "\n",
    "ax.axvline(x=0, c=\"k\", linewidth=0.5)#, zorder=0.5, ls=(0, (2, 1)))\n",
    "ax.axhline(y=0, c=\"k\", linewidth=0.5)#, zorder=0.7, ls=(0, (2, 1)))\n",
    "\n",
    "ax.fill_between([0, 0.517], [0.517, 0.517], [0, 0], color=to_hex(scale_lightness(to_rgb(xload_colors[1]), 0.7)), zorder=0.5, alpha=0.3)\n",
    "ax.fill_between([-0.517, 0], [0, 0], [-0.517, -0.517], color=to_hex(scale_lightness(to_rgb(xload_colors[0]), 0.7)), zorder=0.5, alpha=0.3)\n",
    "\n",
    "# reg_x = np.arange(-20, np.max(ep_pls_result[\"results\"][\"x_scores\"][:, 0]), 0.1)\n",
    "#ax.plot(reg_x, m * reg_x + b, color=\"gray\", zorder=0.5)\n",
    "\n",
    "ax.set(xlim=(-0.517, 0.517), ylim=(-0.5, 0.5), xticks=[-0.4, -0.2, 0, 0.2, 0.4], yticks=[-0.4, -0.2, 0, 0.2, 0.4],\n",
    "       xlabel=\"MEND microstructural loadings\", ylabel=\"HCPEP microstructural loadings\")\n",
    "\n",
    "ax.text(0.1, -0.25, f\"r={score_corr_r:.2f}, p={score_corr_p:.2e}\")\n",
    "\n",
    "sns.despine(top=True, right=True, trim=False, ax=ax)\n",
    "ax.tick_params(axis=u'both', which=u'both', length=1)\n",
    "\n",
    "handles, previous_labels = scatter.legend_elements()\n",
    "legend = ax.legend(handles=handles, labels=xload_names, loc=\"upper left\", bbox_to_anchor=(0, 1.0), frameon=False)\n",
    "ax.add_artist(legend)\n",
    "\n",
    "fig.savefig(figs_dir / \"mend_hcpep_xload_corr.svg\")"
   ]
  },
  {
   "cell_type": "code",
   "execution_count": null,
   "metadata": {
    "id": "0MlVjQk3h0F-"
   },
   "outputs": [],
   "source": [
    " mend_pred_X_composite = mend_pls_res[\"results/inputs/X\"][:] @ (-1 * ep_pls_res[\"results/x_weights\"][:])"
   ]
  },
  {
   "cell_type": "code",
   "execution_count": null,
   "metadata": {
    "id": "TfDgeovjIKHM"
   },
   "outputs": [],
   "source": [
    "import statsmodels.api as sm"
   ]
  },
  {
   "cell_type": "code",
   "execution_count": null,
   "metadata": {
    "colab": {
     "base_uri": "https://localhost:8080/",
     "height": 112
    },
    "executionInfo": {
     "elapsed": 6,
     "status": "ok",
     "timestamp": 1691634967102,
     "user": {
      "displayName": "Zhenqi Liu",
      "userId": "12135310574992527405"
     },
     "user_tz": 240
    },
    "id": "_WvFibwSwXQH",
    "outputId": "7c4cb207-0007-4685-e84d-6ad789ae72c4"
   },
   "outputs": [],
   "source": [
    "lm_xscore = pingouin.linear_regression(mend_pls_res[\"results/x_scores\"][:, 0], mend_pred_X_composite[:, 0])\n",
    "lm_xscore"
   ]
  },
  {
   "cell_type": "code",
   "execution_count": null,
   "metadata": {
    "colab": {
     "base_uri": "https://localhost:8080/",
     "height": 452
    },
    "executionInfo": {
     "elapsed": 131,
     "status": "ok",
     "timestamp": 1691634967227,
     "user": {
      "displayName": "Zhenqi Liu",
      "userId": "12135310574992527405"
     },
     "user_tz": 240
    },
    "id": "KqnB8RNZGbV_",
    "outputId": "68dee656-2cb0-432f-fd25-1630d167fd29"
   },
   "outputs": [],
   "source": [
    "# replication with statsmodels\n",
    "X = sm.add_constant(mend_pls_res[\"results/x_scores\"][:, 0])\n",
    "y = mend_pred_X_composite[:, 0]\n",
    "re_xscore = sm.OLS(y, X).fit()\n",
    "re_xscore.summary()"
   ]
  },
  {
   "cell_type": "code",
   "execution_count": null,
   "metadata": {
    "colab": {
     "base_uri": "https://localhost:8080/",
     "height": 112
    },
    "executionInfo": {
     "elapsed": 8,
     "status": "ok",
     "timestamp": 1691634967228,
     "user": {
      "displayName": "Zhenqi Liu",
      "userId": "12135310574992527405"
     },
     "user_tz": 240
    },
    "id": "WDJ6kK4B89Be",
    "outputId": "fafda059-0c1d-47e1-acf9-3fda082010e7"
   },
   "outputs": [],
   "source": [
    "lm_yscore = pingouin.linear_regression(mend_pls_res[\"results/y_scores\"][:, 0], mend_pred_X_composite[:, 0])\n",
    "lm_yscore"
   ]
  },
  {
   "cell_type": "code",
   "execution_count": null,
   "metadata": {
    "colab": {
     "base_uri": "https://localhost:8080/",
     "height": 452
    },
    "executionInfo": {
     "elapsed": 111,
     "status": "ok",
     "timestamp": 1691634969567,
     "user": {
      "displayName": "Zhenqi Liu",
      "userId": "12135310574992527405"
     },
     "user_tz": 240
    },
    "id": "8RUZQIsVIM9s",
    "outputId": "1de0615c-979e-492b-b470-48678e1f0b99"
   },
   "outputs": [],
   "source": [
    "# replication with statsmodels\n",
    "X = sm.add_constant(mend_pls_res[\"results/y_scores\"][:, 0])\n",
    "y = mend_pred_X_composite[:, 0]\n",
    "re_yscore = sm.OLS(y, X).fit()\n",
    "re_yscore.summary()"
   ]
  },
  {
   "cell_type": "code",
   "execution_count": null,
   "metadata": {
    "colab": {
     "base_uri": "https://localhost:8080/"
    },
    "executionInfo": {
     "elapsed": 160,
     "status": "ok",
     "timestamp": 1691634971761,
     "user": {
      "displayName": "Zhenqi Liu",
      "userId": "12135310574992527405"
     },
     "user_tz": 240
    },
    "id": "uXiFFpFcKCml",
    "outputId": "c40bf4a0-e288-434f-e395-ac646fb36449"
   },
   "outputs": [],
   "source": [
    "# re_yscore.rsquared\n",
    "re_yscore.pvalues"
   ]
  },
  {
   "cell_type": "code",
   "execution_count": null,
   "metadata": {
    "id": "5QFcMzZ2JB6N"
   },
   "outputs": [],
   "source": [
    "# plotting regression confidence intervals\n",
    "# https://stackoverflow.com/questions/17559408/confidence-and-prediction-intervals-with-statsmodels/47191929"
   ]
  },
  {
   "cell_type": "code",
   "execution_count": null,
   "metadata": {
    "colab": {
     "base_uri": "https://localhost:8080/",
     "height": 411
    },
    "executionInfo": {
     "elapsed": 800,
     "status": "ok",
     "timestamp": 1691636631564,
     "user": {
      "displayName": "Zhenqi Liu",
      "userId": "12135310574992527405"
     },
     "user_tz": 240
    },
    "id": "AE0CMnzc9Est",
    "outputId": "f5c85284-8a69-4e2f-c858-a0e7f42c5ad1"
   },
   "outputs": [],
   "source": [
    "fig, ax = plt.subplots(figsize=(4, 4))\n",
    "scatter = ax.scatter(mend_pls_res[\"results/x_scores\"][:, 0], mend_pred_X_composite[:, 0],\n",
    "           s=15, c=\"#305861\", linewidths=0.5, edgecolors='white')\n",
    "ax.axvline(x=0, c=\"silver\", zorder=0.7, ls=(0, (2, 1)))\n",
    "ax.axhline(y=0, c=\"silver\", zorder=0.7, ls=(0, (2, 1)))\n",
    "\n",
    "regline_x = np.arange(-18, 20, 0.1)\n",
    "regline_y = lm_yscore.loc[1, \"coef\"] * regline_x + lm_yscore.loc[0, \"coef\"]\n",
    "\n",
    "ax.plot(regline_x, regline_y, lw=1.5, color=\"#305861\", path_effects=[pe.Stroke(linewidth=3, foreground='white'), pe.Normal()])\n",
    "\n",
    "predictions = re_xscore.get_prediction(sm.add_constant(regline_x))\n",
    "pred_summary = predictions.summary_frame(alpha=0.05)\n",
    "ax.fill_between(regline_x, pred_summary[\"mean_ci_upper\"], pred_summary[\"mean_ci_lower\"], color=\"#A9BBC5\", zorder=0, alpha=0.7)\n",
    "\n",
    "ax.set(xlim=(-20, 20), ylim=(20, 20), xticks=[-20, -10, 0, 10, 20], yticks=[-20, -10, 0, 10, 20],\n",
    "       xlabel=\"Empirical MEND microstructural scores\", ylabel=\"Predicted MEND microstructural scores\")\n",
    "\n",
    "ax.text(10, -10, f\"$R^2$={re_xscore.rsquared:.2f}\\np={re_xscore.pvalues[1]:.2e}\")\n",
    "\n",
    "sns.despine(top=True, right=True, trim=False, ax=ax)\n",
    "ax.tick_params(axis=u'both', which=u'both', length=1)\n",
    "\n",
    "fig.savefig(figs_dir / \"mend_pred_xscore.svg\")"
   ]
  },
  {
   "cell_type": "code",
   "execution_count": null,
   "metadata": {
    "colab": {
     "base_uri": "https://localhost:8080/",
     "height": 451
    },
    "executionInfo": {
     "elapsed": 1459,
     "status": "ok",
     "timestamp": 1691195958674,
     "user": {
      "displayName": "Zhenqi Liu",
      "userId": "12135310574992527405"
     },
     "user_tz": 240
    },
    "id": "uzNhgbB2Bv9q",
    "outputId": "5ed77984-1618-4721-ad9d-371b2702d3d5"
   },
   "outputs": [],
   "source": [
    "# this is only for reference to check the CI plotting\n",
    "sns.regplot(x=mend_pls_result[\"results/x_scores\"][:, 0], y=mend_pred_X_composite[:, 0], ci=95)"
   ]
  },
  {
   "cell_type": "code",
   "execution_count": null,
   "metadata": {
    "colab": {
     "base_uri": "https://localhost:8080/",
     "height": 380
    },
    "executionInfo": {
     "elapsed": 438,
     "status": "ok",
     "timestamp": 1691636650905,
     "user": {
      "displayName": "Zhenqi Liu",
      "userId": "12135310574992527405"
     },
     "user_tz": 240
    },
    "id": "kgv0FqhpCBt5",
    "outputId": "a00a1ec4-4cbb-443f-e1a0-38e55212120e"
   },
   "outputs": [],
   "source": [
    "fig, ax = plt.subplots(figsize=(4, 4))\n",
    "scatter = ax.scatter(mend_pls_res[\"results/y_scores\"][:, 0], mend_pred_X_composite[:, 0],\n",
    "           s=15, c=\"#305861\", linewidths=0.5, edgecolors='white')\n",
    "ax.axvline(x=0, c=\"silver\", zorder=0.7, ls=(0, (2, 1)))\n",
    "ax.axhline(y=0, c=\"silver\", zorder=0.7, ls=(0, (2, 1)))\n",
    "\n",
    "regline_x = np.arange(-5, 8, 0.1)\n",
    "regline_y = lm_yscore.loc[1, \"coef\"] * regline_x + lm_yscore.loc[0, \"coef\"]\n",
    "\n",
    "ax.plot(regline_x, regline_y, lw=1.5, color=\"#305861\", path_effects=[pe.Stroke(linewidth=3, foreground='white'), pe.Normal()])\n",
    "\n",
    "predictions = re_yscore.get_prediction(sm.add_constant(regline_x))\n",
    "pred_summary = predictions.summary_frame(alpha=0.05)\n",
    "ax.fill_between(regline_x, pred_summary[\"mean_ci_upper\"], pred_summary[\"mean_ci_lower\"], color=\"#A9BBC5\", zorder=0, alpha=0.7)\n",
    "\n",
    "ax.set(xlim=(-6, 8), ylim=(-20, 20), xticks=[-6, -4, -2, 0, 2, 4, 6, 8], yticks=[-20, -10, 0, 10, 20],\n",
    "       xlabel=\"Empirical MEND clinical scores\", ylabel=\"Predicted MEND clinical scores\")\n",
    "\n",
    "ax.text(4, -15, f\"$R^2$={re_yscore.rsquared:.2f}\\np={re_yscore.pvalues[1]:.2e}\")\n",
    "\n",
    "sns.despine(top=True, right=True, trim=False, ax=ax)\n",
    "ax.tick_params(axis=u'both', which=u'both', length=1)\n",
    "\n",
    "fig.savefig(figs_dir / \"mend_pred_yscore.svg\")"
   ]
  },
  {
   "cell_type": "code",
   "execution_count": null,
   "metadata": {
    "colab": {
     "base_uri": "https://localhost:8080/",
     "height": 451
    },
    "executionInfo": {
     "elapsed": 1452,
     "status": "ok",
     "timestamp": 1691195926674,
     "user": {
      "displayName": "Zhenqi Liu",
      "userId": "12135310574992527405"
     },
     "user_tz": 240
    },
    "id": "sdbFHHKa9pAP",
    "outputId": "5d622435-5b18-4305-bb0c-abe7327020f3"
   },
   "outputs": [],
   "source": [
    "# this is only for reference to check the CI plotting\n",
    "sns.regplot(x=mend_pls_result[\"results/y_scores\"][:, 0], y=mend_pred_X_composite[:, 0], ci=95)"
   ]
  },
  {
   "cell_type": "code",
   "execution_count": null,
   "metadata": {
    "colab": {
     "base_uri": "https://localhost:8080/",
     "height": 377
    },
    "executionInfo": {
     "elapsed": 534,
     "status": "ok",
     "timestamp": 1691620121691,
     "user": {
      "displayName": "Zhenqi Liu",
      "userId": "12135310574992527405"
     },
     "user_tz": 240
    },
    "id": "cOStwA9QMSzd",
    "outputId": "f21cbffd-783f-4adb-9b39-8a994f9c7bc9"
   },
   "outputs": [],
   "source": [
    "ep_varexp = ep_pls_res[\"results/varexp\"][:]\n",
    "ep_varexp_pval = ep_pls_res[\"results/permres/pvals\"][:]\n",
    "ep_varexp_pval_color = [\"tab:red\" if p<=0.05 else \"silver\" for p in ep_varexp_pval]\n",
    "\n",
    "fig, ax = plt.subplots(figsize=(4, 4))\n",
    "ax.scatter(range(len(ep_varexp)), ep_varexp, s=15, c=ep_varexp_pval_color)\n",
    "\n",
    "ax.set(xticks=[0, 10, 20, 30, 40], yticks=[0, 0.1, 0.2, 0.3, 0.4],\n",
    "       xlabel=\"Latent components\", ylabel=\"Covariance explained\")\n",
    "\n",
    "# pax = ax.twinx()\n",
    "# pax.scatter(range(len(ep_varexp)), ep_varexp_pval, s=10, c=\"tab:orange\")\n",
    "\n",
    "sns.despine(top=True, right=True, trim=False, ax=ax)\n",
    "ax.tick_params(axis=u'both', which=u'both', length=1)\n",
    "\n",
    "fig.savefig(figs_dir / \"ep_pls_varexp.svg\")"
   ]
  },
  {
   "cell_type": "code",
   "execution_count": null,
   "metadata": {
    "colab": {
     "base_uri": "https://localhost:8080/",
     "height": 380
    },
    "executionInfo": {
     "elapsed": 2143,
     "status": "ok",
     "timestamp": 1691620127935,
     "user": {
      "displayName": "Zhenqi Liu",
      "userId": "12135310574992527405"
     },
     "user_tz": 240
    },
    "id": "efecgB7rNsZX",
    "outputId": "baee0e26-61d4-43f2-ac7d-b237cdbb1c8f"
   },
   "outputs": [],
   "source": [
    "mend_varexp = mend_pls_res[\"results/varexp\"][:]\n",
    "mend_varexp_pval = mend_pls_res[\"results/permres/pvals\"][:]\n",
    "mend_varexp_pval_color = [\"tab:red\" if p<=0.05 else \"silver\" for p in mend_varexp_pval]\n",
    "\n",
    "fig, ax = plt.subplots(figsize=(4, 4))\n",
    "ax.scatter(range(len(mend_varexp)), mend_varexp, s=15, c=mend_varexp_pval_color)\n",
    "\n",
    "ax.set(xticks=[0, 10, 20, 30, 40, 50], yticks=[0, 0.1, 0.2, 0.3, 0.4],\n",
    "       xlabel=\"Latent components\", ylabel=\"Covariance explained\")\n",
    "\n",
    "sns.despine(top=True, right=True, trim=False, ax=ax)\n",
    "ax.tick_params(axis=u'both', which=u'both', length=1)\n",
    "\n",
    "fig.savefig(figs_dir / \"mend_pls_varexp.svg\")"
   ]
  },
  {
   "cell_type": "code",
   "execution_count": null,
   "metadata": {
    "id": "hqpL_j67Mldv"
   },
   "outputs": [],
   "source": []
  }
 ],
 "metadata": {
  "colab": {
   "provenance": []
  },
  "kernelspec": {
   "display_name": "Python 3 (ipykernel)",
   "language": "python",
   "name": "python3"
  },
  "language_info": {
   "codemirror_mode": {
    "name": "ipython",
    "version": 3
   },
   "file_extension": ".py",
   "mimetype": "text/x-python",
   "name": "python",
   "nbconvert_exporter": "python",
   "pygments_lexer": "ipython3",
   "version": "3.9.6"
  }
 },
 "nbformat": 4,
 "nbformat_minor": 4
}
