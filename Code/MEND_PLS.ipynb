{
 "cells": [
  {
   "cell_type": "markdown",
   "id": "1dff28e9-81eb-47c2-8f93-8244ee2fb3ab",
   "metadata": {
    "tags": []
   },
   "source": [
    "# PLS regression analysis for MEND DTI and clinical data"
   ]
  },
  {
   "cell_type": "markdown",
   "id": "349d0b8f-569e-459d-9585-87fe31786b3c",
   "metadata": {},
   "source": [
    "- Project:        HCP-EP\n",
    "- File Name:      PLS_regression_MEND\n",
    "- Author:         Haley Wang\n",
    "- Date Created:   2023-07-06\n",
    "- Last Modified:  2023-07-06\n",
    "- Code Status:    Finished"
   ]
  },
  {
   "cell_type": "code",
   "execution_count": null,
   "id": "c4ed33df-f46a-4d09-b48d-462fbca025df",
   "metadata": {},
   "outputs": [],
   "source": [
    "import numpy as np\n",
    "import pandas as pd\n",
    "import pyls\n",
    "import matplotlib\n",
    "import matplotlib.pyplot as plt\n",
    "from matplotlib.colors import ListedColormap\n",
    "import seaborn as sns\n",
    "from netneurotools import datasets, stats, plotting\n",
    "from scipy.stats import zscore, pearsonr, ttest_ind\n",
    "from scipy.spatial.distance import squareform, pdist"
   ]
  },
  {
   "cell_type": "code",
   "execution_count": null,
   "id": "cd8f7c76-6a44-4881-9d8c-083004e6f8f3",
   "metadata": {},
   "outputs": [],
   "source": [
    "from IPython.display import display, Javascript\n",
    "\n",
    "def beep():\n",
    "    display(Javascript('new Audio(\"https://www.soundjay.com/buttons/sounds/button-09a.mp3\").play()'))"
   ]
  },
  {
   "cell_type": "code",
   "execution_count": null,
   "id": "416540b7-c6ec-4fbc-857c-a706db15d5b9",
   "metadata": {},
   "outputs": [],
   "source": [
    "pd.set_option('display.max_rows', None)\n",
    "pd.set_option('display.max_columns', None)\n",
    "#pd.reset_option('all')"
   ]
  },
  {
   "cell_type": "code",
   "execution_count": null,
   "id": "4f2a8542-be26-4ade-9b60-8cefe88358db",
   "metadata": {},
   "outputs": [],
   "source": [
    "\"\"\"\n",
    "load data (age and sex were regressed out)\n",
    "\"\"\"\n",
    "\n",
    "df = pd.read_csv('/u/project/CCN/cbearden/haleywan/qunex_studyfolder/analysis/scripts/PLS_MEND_Replication/MEND_PLS_all.csv')\n"
   ]
  },
  {
   "cell_type": "code",
   "execution_count": null,
   "id": "ba3e9de3-6e7f-4483-8644-7e0dde52cbd4",
   "metadata": {
    "tags": []
   },
   "outputs": [],
   "source": [
    "\"\"\"\n",
    "Create X and Y for PLS\n",
    "\"\"\"\n",
    "predictor_cleaned =  df.filter(regex='^(FA|MD|AD|RD)')\n",
    "response_cleaned = df.filter(regex='^(BPRS|SANS|YMRS)')"
   ]
  },
  {
   "cell_type": "code",
   "execution_count": null,
   "id": "d490cbf3-a681-4a85-ac67-117ec01babc8",
   "metadata": {
    "tags": []
   },
   "outputs": [],
   "source": [
    "BPRS = df.filter(regex='^(SANS)')\n",
    "len(BPRS.columns)"
   ]
  },
  {
   "cell_type": "code",
   "execution_count": null,
   "id": "d91911b6-eb7e-4ee0-9638-4b3250040a4c",
   "metadata": {},
   "outputs": [],
   "source": [
    "\"\"\"\n",
    "behavioral PLS\n",
    "\"\"\"\n",
    "X = zscore(predictor_cleaned)\n",
    "Y = zscore(response_cleaned)"
   ]
  },
  {
   "cell_type": "code",
   "execution_count": null,
   "id": "e71e0a55-829f-4c5f-be05-5271ca7edf9d",
   "metadata": {
    "tags": []
   },
   "outputs": [],
   "source": [
    "len(Y.columns)"
   ]
  },
  {
   "cell_type": "code",
   "execution_count": null,
   "id": "d92e8202-5a17-4321-b56f-6a35335d9750",
   "metadata": {
    "tags": []
   },
   "outputs": [],
   "source": [
    "pls_result = pyls.behavioral_pls(X, Y, n_boot=5000, n_perm=10000, n_split=0, \n",
    "                                 test_split=0, covariance=False, rotate=True, \n",
    "                                 flip_sign=False, ci=95, verbose=True, n_proc='max')"
   ]
  },
  {
   "cell_type": "code",
   "execution_count": null,
   "id": "4384ccb4-7ffc-4103-b1c9-4e8ca7dbad48",
   "metadata": {},
   "outputs": [],
   "source": [
    "pyls.save_results('MEND_pls_result.hdf5', pls_result)"
   ]
  },
  {
   "cell_type": "code",
   "execution_count": null,
   "id": "963f815d-1c7f-4366-adfc-5457c4710484",
   "metadata": {
    "tags": []
   },
   "outputs": [],
   "source": [
    "pls_result.permres.pvals"
   ]
  },
  {
   "cell_type": "code",
   "execution_count": null,
   "id": "c35d6d6b-d5a0-4274-b0d2-5da0d2448a2c",
   "metadata": {},
   "outputs": [],
   "source": [
    "pls_result.varexp"
   ]
  },
  {
   "cell_type": "code",
   "execution_count": null,
   "id": "1fcdaf8e-abb5-4ecc-9d02-7fad15cbc7d2",
   "metadata": {
    "tags": []
   },
   "outputs": [],
   "source": [
    "\"\"\"\n",
    "loadings - neural\n",
    "\"\"\"\n",
    "xload = pyls.behavioral_pls(Y, X, n_boot=5000, n_perm=0, test_split=0)"
   ]
  },
  {
   "cell_type": "code",
   "execution_count": null,
   "id": "1a12e327-9b6d-46e3-9e36-c8d502e69ea9",
   "metadata": {},
   "outputs": [],
   "source": [
    "pyls.save_results('MEND_pls_loadings.hdf5', xload)"
   ]
  },
  {
   "cell_type": "code",
   "execution_count": null,
   "id": "353b6fd0-6086-4304-b54e-95d97648985f",
   "metadata": {},
   "outputs": [],
   "source": [
    "lv = 0 # latent variable\n",
    "beep()"
   ]
  },
  {
   "cell_type": "code",
   "execution_count": null,
   "id": "37758dc2-e36b-45fd-9459-2495ac92feb2",
   "metadata": {
    "tags": []
   },
   "outputs": [],
   "source": [
    "# Assessing contribution of variables within a dimension\n",
    "effect_size = pow(xload[\"y_loadings\"][:, lv],2)\n",
    "std_effect_size = zscore(effect_size)\n",
    "relidx = abs(std_effect_size) > 2"
   ]
  },
  {
   "cell_type": "code",
   "execution_count": null,
   "id": "e8545e31-b12f-4923-9b8c-a18b144970d8",
   "metadata": {},
   "outputs": [],
   "source": [
    "err = (xload[\"bootres\"][\"y_loadings_ci\"][:, lv, 1]\n",
    "      - xload[\"bootres\"][\"y_loadings_ci\"][:, lv, 0]) / 2\n",
    "#relidx = (abs(xload[\"y_loadings\"][:, lv]) - err) > 0.10 # CI doesnt cross 0 , LV 0 - 0.265; LV1 - 0.1395, LV2 - 0.1365\n",
    "sorted_idx = np.argsort(-1 * xload[\"y_loadings\"][relidx, lv])\n",
    "\n",
    "# Extract column names as a list\n",
    "diffusion_idx = predictor_cleaned.columns.tolist()\n",
    "\n",
    "#plot the figure\n",
    "plt.figure(figsize=(7.5,6))\n",
    "plt.ion()\n",
    "\n",
    "#plt.bar(np.sort(xload[\"y_loadings\"][relidx, lv]), np.arange(sum(relidx)), yerr=err[relidx][sorted_idx])\n",
    "plt.barh(np.arange(sum(relidx)), np.sort(-1 * xload[\"y_loadings\"][relidx, lv]), xerr=err[relidx][sorted_idx], align='center')\n",
    "#plt.barh(np.arange(0,10), loadings, xerr=err[relidx][sorted_idx], align='center')\n",
    "plt.yticks(np.arange(sum(relidx)), labels=predictor_cleaned.columns[relidx][sorted_idx],\n",
    "           rotation='horizontal', fontsize=14)\n",
    "plt.xticks(fontsize=14)\n",
    "#plt.yticks(np.arange(0,10), labels=predictor_cleaned.columns[relidx][sorted_idx],\n",
    "#           rotation='horizontal')\n",
    "plt.xlabel(\"Microstructural Loading Coefficients\", fontsize=16, fontweight=\"bold\")\n",
    "plt.tight_layout()\n",
    "#plt.savefig(\"/u/project/cbearden/haleywan/qunex_studyfolder/analysis/scripts/PLS_ROI_Analysis/figures/bar_pls_lv0_nload.tiff\")"
   ]
  },
  {
   "cell_type": "code",
   "execution_count": null,
   "id": "9495323e-dd0c-4de2-9c0f-a2601cadc747",
   "metadata": {},
   "outputs": [],
   "source": [
    "\"\"\"\n",
    "loadings - psychopathology\n",
    "\"\"\"\n",
    "\n",
    "err = (pls_result[\"bootres\"][\"y_loadings_ci\"][:, lv, 1]\n",
    "      - pls_result[\"bootres\"][\"y_loadings_ci\"][:, lv, 0]) / 2\n",
    "relidx = (abs(pls_result[\"y_loadings\"][:, lv]) - err) > 0  # CI doesnt cross 0\n",
    "sorted_idx = np.argsort(pls_result[\"y_loadings\"][relidx, lv])\n",
    "plt.figure(figsize=(7,6))\n",
    "plt.ion()\n",
    "plt.barh(np.arange(sum(relidx)), np.sort(pls_result[\"y_loadings\"][relidx, lv]), \n",
    "         xerr=err[relidx][sorted_idx], align='center')\n",
    "plt.yticks(np.arange(sum(relidx)), labels=response_cleaned.columns[relidx][sorted_idx],\n",
    "           rotation='horizontal', fontsize=14)\n",
    "plt.xticks(fontsize=14)\n",
    "plt.xlabel(\"Psychopathology Loading Coefficients\", fontsize=16, fontweight=\"bold\")\n",
    "plt.tight_layout()"
   ]
  },
  {
   "cell_type": "code",
   "execution_count": null,
   "id": "a60b08ed-deaa-4eab-9625-81a31c113e0e",
   "metadata": {},
   "outputs": [],
   "source": [
    "\"\"\"\n",
    "loadings - psychopathology\n",
    "\"\"\"\n",
    "\n",
    "err = (pls_result[\"bootres\"][\"y_loadings_ci\"][:, lv, 1]\n",
    "      - pls_result[\"bootres\"][\"y_loadings_ci\"][:, lv, 0]) / 2\n",
    "relidx = (abs(pls_result[\"y_loadings\"][:, lv]) - err) > 0  # CI doesnt cross 0\n",
    "sorted_idx = np.argsort(-1 * pls_result[\"y_loadings\"][relidx, lv])\n",
    "plt.figure(figsize=(7,6))\n",
    "plt.ion()\n",
    "plt.barh(np.arange(sum(relidx)), np.sort(-1 * pls_result[\"y_loadings\"][relidx, lv]), \n",
    "         xerr=err[relidx][sorted_idx], align='center')\n",
    "plt.yticks(np.arange(sum(relidx)), labels=response_cleaned.columns[relidx][sorted_idx],\n",
    "           rotation='horizontal', fontsize=14)\n",
    "plt.xticks(fontsize=14)\n",
    "plt.xlabel(\"Psychopathology Loading Coefficients\", fontsize=16, fontweight=\"bold\")\n",
    "plt.tight_layout()\n",
    "#plt.savefig(\"/u/project/cbearden/haleywan/qunex_studyfolder/analysis/scripts/PLS_ROI_Analysis/figures/bar_pls_lv1_pload.tiff\")"
   ]
  },
  {
   "cell_type": "code",
   "execution_count": null,
   "id": "adf1121e-1fd0-4e09-aaf3-368d94d08d63",
   "metadata": {},
   "outputs": [],
   "source": [
    "## for visualization\n",
    "\n",
    "## export the list of ROI loadings with significant contributions\n",
    "ROIs = predictor_cleaned.columns[relidx][sorted_idx].tolist()\n",
    "ROIs"
   ]
  },
  {
   "cell_type": "code",
   "execution_count": null,
   "id": "ab5b347d-4f04-4d66-a3f4-8bb5efdd7360",
   "metadata": {},
   "outputs": [],
   "source": [
    "coefs = xload[\"y_loadings\"][relidx, lv].tolist()\n",
    "coefs"
   ]
  },
  {
   "cell_type": "code",
   "execution_count": null,
   "id": "f9d44192-2e89-4fe0-8d2a-9f1e1d21d1e1",
   "metadata": {},
   "outputs": [],
   "source": [
    "# put them together as a df\n",
    "chart = pd.DataFrame({'ROIs': ROIs, 'Coefs': coefs})\n",
    "\n",
    "# Make the coeeficients absolute values\n",
    "chart['Coefs'] = chart['Coefs'].abs()\n",
    "chart = chart.sort_values(by='Coefs', ascending=False)\n",
    "\n",
    "# Remove the suffix of everything in front of the underscore\n",
    "chart['ROIs'] = chart['ROIs'].str.split('_', expand=True).iloc[:, 1]\n",
    "chart = chart.reset_index()\n",
    "\n",
    "# Remove the repetative ROIs and keep the largest coefs\n",
    "chart = chart.drop_duplicates(subset='ROIs', keep='first')\n",
    "chart['ROIs'] = chart['ROIs'].str.replace(' ', '_')\n",
    "chart"
   ]
  },
  {
   "cell_type": "code",
   "execution_count": null,
   "id": "4310b02a-21e9-45c2-88b3-a9d48ea27a76",
   "metadata": {},
   "outputs": [],
   "source": [
    "chart.to_csv('MEND_loading_chart_for_vis.csv', index=False)"
   ]
  }
 ],
 "metadata": {
  "kernelspec": {
   "display_name": "analysis",
   "language": "python",
   "name": "analysis"
  },
  "language_info": {
   "codemirror_mode": {
    "name": "ipython",
    "version": 3
   },
   "file_extension": ".py",
   "mimetype": "text/x-python",
   "name": "python",
   "nbconvert_exporter": "python",
   "pygments_lexer": "ipython3",
   "version": "3.10.4"
  }
 },
 "nbformat": 4,
 "nbformat_minor": 5
}
