{
 "cells": [
  {
   "cell_type": "markdown",
   "id": "41f38712-4fb5-41d4-8cc1-51689e6a34f9",
   "metadata": {},
   "source": [
    "# Generate coef overlay for tract mapping"
   ]
  },
  {
   "cell_type": "markdown",
   "id": "34c2dde6-92dd-45c2-9789-d494f5f5c11a",
   "metadata": {},
   "source": [
    "- Project:        HCP-EP\n",
    "- File Name:      Generate_overlay\n",
    "- Author:         Haley Wang\n",
    "- Date Created:   2023-08-07\n",
    "- Last Modified:  2023-08-08\n",
    "- Code Status:    TESTING"
   ]
  },
  {
   "cell_type": "code",
   "execution_count": 1,
   "id": "c5e6a957-7451-4f93-bc8a-47057dd089fd",
   "metadata": {},
   "outputs": [],
   "source": [
    "from pathlib import Path\n",
    "import h5py\n",
    "import os\n",
    "import requests\n",
    "import numpy as np\n",
    "import matplotlib\n",
    "import matplotlib.pyplot as plt\n",
    "import matplotlib.colors as colors\n",
    "from matplotlib.colors import ListedColormap\n",
    "import seaborn as sns\n",
    "import pandas as pd\n",
    "import scipy.stats as sstats"
   ]
  },
  {
   "cell_type": "code",
   "execution_count": 2,
   "id": "49d36078-23b5-48f3-9bb7-d1916a9a5e99",
   "metadata": {},
   "outputs": [],
   "source": [
    "pd.set_option('display.max_rows', None)\n",
    "pd.set_option('display.max_columns', None)\n",
    "pd.set_option('display.max_colwidth', None)\n",
    "\n",
    "#pd.reset_option('all')"
   ]
  },
  {
   "cell_type": "markdown",
   "id": "5bd63f13-effe-456a-af54-ce1b1d06a5e4",
   "metadata": {
    "tags": []
   },
   "source": [
    "### Import PLS results from both EP and MEND"
   ]
  },
  {
   "cell_type": "code",
   "execution_count": 77,
   "id": "b5bb3992-abf7-4ad9-9f8a-ee6e0d61170e",
   "metadata": {},
   "outputs": [],
   "source": [
    "\"\"\"\n",
    "load data\n",
    "\"\"\"\n",
    "\n",
    "df_all = pd.read_csv('/u/project/CCN/cbearden/haleywan/qunex_studyfolder/analysis/scripts/PLS_MEND_Replication/tracts_interpretation.csv')"
   ]
  },
  {
   "cell_type": "code",
   "execution_count": 78,
   "id": "13d259b2-d656-4a15-8d51-41c4ed2734ee",
   "metadata": {
    "tags": []
   },
   "outputs": [],
   "source": [
    "# the 4 dfs are df_FA, df_MD, df_AD, df_RD\n",
    "\n",
    "# import JHU lookup table\n",
    "lut = pd.read_csv('/u/project/CCN/cbearden/haleywan/qunex_studyfolder/analysis/scripts/visualization/lut_w_group.csv')"
   ]
  },
  {
   "cell_type": "code",
   "execution_count": 79,
   "id": "07f8d008-3c97-4bd6-9b9e-8108c045745a",
   "metadata": {
    "tags": []
   },
   "outputs": [],
   "source": [
    "# Get unique values in the 'column_name' column\n",
    "unique_values = df_all['Metrics'].unique()"
   ]
  },
  {
   "cell_type": "code",
   "execution_count": 80,
   "id": "43491083-83e1-46d7-9cdf-fca759ac8ada",
   "metadata": {},
   "outputs": [],
   "source": [
    "#cmap = matplotlib.cm.get_cmap('YlOrBr') #orange\n",
    "cmap = matplotlib.cm.get_cmap('RdYlBu') #Blues, Blues_r for reverse\n",
    "norm = matplotlib.colors.Normalize(vmin=-0.51, vmax=0.51)"
   ]
  },
  {
   "cell_type": "code",
   "execution_count": 81,
   "id": "978b0749-5d3f-4629-b266-848d2e149c08",
   "metadata": {
    "tags": []
   },
   "outputs": [],
   "source": [
    "# Separate DataFrames without using a dictionary\n",
    "for value in unique_values:\n",
    "    filtered_df = df_all[df_all['Metrics'] == value]\n",
    "    filtered_df.reset_index(drop=True, inplace=True)\n",
    "    filtered_df['Tracts'] = lut['Label']\n",
    "    \n",
    "    # Add an empty column named 'new_column' as the second column\n",
    "    filtered_df.insert(1, 'Groups', pd.Series())\n",
    "    filtered_df['Groups'] = lut['Groups']\n",
    "\n",
    "    globals()[f'df_{value}'] = filtered_df"
   ]
  },
  {
   "cell_type": "code",
   "execution_count": 45,
   "id": "2ceacf38-1a42-41fa-b626-4fa529c0d03a",
   "metadata": {
    "jupyter": {
     "source_hidden": true
    },
    "tags": []
   },
   "outputs": [],
   "source": [
    "# List of dataframes to concatenate\n",
    "temp = [df_FA, df_MD, df_AD, df_RD]\n",
    "\n",
    "# Concatenate vertically\n",
    "result_df = pd.concat(temp, axis=0)\n",
    "\n",
    "# Reset index if needed\n",
    "result_df.reset_index(drop=True, inplace=True)\n",
    "\n",
    "result_df.to_csv('classified_tracts_w_coefs.csv', index=False)"
   ]
  },
  {
   "cell_type": "markdown",
   "id": "3122ac0f-da2e-4309-9efc-004039fe126d",
   "metadata": {},
   "source": [
    "### For EP"
   ]
  },
  {
   "cell_type": "code",
   "execution_count": 75,
   "id": "8b3b0598-a86e-4bf5-b0f8-18aa56b7ff46",
   "metadata": {},
   "outputs": [],
   "source": [
    "# List of dataframes\n",
    "dataframes = [df_FA, df_MD, df_AD, df_RD]\n",
    "\n",
    "# Define the operations you want to perform\n",
    "def generate_RGBA(df):\n",
    "    coef_RGB = cmap(norm(df['EP_coefs']), bytes=True, alpha=0)\n",
    "    df['R'], df['G'], df['B'], df['A'] = coef_RGB[:, 0], coef_RGB[:, 1], coef_RGB[:, 2], coef_RGB[:, 3]\n",
    "    df.loc[df['EP_CI'] <= 0, ['R', 'G', 'B']] = 255\n",
    "    df.loc[df['EP_CI'] <= 0, ['A']] = 0\n",
    "    \n",
    "    # Drop unnecessary columns\n",
    "    columns_to_drop = ['Groups', 'Metrics', 'EP_coefs', 'MEND_coefs', 'EP_error', 'MEND_error', 'EP_CI', 'MEND_CI']\n",
    "    df.drop(columns=columns_to_drop, inplace=True)\n",
    "    \n",
    "    # Create a new column 'Index' with values from 1 to 48\n",
    "    df.insert(0, 'Index', range(1, 49))\n",
    "    return df\n",
    "\n",
    "# Loop through the list of dataframes and apply the operations\n",
    "for i, df in enumerate(dataframes):\n",
    "    dataframes[i] = generate_RGBA(df)"
   ]
  },
  {
   "cell_type": "code",
   "execution_count": 76,
   "id": "6e2e1e80-ba97-47fe-bbac-05585af983c7",
   "metadata": {},
   "outputs": [],
   "source": [
    "df_FA.to_csv('/u/project/CCN/cbearden/haleywan/qunex_studyfolder/analysis/scripts/visualization/EP_FA.txt', sep=\" \", index=False, header=False)\n",
    "df_MD.to_csv('/u/project/CCN/cbearden/haleywan/qunex_studyfolder/analysis/scripts/visualization/EP_MD.txt', sep=\" \", index=False, header=False)\n",
    "df_AD.to_csv('/u/project/CCN/cbearden/haleywan/qunex_studyfolder/analysis/scripts/visualization/EP_AD.txt', sep=\" \", index=False, header=False)\n",
    "df_RD.to_csv('/u/project/CCN/cbearden/haleywan/qunex_studyfolder/analysis/scripts/visualization/EP_RD.txt', sep=\" \", index=False, header=False)"
   ]
  },
  {
   "cell_type": "markdown",
   "id": "f9e169bc-01c5-4f41-932d-08a758d64bf6",
   "metadata": {},
   "source": [
    "### For MEND"
   ]
  },
  {
   "cell_type": "code",
   "execution_count": 82,
   "id": "95085925-4719-439b-932e-cf7954a18bd3",
   "metadata": {},
   "outputs": [],
   "source": [
    "### make sure to re-run the data import\n",
    "\n",
    "# List of dataframes\n",
    "dataframes = [df_FA, df_MD, df_AD, df_RD]\n",
    "\n",
    "# Define the operations you want to perform\n",
    "def generate_RGBA(df):\n",
    "    coef_RGB = cmap(norm(df['MEND_coefs']), bytes=True, alpha=0)\n",
    "    df['R'], df['G'], df['B'], df['A'] = coef_RGB[:, 0], coef_RGB[:, 1], coef_RGB[:, 2], coef_RGB[:, 3]\n",
    "    df.loc[df['EP_CI'] <= 0, ['R', 'G', 'B']] = 255\n",
    "    df.loc[df['EP_CI'] <= 0, ['A']] = 0\n",
    "    \n",
    "    # Drop unnecessary columns\n",
    "    columns_to_drop = ['Groups', 'Metrics', 'EP_coefs', 'MEND_coefs', 'EP_error', 'MEND_error', 'EP_CI', 'MEND_CI']\n",
    "    df.drop(columns=columns_to_drop, inplace=True)\n",
    "    \n",
    "    # Create a new column 'Index' with values from 1 to 48\n",
    "    df.insert(0, 'Index', range(1, 49))\n",
    "    return df\n",
    "\n",
    "# Loop through the list of dataframes and apply the operations\n",
    "for i, df in enumerate(dataframes):\n",
    "    dataframes[i] = generate_RGBA(df)"
   ]
  },
  {
   "cell_type": "code",
   "execution_count": 83,
   "id": "361def61-2a8d-4ea3-8f99-bebaf5052009",
   "metadata": {},
   "outputs": [],
   "source": [
    "df_FA.to_csv('/u/project/CCN/cbearden/haleywan/qunex_studyfolder/analysis/scripts/visualization/MEND_FA.txt', sep=\" \", index=False, header=False)\n",
    "df_MD.to_csv('/u/project/CCN/cbearden/haleywan/qunex_studyfolder/analysis/scripts/visualization/MEND_MD.txt', sep=\" \", index=False, header=False)\n",
    "df_AD.to_csv('/u/project/CCN/cbearden/haleywan/qunex_studyfolder/analysis/scripts/visualization/MEND_AD.txt', sep=\" \", index=False, header=False)\n",
    "df_RD.to_csv('/u/project/CCN/cbearden/haleywan/qunex_studyfolder/analysis/scripts/visualization/MEND_RD.txt', sep=\" \", index=False, header=False)"
   ]
  },
  {
   "cell_type": "markdown",
   "id": "e7c0d094-63d9-4adb-8bcb-604b73429454",
   "metadata": {},
   "source": [
    "### Freeview console code, for reference"
   ]
  },
  {
   "cell_type": "code",
   "execution_count": null,
   "id": "1d0d4f38-e8da-46a9-9516-19635fd55096",
   "metadata": {},
   "outputs": [],
   "source": [
    "os.chdir('/u/project/CCN/cbearden/haleywan/qunex_studyfolder/analysis/scripts/visualization')\n",
    "\n",
    "os.system('freeview\n",
    "-v /u/project/CCN/cbearden/haleywan/qunex_studyfolder/analysis/scripts/visualization/MNI152_T1_1mm_brain.nii.gz:colormap=grayscale:grayscale=3735,8817:isosurface=on:isosurface=1923,8817:isosurface_color=255,255,255:isosurface_smooth=18:extract_all_regions=0:opacity=0.65:smoothed=1\n",
    "-v /u/project/CCN/cbearden/haleywan/qunex_studyfolder/analysis/scripts/visualization/JHU-ICBM-labels-1mm.nii.gz:colormap=lut:lut=/u/project/CCN/cbearden/haleywan/qunex_studyfolder/analysis/scripts/visualization/final_color_tables/MEND_RD.txt:isosurface=on:isosurface_color=red:isosurface_smooth=14:smoothed=1\n",
    "-hide-3d-frames\n",
    "-nocursor\n",
    "-cam dolly 1.42 azimuth 142 elevation 12 roll -2\n",
    "-layout 4 \n",
    "-ss output')"
   ]
  },
  {
   "cell_type": "code",
   "execution_count": 5,
   "id": "3e599118-59cf-4f2a-a900-35c4e4cc301a",
   "metadata": {},
   "outputs": [],
   "source": [
    "import numpy as np\n",
    "import matplotlib as mpl\n",
    "import matplotlib.pyplot as plt\n",
    "from colorspacious import cspace_converter"
   ]
  },
  {
   "cell_type": "code",
   "execution_count": 6,
   "id": "c6a04ce0-a7aa-43c3-95b7-1832d982231e",
   "metadata": {},
   "outputs": [],
   "source": [
    "cmaps = {}\n",
    "\n",
    "gradient = np.linspace(0, 1, 256)\n",
    "gradient = np.vstack((gradient, gradient))\n",
    "\n",
    "\n",
    "def plot_color_gradients(category, cmap_list):\n",
    "    # Create figure and adjust figure height to number of colormaps\n",
    "    nrows = len(cmap_list)\n",
    "    figh = 0.35 + 0.15 + (nrows + (nrows - 1) * 0.1) * 0.22\n",
    "    fig, axs = plt.subplots(nrows=nrows + 1, figsize=(6.4, figh))\n",
    "    fig.subplots_adjust(top=1 - 0.35 / figh, bottom=0.15 / figh,\n",
    "                        left=0.2, right=0.99)\n",
    "    axs[0].set_title(f'{category} colormaps', fontsize=14)\n",
    "\n",
    "    for ax, name in zip(axs, cmap_list):\n",
    "        ax.imshow(gradient, aspect='auto', cmap=mpl.colormaps[name])\n",
    "        ax.text(-0.01, 0.5, name, va='center', ha='right', fontsize=10,\n",
    "                transform=ax.transAxes)\n",
    "\n",
    "    # Turn off *all* ticks & spines, not just the ones with colormaps.\n",
    "    for ax in axs:\n",
    "        ax.set_axis_off()\n",
    "\n",
    "    # Save colormap list for later.\n",
    "    cmaps[category] = cmap_list"
   ]
  },
  {
   "cell_type": "code",
   "execution_count": 8,
   "id": "e5374984-22ea-4724-818c-cee8d017dc03",
   "metadata": {},
   "outputs": [
    {
     "data": {
      "image/png": "[encoded data removed]",
      "text/plain": [
       "<Figure size 460.8x243.504 with 13 Axes>"
      ]
     },
     "metadata": {
      "needs_background": "light"
     },
     "output_type": "display_data"
    }
   ],
   "source": [
    "plot_color_gradients('Diverging',\n",
    "                     ['PiYG', 'PRGn', 'BrBG', 'PuOr', 'RdGy', 'RdBu', 'RdYlBu',\n",
    "                      'RdYlGn', 'Spectral', 'coolwarm', 'bwr', 'seismic'])"
   ]
  },
  {
   "cell_type": "code",
   "execution_count": null,
   "id": "3e240985-66af-4808-bbf7-160638b9759f",
   "metadata": {},
   "outputs": [],
   "source": []
  }
 ],
 "metadata": {
  "kernelspec": {
   "display_name": "analysis",
   "language": "python",
   "name": "analysis"
  },
  "language_info": {
   "codemirror_mode": {
    "name": "ipython",
    "version": 3
   },
   "file_extension": ".py",
   "mimetype": "text/x-python",
   "name": "python",
   "nbconvert_exporter": "python",
   "pygments_lexer": "ipython3",
   "version": "3.10.4"
  }
 },
 "nbformat": 4,
 "nbformat_minor": 5
}
