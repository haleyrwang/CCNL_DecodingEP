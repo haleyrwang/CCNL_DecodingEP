{
 "cells": [
  {
   "cell_type": "markdown",
   "id": "b2f46e42-bd90-47c4-a17c-d5b4e0d069e5",
   "metadata": {
    "tags": []
   },
   "source": [
    "# Supp: clinical scores group comparisons"
   ]
  },
  {
   "cell_type": "markdown",
   "id": "97d0b8b1-32a1-4680-9164-9b198414ae89",
   "metadata": {},
   "source": [
    "- Project:        HCP-EP\n",
    "- File Name:      clinical_group_differences\n",
    "- Author:         Haley Wang\n",
    "- Date Created:   2023-9-22\n",
    "- Last Modified:  2023-9-22\n",
    "- Code Status:    Testing"
   ]
  },
  {
   "cell_type": "code",
   "execution_count": 15,
   "id": "1f14bdb8-b43c-45cd-a9f8-4265604e4148",
   "metadata": {
    "tags": []
   },
   "outputs": [],
   "source": [
    "import numpy as np\n",
    "import pandas as pd\n",
    "import pyls\n",
    "import h5py\n",
    "import matplotlib\n",
    "import matplotlib.pyplot as plt\n",
    "from matplotlib.colors import ListedColormap\n",
    "import seaborn as sns\n",
    "from netneurotools import datasets, stats, plotting\n",
    "from scipy import stats\n",
    "from scipy.stats import zscore, pearsonr, ttest_ind\n",
    "from scipy.spatial.distance import squareform, pdist"
   ]
  },
  {
   "cell_type": "code",
   "execution_count": 30,
   "id": "d45fcbe5-792e-4bd0-9692-f5619021eecb",
   "metadata": {},
   "outputs": [],
   "source": [
    "pd.set_option('display.max_rows', None)\n",
    "pd.set_option('display.max_columns', None)\n",
    "#pd.reset_option('all')"
   ]
  },
  {
   "cell_type": "markdown",
   "id": "f9b96f10-d7d1-4047-9141-4ea0d354bf1f",
   "metadata": {
    "tags": []
   },
   "source": [
    "### Import clinical data from both EP and MEND"
   ]
  },
  {
   "cell_type": "code",
   "execution_count": 99,
   "id": "6326afb7-7af3-4c07-9810-12530a4369ed",
   "metadata": {},
   "outputs": [],
   "source": [
    "\"\"\"\n",
    "load data (age and sex were regressed out)\n",
    "\"\"\"\n",
    "\n",
    "EP = pd.read_csv('/u/project/CCN/cbearden/haleywan/qunex_studyfolder/analysis/scripts/behavioral/HCPEP_Cli_Behav_data.csv')\n",
    "MEND = pd.read_csv('/u/project/CCN/cbearden/haleywan/qunex_studyfolder/analysis/scripts/PLS_MEND_Replication/clinical_all.csv')"
   ]
  },
  {
   "cell_type": "markdown",
   "id": "2281d402-7bdd-4f14-8f8f-a2b2476dab99",
   "metadata": {},
   "source": [
    "### For EP"
   ]
  },
  {
   "cell_type": "code",
   "execution_count": 37,
   "id": "acf26df9-e155-41d2-8e72-898fdfcba265",
   "metadata": {
    "tags": []
   },
   "outputs": [],
   "source": [
    "EP = EP[EP['cohort'] != 3]\n",
    "EP['dx'] = pd.to_numeric(EP['dx'], errors='coerce')"
   ]
  },
  {
   "cell_type": "code",
   "execution_count": 38,
   "id": "a604a39c-1a24-47e0-8952-93d1783457df",
   "metadata": {},
   "outputs": [],
   "source": [
    "# Define a function to set the values of column \"A\" based on column \"B\"\n",
    "def set_value(row):\n",
    "    if row['dx'] in [295.90, 295.40, 298.80, 297.10]:\n",
    "        return 1\n",
    "    elif row['dx'] in [295.70]:\n",
    "        return 2\n",
    "    elif row['dx'] in [296.24, 296.44, 296.89, 296.54, 296.34, 296.40, 296.53]:\n",
    "        return 3\n",
    "\n",
    "# Apply the function to create column \"A\"\n",
    "EP['Group'] = EP.apply(set_value, axis=1)"
   ]
  },
  {
   "cell_type": "code",
   "execution_count": 39,
   "id": "427d36f7-0232-4f8f-ae83-930c24ef113e",
   "metadata": {},
   "outputs": [
    {
     "data": {
      "text/plain": [
       "5      1.0\n",
       "6      1.0\n",
       "7      2.0\n",
       "9      1.0\n",
       "10     1.0\n",
       "11     1.0\n",
       "12     1.0\n",
       "14     1.0\n",
       "15     1.0\n",
       "16     1.0\n",
       "17     1.0\n",
       "18     3.0\n",
       "20     1.0\n",
       "24     1.0\n",
       "25     1.0\n",
       "26     1.0\n",
       "27     1.0\n",
       "28     1.0\n",
       "29     1.0\n",
       "30     1.0\n",
       "31     1.0\n",
       "32     1.0\n",
       "33     1.0\n",
       "34     1.0\n",
       "35     1.0\n",
       "36     2.0\n",
       "37     1.0\n",
       "38     1.0\n",
       "39     1.0\n",
       "40     1.0\n",
       "41     2.0\n",
       "42     1.0\n",
       "43     1.0\n",
       "45     1.0\n",
       "46     1.0\n",
       "47     2.0\n",
       "48     1.0\n",
       "49     1.0\n",
       "50     1.0\n",
       "51     1.0\n",
       "53     1.0\n",
       "54     3.0\n",
       "56     1.0\n",
       "57     1.0\n",
       "58     1.0\n",
       "59     1.0\n",
       "60     1.0\n",
       "61     1.0\n",
       "62     1.0\n",
       "63     1.0\n",
       "64     3.0\n",
       "65     1.0\n",
       "71     3.0\n",
       "74     3.0\n",
       "75     2.0\n",
       "77     3.0\n",
       "80     3.0\n",
       "81     1.0\n",
       "82     1.0\n",
       "83     1.0\n",
       "85     1.0\n",
       "88     3.0\n",
       "89     1.0\n",
       "90     2.0\n",
       "91     1.0\n",
       "92     1.0\n",
       "93     2.0\n",
       "94     2.0\n",
       "95     1.0\n",
       "96     1.0\n",
       "97     2.0\n",
       "99     1.0\n",
       "100    1.0\n",
       "101    NaN\n",
       "102    1.0\n",
       "104    1.0\n",
       "105    1.0\n",
       "106    3.0\n",
       "107    1.0\n",
       "108    3.0\n",
       "110    2.0\n",
       "114    3.0\n",
       "115    1.0\n",
       "116    2.0\n",
       "119    1.0\n",
       "120    1.0\n",
       "121    1.0\n",
       "122    1.0\n",
       "123    2.0\n",
       "124    1.0\n",
       "125    1.0\n",
       "126    1.0\n",
       "134    1.0\n",
       "138    3.0\n",
       "141    3.0\n",
       "142    1.0\n",
       "147    1.0\n",
       "148    2.0\n",
       "151    3.0\n",
       "152    1.0\n",
       "153    3.0\n",
       "154    1.0\n",
       "155    3.0\n",
       "156    1.0\n",
       "157    3.0\n",
       "158    3.0\n",
       "160    3.0\n",
       "161    3.0\n",
       "162    1.0\n",
       "165    1.0\n",
       "166    3.0\n",
       "167    3.0\n",
       "168    3.0\n",
       "169    3.0\n",
       "170    3.0\n",
       "171    1.0\n",
       "173    3.0\n",
       "174    1.0\n",
       "175    3.0\n",
       "176    2.0\n",
       "177    3.0\n",
       "179    1.0\n",
       "180    1.0\n",
       "181    3.0\n",
       "182    1.0\n",
       "Name: Group, dtype: float64"
      ]
     },
     "execution_count": 39,
     "metadata": {},
     "output_type": "execute_result"
    }
   ],
   "source": [
    "EP['Group']"
   ]
  },
  {
   "cell_type": "code",
   "execution_count": 40,
   "id": "a2264f0e-2183-45a5-9666-e679bbbb49b8",
   "metadata": {
    "tags": []
   },
   "outputs": [
    {
     "name": "stdout",
     "output_type": "stream",
     "text": [
      "['collection_id', 'ndar_subject01_id', 'dataset_id', 'subjectkey', 'src_subject_id', 'interview_date', 'interview_age_month', 'interview_age_year', 'sex', 'race_description', 'race', 'hispanic_description', 'hispanic', 'phenotype_description', 'phenotype', 'handedness', 'mother_edu', 'father_edu', 'parental_edu', 'site', 'cohort', 'dx', 'dx_code', 'dx_group', 'scan_data', 'onset_age', 'med_equiv_current', 'med_life_exp_in_month', 'cannabis_use', 'cog_fluid', 'cog_crystal', 'cog_earlychildhood', 'cog_total', 'gaf_total', 'gaf_symptom', 'gaf_occupational', 'gaf_SocFunc', 'panss_total', 'pos_p1', 'pos_p2', 'pos_p3', 'pos_p4', 'pos_p5', 'pos_p6', 'pos_p7', 'pos_total', 'neg_n1', 'neg_n2', 'neg_n3', 'neg_n4', 'neg_n5', 'neg_n6', 'neg_n7', 'neg_total', 'gps_g1', 'gps_g2', 'gps_g3', 'gps_g4', 'gps_g5', 'gps_g6', 'gps_g7', 'gps_g8', 'gps_g9', 'gps_g10', 'gps_g11', 'gps_g12', 'gps_g13', 'gps_g14', 'gps_g15', 'gps_g16', 'gps_total', 'cains_total', 'cains_1', 'cains_2', 'cains_3', 'cains_4', 'cains_5', 'cains_6', 'cains_7', 'cains_8', 'cains_9', 'cains_map_total', 'cains_10', 'cains_11', 'cains_12', 'cains_13', 'cains_exp_total', 'ymrs_elevmood', 'ymrs_incmotor', 'ymrs_sexinter', 'ymrs_sleepamt', 'ymrs_irritamt', 'ymrs_speech', 'ymrs_langdisr', 'ymrs_content', 'ymrs_disrupt', 'ymrs_appearnc', 'ymrs_insight', 'ymrs_total', 'madrs_total', 'madrs_1', 'madrs_2', 'madrs_3', 'madrs_4', 'madrs_5', 'madrs_6', 'madrs_7', 'madrs_8', 'madrs_9', 'madrs_10', 'wasi_iqscores_full2iq', 'wasi_iqscores_full2percentile', 'Group']\n"
     ]
    }
   ],
   "source": [
    "# Get column names as a list\n",
    "column_names = EP.columns.tolist()\n",
    "\n",
    "# Print or use the list\n",
    "print(column_names)\n"
   ]
  },
  {
   "cell_type": "code",
   "execution_count": 10,
   "id": "e4b25be2-7593-4189-8318-a83b96fae7db",
   "metadata": {
    "jupyter": {
     "source_hidden": true
    },
    "tags": []
   },
   "outputs": [],
   "source": [
    "# Calculate the sum of those columns row-wise and store it in a new column 'pos_total'\n",
    "EP['total_positive'] = EP.filter(like='pos_').sum(axis=1)\n",
    "EP['total_negtive'] = EP.filter(like='neg_').sum(axis=1)\n",
    "EP['total_general'] = EP.filter(like='gps_').sum(axis=1)\n",
    "EP['total_mania'] = EP.filter(like='ymrs_').sum(axis=1)\n"
   ]
  },
  {
   "cell_type": "code",
   "execution_count": 43,
   "id": "5ef06e5f-2d49-4469-a59e-857c264c76e7",
   "metadata": {},
   "outputs": [],
   "source": [
    "import pandas as pd\n",
    "import statsmodels.api as sm\n",
    "from statsmodels.formula.api import ols"
   ]
  },
  {
   "cell_type": "code",
   "execution_count": 48,
   "id": "73e66bcd-6092-4779-a8c6-92fd5ed67668",
   "metadata": {},
   "outputs": [
    {
     "data": {
      "text/html": [
       "<div>\n",
       "<style scoped>\n",
       "    .dataframe tbody tr th:only-of-type {\n",
       "        vertical-align: middle;\n",
       "    }\n",
       "\n",
       "    .dataframe tbody tr th {\n",
       "        vertical-align: top;\n",
       "    }\n",
       "\n",
       "    .dataframe thead th {\n",
       "        text-align: right;\n",
       "    }\n",
       "</style>\n",
       "<table border=\"1\" class=\"dataframe\">\n",
       "  <thead>\n",
       "    <tr style=\"text-align: right;\">\n",
       "      <th></th>\n",
       "      <th>sum_sq</th>\n",
       "      <th>df</th>\n",
       "      <th>F</th>\n",
       "      <th>PR(&gt;F)</th>\n",
       "    </tr>\n",
       "  </thead>\n",
       "  <tbody>\n",
       "    <tr>\n",
       "      <th>C(Group)</th>\n",
       "      <td>276.072594</td>\n",
       "      <td>2.0</td>\n",
       "      <td>10.189658</td>\n",
       "      <td>0.000083</td>\n",
       "    </tr>\n",
       "    <tr>\n",
       "      <th>interview_age_month</th>\n",
       "      <td>0.078872</td>\n",
       "      <td>1.0</td>\n",
       "      <td>0.005822</td>\n",
       "      <td>0.939308</td>\n",
       "    </tr>\n",
       "    <tr>\n",
       "      <th>sex</th>\n",
       "      <td>19.543108</td>\n",
       "      <td>1.0</td>\n",
       "      <td>1.442646</td>\n",
       "      <td>0.232137</td>\n",
       "    </tr>\n",
       "    <tr>\n",
       "      <th>Residual</th>\n",
       "      <td>1584.964584</td>\n",
       "      <td>117.0</td>\n",
       "      <td>NaN</td>\n",
       "      <td>NaN</td>\n",
       "    </tr>\n",
       "  </tbody>\n",
       "</table>\n",
       "</div>"
      ],
      "text/plain": [
       "                          sum_sq     df          F    PR(>F)\n",
       "C(Group)              276.072594    2.0  10.189658  0.000083\n",
       "interview_age_month     0.078872    1.0   0.005822  0.939308\n",
       "sex                    19.543108    1.0   1.442646  0.232137\n",
       "Residual             1584.964584  117.0        NaN       NaN"
      ]
     },
     "execution_count": 48,
     "metadata": {},
     "output_type": "execute_result"
    }
   ],
   "source": [
    "# Perform ANCOVA\n",
    "formula = 'pos_total ~ C(Group) + interview_age_month + sex'\n",
    "model = ols(formula, data=EP).fit()\n",
    "aov_table = sm.stats.anova_lm(model, typ=2)\n",
    "aov_table"
   ]
  },
  {
   "cell_type": "code",
   "execution_count": 49,
   "id": "343ee0d0-3445-4369-ae3d-0298640975c2",
   "metadata": {},
   "outputs": [
    {
     "data": {
      "text/html": [
       "<div>\n",
       "<style scoped>\n",
       "    .dataframe tbody tr th:only-of-type {\n",
       "        vertical-align: middle;\n",
       "    }\n",
       "\n",
       "    .dataframe tbody tr th {\n",
       "        vertical-align: top;\n",
       "    }\n",
       "\n",
       "    .dataframe thead th {\n",
       "        text-align: right;\n",
       "    }\n",
       "</style>\n",
       "<table border=\"1\" class=\"dataframe\">\n",
       "  <thead>\n",
       "    <tr style=\"text-align: right;\">\n",
       "      <th></th>\n",
       "      <th>sum_sq</th>\n",
       "      <th>df</th>\n",
       "      <th>F</th>\n",
       "      <th>PR(&gt;F)</th>\n",
       "    </tr>\n",
       "  </thead>\n",
       "  <tbody>\n",
       "    <tr>\n",
       "      <th>C(Group)</th>\n",
       "      <td>326.158821</td>\n",
       "      <td>2.0</td>\n",
       "      <td>6.050176</td>\n",
       "      <td>0.003159</td>\n",
       "    </tr>\n",
       "    <tr>\n",
       "      <th>interview_age_month</th>\n",
       "      <td>0.734519</td>\n",
       "      <td>1.0</td>\n",
       "      <td>0.027250</td>\n",
       "      <td>0.869168</td>\n",
       "    </tr>\n",
       "    <tr>\n",
       "      <th>sex</th>\n",
       "      <td>6.064922</td>\n",
       "      <td>1.0</td>\n",
       "      <td>0.225006</td>\n",
       "      <td>0.636136</td>\n",
       "    </tr>\n",
       "    <tr>\n",
       "      <th>Residual</th>\n",
       "      <td>3153.675174</td>\n",
       "      <td>117.0</td>\n",
       "      <td>NaN</td>\n",
       "      <td>NaN</td>\n",
       "    </tr>\n",
       "  </tbody>\n",
       "</table>\n",
       "</div>"
      ],
      "text/plain": [
       "                          sum_sq     df         F    PR(>F)\n",
       "C(Group)              326.158821    2.0  6.050176  0.003159\n",
       "interview_age_month     0.734519    1.0  0.027250  0.869168\n",
       "sex                     6.064922    1.0  0.225006  0.636136\n",
       "Residual             3153.675174  117.0       NaN       NaN"
      ]
     },
     "execution_count": 49,
     "metadata": {},
     "output_type": "execute_result"
    }
   ],
   "source": [
    "# Perform ANCOVA\n",
    "formula = 'neg_total ~ C(Group) + interview_age_month + sex'\n",
    "model = ols(formula, data=EP).fit()\n",
    "aov_table = sm.stats.anova_lm(model, typ=2)\n",
    "aov_table"
   ]
  },
  {
   "cell_type": "code",
   "execution_count": 50,
   "id": "19305046-e930-4f54-b30c-4213189d59a7",
   "metadata": {},
   "outputs": [
    {
     "data": {
      "text/html": [
       "<div>\n",
       "<style scoped>\n",
       "    .dataframe tbody tr th:only-of-type {\n",
       "        vertical-align: middle;\n",
       "    }\n",
       "\n",
       "    .dataframe tbody tr th {\n",
       "        vertical-align: top;\n",
       "    }\n",
       "\n",
       "    .dataframe thead th {\n",
       "        text-align: right;\n",
       "    }\n",
       "</style>\n",
       "<table border=\"1\" class=\"dataframe\">\n",
       "  <thead>\n",
       "    <tr style=\"text-align: right;\">\n",
       "      <th></th>\n",
       "      <th>sum_sq</th>\n",
       "      <th>df</th>\n",
       "      <th>F</th>\n",
       "      <th>PR(&gt;F)</th>\n",
       "    </tr>\n",
       "  </thead>\n",
       "  <tbody>\n",
       "    <tr>\n",
       "      <th>C(Group)</th>\n",
       "      <td>227.784564</td>\n",
       "      <td>2.0</td>\n",
       "      <td>4.350522</td>\n",
       "      <td>0.015050</td>\n",
       "    </tr>\n",
       "    <tr>\n",
       "      <th>interview_age_month</th>\n",
       "      <td>4.683454</td>\n",
       "      <td>1.0</td>\n",
       "      <td>0.178901</td>\n",
       "      <td>0.673096</td>\n",
       "    </tr>\n",
       "    <tr>\n",
       "      <th>sex</th>\n",
       "      <td>5.980030</td>\n",
       "      <td>1.0</td>\n",
       "      <td>0.228429</td>\n",
       "      <td>0.633583</td>\n",
       "    </tr>\n",
       "    <tr>\n",
       "      <th>Residual</th>\n",
       "      <td>3062.942297</td>\n",
       "      <td>117.0</td>\n",
       "      <td>NaN</td>\n",
       "      <td>NaN</td>\n",
       "    </tr>\n",
       "  </tbody>\n",
       "</table>\n",
       "</div>"
      ],
      "text/plain": [
       "                          sum_sq     df         F    PR(>F)\n",
       "C(Group)              227.784564    2.0  4.350522  0.015050\n",
       "interview_age_month     4.683454    1.0  0.178901  0.673096\n",
       "sex                     5.980030    1.0  0.228429  0.633583\n",
       "Residual             3062.942297  117.0       NaN       NaN"
      ]
     },
     "execution_count": 50,
     "metadata": {},
     "output_type": "execute_result"
    }
   ],
   "source": [
    "# Perform ANCOVA\n",
    "formula = 'gps_total ~ C(Group) + interview_age_month + sex'\n",
    "model = ols(formula, data=EP).fit()\n",
    "aov_table = sm.stats.anova_lm(model, typ=2)\n",
    "aov_table"
   ]
  },
  {
   "cell_type": "code",
   "execution_count": 51,
   "id": "bc26a028-92c1-4036-8ee5-2d0a4229d96a",
   "metadata": {},
   "outputs": [
    {
     "data": {
      "text/html": [
       "<div>\n",
       "<style scoped>\n",
       "    .dataframe tbody tr th:only-of-type {\n",
       "        vertical-align: middle;\n",
       "    }\n",
       "\n",
       "    .dataframe tbody tr th {\n",
       "        vertical-align: top;\n",
       "    }\n",
       "\n",
       "    .dataframe thead th {\n",
       "        text-align: right;\n",
       "    }\n",
       "</style>\n",
       "<table border=\"1\" class=\"dataframe\">\n",
       "  <thead>\n",
       "    <tr style=\"text-align: right;\">\n",
       "      <th></th>\n",
       "      <th>sum_sq</th>\n",
       "      <th>df</th>\n",
       "      <th>F</th>\n",
       "      <th>PR(&gt;F)</th>\n",
       "    </tr>\n",
       "  </thead>\n",
       "  <tbody>\n",
       "    <tr>\n",
       "      <th>C(Group)</th>\n",
       "      <td>59.278608</td>\n",
       "      <td>2.0</td>\n",
       "      <td>1.065930</td>\n",
       "      <td>0.347700</td>\n",
       "    </tr>\n",
       "    <tr>\n",
       "      <th>interview_age_month</th>\n",
       "      <td>35.729019</td>\n",
       "      <td>1.0</td>\n",
       "      <td>1.284936</td>\n",
       "      <td>0.259281</td>\n",
       "    </tr>\n",
       "    <tr>\n",
       "      <th>sex</th>\n",
       "      <td>14.582339</td>\n",
       "      <td>1.0</td>\n",
       "      <td>0.524430</td>\n",
       "      <td>0.470391</td>\n",
       "    </tr>\n",
       "    <tr>\n",
       "      <th>Residual</th>\n",
       "      <td>3281.115557</td>\n",
       "      <td>118.0</td>\n",
       "      <td>NaN</td>\n",
       "      <td>NaN</td>\n",
       "    </tr>\n",
       "  </tbody>\n",
       "</table>\n",
       "</div>"
      ],
      "text/plain": [
       "                          sum_sq     df         F    PR(>F)\n",
       "C(Group)               59.278608    2.0  1.065930  0.347700\n",
       "interview_age_month    35.729019    1.0  1.284936  0.259281\n",
       "sex                    14.582339    1.0  0.524430  0.470391\n",
       "Residual             3281.115557  118.0       NaN       NaN"
      ]
     },
     "execution_count": 51,
     "metadata": {},
     "output_type": "execute_result"
    }
   ],
   "source": [
    "# Perform ANCOVA\n",
    "formula = 'ymrs_total ~ C(Group) + interview_age_month + sex'\n",
    "model = ols(formula, data=EP).fit()\n",
    "aov_table = sm.stats.anova_lm(model, typ=2)\n",
    "aov_table"
   ]
  },
  {
   "cell_type": "code",
   "execution_count": 52,
   "id": "a64f88c2-70fc-457b-828c-0d45ca15ca7c",
   "metadata": {},
   "outputs": [
    {
     "name": "stdout",
     "output_type": "stream",
     "text": [
      "q-values: [3.32000000e-04 6.31800000e-03 2.00666667e-02 3.47700000e-01]\n"
     ]
    }
   ],
   "source": [
    "import statsmodels.stats.multitest as smm\n",
    "\n",
    "# Given p-values from the four ANOVA tests\n",
    "p_values = [0.000083, 0.003159, 0.015050, 0.347700]\n",
    "\n",
    "# Apply the Benjamini-Hochberg correction\n",
    "_, pvals_corrected, _, _ = smm.multipletests(p_values, alpha=0.05, method='fdr_bh')\n",
    "\n",
    "# The corrected p-values (q-values) are stored in pvals_corrected\n",
    "print(\"q-values:\", pvals_corrected)"
   ]
  },
  {
   "cell_type": "code",
   "execution_count": 53,
   "id": "4177054d-941f-4ac7-a4c2-53a524362ea9",
   "metadata": {},
   "outputs": [
    {
     "name": "stdout",
     "output_type": "stream",
     "text": [
      "            mean       std\n",
      "Group                     \n",
      "1.0    11.543210  3.765134\n",
      "2.0    14.000000  4.898979\n",
      "3.0     8.888889  2.470337\n"
     ]
    }
   ],
   "source": [
    "# Calculate the mean and SD for 'feature' for each group\n",
    "grouped_stats = EP.groupby('Group')['pos_total'].agg(['mean', 'std'])\n",
    "\n",
    "print(grouped_stats)"
   ]
  },
  {
   "cell_type": "code",
   "execution_count": 54,
   "id": "35276b6b-b551-4fdd-80e0-3e729ff05063",
   "metadata": {},
   "outputs": [
    {
     "name": "stdout",
     "output_type": "stream",
     "text": [
      "            mean       std\n",
      "Group                     \n",
      "1.0    15.296296  5.769412\n",
      "2.0    12.714286  3.268229\n",
      "3.0    10.962963  3.715679\n"
     ]
    }
   ],
   "source": [
    "# Calculate the mean and SD for 'feature' for each group\n",
    "grouped_stats = EP.groupby('Group')['neg_total'].agg(['mean', 'std'])\n",
    "\n",
    "print(grouped_stats)"
   ]
  },
  {
   "cell_type": "code",
   "execution_count": 55,
   "id": "26190f25-8eaf-4ce7-bbc2-d9bc682cc2fa",
   "metadata": {},
   "outputs": [
    {
     "name": "stdout",
     "output_type": "stream",
     "text": [
      "            mean       std\n",
      "Group                     \n",
      "1.0    25.432099  4.936948\n",
      "2.0    25.642857  6.246318\n",
      "3.0    22.000000  4.867474\n"
     ]
    }
   ],
   "source": [
    "# Calculate the mean and SD for 'feature' for each group\n",
    "grouped_stats = EP.groupby('Group')['gps_total'].agg(['mean', 'std'])\n",
    "\n",
    "print(grouped_stats)"
   ]
  },
  {
   "cell_type": "code",
   "execution_count": 56,
   "id": "f5c391f9-45a0-46f1-b7aa-733122eb34ab",
   "metadata": {},
   "outputs": [
    {
     "name": "stdout",
     "output_type": "stream",
     "text": [
      "           mean       std\n",
      "Group                    \n",
      "1.0    4.500000  4.518711\n",
      "2.0    6.785714  8.411792\n",
      "3.0    4.982143  5.358417\n"
     ]
    }
   ],
   "source": [
    "# Calculate the mean and SD for 'feature' for each group\n",
    "grouped_stats = EP.groupby('Group')['ymrs_total'].agg(['mean', 'std'])\n",
    "\n",
    "print(grouped_stats)"
   ]
  },
  {
   "cell_type": "markdown",
   "id": "d78d9c00-0499-4a21-92dd-ebb9bc6f6040",
   "metadata": {},
   "source": [
    "### Violin plots"
   ]
  },
  {
   "cell_type": "code",
   "execution_count": 70,
   "id": "f34cbc3b-43a5-44f6-bc57-e833c14c360a",
   "metadata": {},
   "outputs": [],
   "source": [
    "from matplotlib.ticker import MultipleLocator\n",
    "from matplotlib.colors import ListedColormap, to_rgb, to_hex\n",
    "pal_bgo_3 = [\"#31A9E7\", \"#305861\", \"#F19100\"]\n",
    "cmap_bgo_3 = ListedColormap([to_rgb(_) for _ in pal_bgo_3])"
   ]
  },
  {
   "cell_type": "code",
   "execution_count": 72,
   "id": "c9171e8e-cdca-409b-933a-8f0fd47f5601",
   "metadata": {},
   "outputs": [],
   "source": [
    "import colorsys\n",
    "\n",
    "def scale_lightness(rgb, scale_l):\n",
    "    # convert rgb to hls\n",
    "    h, l, s = colorsys.rgb_to_hls(*rgb)\n",
    "    # manipulate h, l, s values and return as rgb\n",
    "    return colorsys.hls_to_rgb(h, min(1, l * scale_l), s = s)"
   ]
  },
  {
   "cell_type": "code",
   "execution_count": 73,
   "id": "d9cc929e-fa84-4939-88e1-1cb392988ee7",
   "metadata": {},
   "outputs": [
    {
     "data": {
      "image/png": "[encoded data removed]",
      "text/html": [
       "<div style=\"vertical-align: middle;\"><strong>from_list</strong> </div><div class=\"cmap\"><img alt=\"from_list colormap\" title=\"from_list\" style=\"border: 1px solid #555;\" src=\"data:image/png;base64,iVBORw0KGgoAAAANSUhEUgAAAgAAAABACAYAAABsv8+/AAAAGHRFWHRUaXRsZQBmcm9tX2xpc3QgY29sb3JtYXBDL89FAAAAHnRFWHREZXNjcmlwdGlvbgBmcm9tX2xpc3QgY29sb3JtYXABtCnOAAAAMHRFWHRBdXRob3IATWF0cGxvdGxpYiB2My41LjIsIGh0dHBzOi8vbWF0cGxvdGxpYi5vcmfCWnicAAAAMnRFWHRTb2Z0d2FyZQBNYXRwbG90bGliIHYzLjUuMiwgaHR0cHM6Ly9tYXRwbG90bGliLm9yZ+z857sAAAFESURBVHic7dbBCYNQFEXBmGAKcOfaDmL/tZkGXPs/nJkKLjwenOWz7deLKX2P3+gJ3HCXOa3HOXoCN/zLvN6jBwAAzxMAABAkAAAgSAAAQJAAAIAgAQAAQQIAAIIEAAAECQAACBIAABAkAAAgSAAAQJAAAIAgAQAAQQIAAIIEAAAECQAACBIAABAkAAAgSAAAQJAAAIAgAQAAQQIAAIIEAAAECQAACBIAABAkAAAgSAAAQJAAAIAgAQAAQQIAAIIEAAAECQAACBIAABAkAAAgSAAAQJAAAIAgAQAAQQIAAIIEAAAECQAACBIAABAkAAAgSAAAQJAAAIAgAQAAQQIAAIIEAAAECQAACBIAABAkAAAgSAAAQJAAAIAgAQAAQQIAAIIEAAAECQAACBIAABAkAAAgSAAAQJAAAIAgAQAAQQIAAIL+U8kDGdKFKO4AAAAASUVORK5CYII=\"></div><div style=\"vertical-align: middle; max-width: 514px; display: flex; justify-content: space-between;\"><div style=\"float: left;\"><div title=\"#031219ff\" style=\"display: inline-block; width: 1em; height: 1em; margin: 0; vertical-align: middle; border: 1px solid #555; background-color: #031219ff;\"></div> under</div><div style=\"margin: 0 auto; display: inline-block;\">bad <div title=\"#00000000\" style=\"display: inline-block; width: 1em; height: 1em; margin: 0; vertical-align: middle; border: 1px solid #555; background-color: #00000000;\"></div></div><div style=\"float: right;\">over <div title=\"#1a9ee2ff\" style=\"display: inline-block; width: 1em; height: 1em; margin: 0; vertical-align: middle; border: 1px solid #555; background-color: #1a9ee2ff;\"></div></div>"
      ],
      "text/plain": [
       "<matplotlib.colors.ListedColormap at 0x2b4cfe6a37c0>"
      ]
     },
     "execution_count": 73,
     "metadata": {},
     "output_type": "execute_result"
    }
   ],
   "source": [
    "ListedColormap([to_hex(scale_lightness(to_rgb(pal_bgo_3[0]), _)) for _ in [0.1, 0.3, 0.5, 0.7, 0.9]])"
   ]
  },
  {
   "cell_type": "code",
   "execution_count": 74,
   "id": "0908c623-207a-40b7-9c04-0040e4ecdfcf",
   "metadata": {},
   "outputs": [
    {
     "data": {
      "image/png": "[encoded data removed]",
      "text/html": [
       "<div style=\"vertical-align: middle;\"><strong>from_list</strong> </div><div class=\"cmap\"><img alt=\"from_list colormap\" title=\"from_list\" style=\"border: 1px solid #555;\" src=\"data:image/png;base64,iVBORw0KGgoAAAANSUhEUgAAAgAAAABACAYAAABsv8+/AAAAGHRFWHRUaXRsZQBmcm9tX2xpc3QgY29sb3JtYXBDL89FAAAAHnRFWHREZXNjcmlwdGlvbgBmcm9tX2xpc3QgY29sb3JtYXABtCnOAAAAMHRFWHRBdXRob3IATWF0cGxvdGxpYiB2My41LjIsIGh0dHBzOi8vbWF0cGxvdGxpYi5vcmfCWnicAAAAMnRFWHRTb2Z0d2FyZQBNYXRwbG90bGliIHYzLjUuMiwgaHR0cHM6Ly9tYXRwbG90bGliLm9yZ+z857sAAAE/SURBVHic7dYxEYNAAABBgqOUWIuZ1FRoiBpkfCSQKj/M7Sq48h7P/RwL3MA4XrMT4NJne89OgJ+sswMAgP8zAAAQZAAAIMgAAECQAQCAIAMAAEEGAACCDAAABBkAAAgyAAAQZAAAIMgAAECQAQCAIAMAAEEGAACCDAAABBkAAAgyAAAQZAAAIMgAAECQAQCAIAMAAEEGAACCDAAABBkAAAgyAAAQZAAAIMgAAECQAQCAIAMAAEEGAACCDAAABBkAAAgyAAAQZAAAIMgAAECQAQCAIAMAAEEGAACCDAAABBkAAAgyAAAQZAAAIMgAAECQAQCAIAMAAEEGAACCDAAABBkAAAgyAAAQZAAAIMgAAECQAQCAIAMAAEEGAACCDAAABBkAAAgyAAAQZAAAIMgAAECQAQCAIAMAAEEGAACCviVlBwHbItM/AAAAAElFTkSuQmCC\"></div><div style=\"vertical-align: middle; max-width: 514px; display: flex; justify-content: space-between;\"><div style=\"float: left;\"><div title=\"#31a9e7ff\" style=\"display: inline-block; width: 1em; height: 1em; margin: 0; vertical-align: middle; border: 1px solid #555; background-color: #31a9e7ff;\"></div> under</div><div style=\"margin: 0 auto; display: inline-block;\">bad <div title=\"#00000000\" style=\"display: inline-block; width: 1em; height: 1em; margin: 0; vertical-align: middle; border: 1px solid #555; background-color: #00000000;\"></div></div><div style=\"float: right;\">over <div title=\"#f19100ff\" style=\"display: inline-block; width: 1em; height: 1em; margin: 0; vertical-align: middle; border: 1px solid #555; background-color: #f19100ff;\"></div></div>"
      ],
      "text/plain": [
       "<matplotlib.colors.ListedColormap at 0x2b4cf48382e0>"
      ]
     },
     "execution_count": 74,
     "metadata": {},
     "output_type": "execute_result"
    }
   ],
   "source": [
    "cmap_bgo_3"
   ]
  },
  {
   "cell_type": "code",
   "execution_count": 92,
   "id": "f5c15599-182b-4840-9822-e1754f7c9b2c",
   "metadata": {},
   "outputs": [
    {
     "data": {
      "image/png": "[encoded data removed]",
      "text/plain": [
       "<Figure size 432x288 with 1 Axes>"
      ]
     },
     "metadata": {
      "needs_background": "light"
     },
     "output_type": "display_data"
    }
   ],
   "source": [
    "from matplotlib.colors import to_rgb, to_hex\n",
    "import colorsys\n",
    "import seaborn as sns\n",
    "import matplotlib.pyplot as plt\n",
    "\n",
    "# Original color palette\n",
    "pal_bgo_3 = [\"#31A9E7\", \"#305861\", \"#F19100\"]\n",
    "\n",
    "# Function to scale lightness of an RGB color\n",
    "def scale_lightness(rgb, scale_l):\n",
    "    h, l, s = colorsys.rgb_to_hls(*rgb)\n",
    "    return colorsys.hls_to_rgb(h, min(1, l * scale_l), s = s)\n",
    "\n",
    "# Create a list of brighter colors\n",
    "bright_colors = [scale_lightness(to_rgb(color), 1.05) for color in pal_bgo_3]\n",
    "\n",
    "# Convert to hex for seaborn compatibility\n",
    "bright_colors_hex = [to_hex(color) for color in bright_colors]\n",
    "\n",
    "# Create the plot\n",
    "ax = sns.violinplot(\n",
    "    data=EP,  # Your data here\n",
    "    x=\"Group\", y=\"ymrs_total\", \n",
    "    palette=bright_colors_hex,\n",
    "    inner=None,\n",
    "    scale=\"area\",\n",
    "    linewidth=0\n",
    ")\n",
    "\n",
    "new_labels = ['SZ', 'SZAD', 'BP']  # Define your new labels here\n",
    "ax.set_xticks(range(len(new_labels)))  # This sets the positions of the ticks\n",
    "ax.set_xticklabels(new_labels) \n",
    "ax.set_xlabel('')\n",
    "ax.set_ylabel('YMRS Mania Symptom Severity')\n",
    "# Remove right and top spines\n",
    "ax.spines['right'].set_visible(False)\n",
    "ax.spines['top'].set_visible(False)\n"
   ]
  },
  {
   "cell_type": "markdown",
   "id": "6d83fbf2-c250-487d-b428-a92558caef32",
   "metadata": {},
   "source": [
    "### For MEND"
   ]
  },
  {
   "cell_type": "markdown",
   "id": "2f0f125a-f1d0-4779-9104-8af88638f5e5",
   "metadata": {},
   "source": [
    "### For EP"
   ]
  },
  {
   "cell_type": "code",
   "execution_count": 100,
   "id": "6992637a-81fa-4fd0-8c14-a1899bcc9c8e",
   "metadata": {
    "tags": []
   },
   "outputs": [
    {
     "name": "stdout",
     "output_type": "stream",
     "text": [
      "['ID', 'sex', 'AgeAtBaseline', 'PatientType2', 'BPRS_SomaticConcern', 'BPRS_Anxiety', 'BPRS_EmotionalWithdrawal', 'BPRS_ConceptualDisorg', 'BPRS_GuiltFeelings', 'BPRS_Tension', 'BPRS_MannerismsPosturing', 'BPRS_Grandiosity', 'BPRS_DepressiveMood', 'BPRS_Hostility', 'BPRS_Suspiciousness', 'BPRS_HallucinatoryBehav', 'BPRS_MotorRetard', 'BPRS_Uncooperativeness', 'BPRS_UnusualThoughtContent', 'BPRS_BluntedAffect', 'BPRS_Excitement', 'BPRS_Disorientation', 'SANS_UnchangingFacialExpr', 'SANS_DecSpontaneousMvmt', 'SANS_PaucityExprGestures', 'SANS_PoorEyeContact', 'SANS_AffectiveNonResp', 'SANS_LackVocalInflections', 'SANS_GlobalRatAffectiveFlat', 'SANS_PovertySpeech', 'SANS_PovertyContentSpeech', 'SANS_Blocking', 'SANS_IncLatencyResp', 'SANS_GlobalRatAlogia', 'SANS_GroomingHygiene', 'SANS_PhysicalAnergia', 'SANS_GlobalRatAvolition', 'SANS_Asociality', 'SANS_Anhedonia', 'SANS_DecrSexIntAct', 'SANS_AbilityFeelIntimacyCloseness', 'SANS_GlobalRatAsocAnhed', 'YMRS_ElevatedMood', 'YMRS_IncMotorActEnergy', 'YMRS_Irritability', 'YMRS_LangThoughtDisorder', 'YMRS_Content', 'YMRS_DisruptAggrBehavior', 'YMRS_Appearance', 'YMRS_Insight', 'YMRS_Speech', 'YMRS_SexualInterest', 'YMRS_Sleep']\n"
     ]
    }
   ],
   "source": [
    "# Get column names as a list\n",
    "column_names = MEND.columns.tolist()\n",
    "\n",
    "# Print or use the list\n",
    "print(column_names)\n"
   ]
  },
  {
   "cell_type": "code",
   "execution_count": 10,
   "id": "49802928-2149-437c-85b5-98e60fca7934",
   "metadata": {
    "jupyter": {
     "source_hidden": true
    },
    "tags": []
   },
   "outputs": [],
   "source": [
    "# Calculate the sum of those columns row-wise and store it in a new column 'pos_total'\n",
    "EP['total_positive'] = EP.filter(like='pos_').sum(axis=1)\n",
    "EP['total_negtive'] = EP.filter(like='neg_').sum(axis=1)\n",
    "EP['total_general'] = EP.filter(like='gps_').sum(axis=1)\n",
    "EP['total_mania'] = EP.filter(like='ymrs_').sum(axis=1)\n"
   ]
  },
  {
   "cell_type": "code",
   "execution_count": 101,
   "id": "8e2ebd26-c1fa-48be-b984-332b4392e41f",
   "metadata": {},
   "outputs": [],
   "source": [
    "# Using map\n",
    "MEND['Group'] = MEND['PatientType2'].map({2: 1, 3: 2, 5: 3})\n",
    "MEND['BPRS_pos'] = MEND[['BPRS_ConceptualDisorg', 'BPRS_Grandiosity', 'BPRS_Hostility', 'BPRS_Suspiciousness',\n",
    "                         'BPRS_HallucinatoryBehav', 'BPRS_Uncooperativeness', 'BPRS_UnusualThoughtContent', 'BPRS_Excitement']].sum(axis=1)\n",
    "MEND['BPRS_nonpos'] = MEND[['BPRS_Anxiety', 'BPRS_Disorientation', 'BPRS_GuiltFeelings', 'BPRS_MannerismsPosturing', 'BPRS_MotorRetard', 'BPRS_EmotionalWithdrawal', 'BPRS_Tension', 'BPRS_BluntedAffect', \n",
    "                            'BPRS_DepressiveMood', 'BPRS_SomaticConcern']].sum(axis=1)\n",
    "\n",
    "\n",
    "# Filter columns whose names start with 'SANS_'\n",
    "sans_cols = [col for col in MEND.columns if col.startswith('SANS_')]\n",
    "\n",
    "# Create a new column that is the sum of all 'SANS_' columns\n",
    "MEND['sans_total'] = MEND[sans_cols].sum(axis=1)\n",
    "\n",
    "# Filter columns whose names start with 'SANS_'\n",
    "ymrs_cols = [col for col in MEND.columns if col.startswith('YMRS_')]\n",
    "\n",
    "# Create a new column that is the sum of all 'SANS_' columns\n",
    "MEND['ymrs_total'] = MEND[ymrs_cols].sum(axis=1)\n"
   ]
  },
  {
   "cell_type": "code",
   "execution_count": 102,
   "id": "67836c27-530f-4230-9718-51a8e8efd831",
   "metadata": {},
   "outputs": [],
   "source": [
    "import pandas as pd\n",
    "import statsmodels.api as sm\n",
    "from statsmodels.formula.api import ols"
   ]
  },
  {
   "cell_type": "code",
   "execution_count": 103,
   "id": "89b2c6f0-67da-41d5-8e02-b33d1309d211",
   "metadata": {},
   "outputs": [
    {
     "data": {
      "text/html": [
       "<div>\n",
       "<style scoped>\n",
       "    .dataframe tbody tr th:only-of-type {\n",
       "        vertical-align: middle;\n",
       "    }\n",
       "\n",
       "    .dataframe tbody tr th {\n",
       "        vertical-align: top;\n",
       "    }\n",
       "\n",
       "    .dataframe thead th {\n",
       "        text-align: right;\n",
       "    }\n",
       "</style>\n",
       "<table border=\"1\" class=\"dataframe\">\n",
       "  <thead>\n",
       "    <tr style=\"text-align: right;\">\n",
       "      <th></th>\n",
       "      <th>sum_sq</th>\n",
       "      <th>df</th>\n",
       "      <th>F</th>\n",
       "      <th>PR(&gt;F)</th>\n",
       "    </tr>\n",
       "  </thead>\n",
       "  <tbody>\n",
       "    <tr>\n",
       "      <th>C(Group)</th>\n",
       "      <td>92.446000</td>\n",
       "      <td>2.0</td>\n",
       "      <td>1.505131</td>\n",
       "      <td>0.228985</td>\n",
       "    </tr>\n",
       "    <tr>\n",
       "      <th>AgeAtBaseline</th>\n",
       "      <td>142.094586</td>\n",
       "      <td>1.0</td>\n",
       "      <td>4.626939</td>\n",
       "      <td>0.034878</td>\n",
       "    </tr>\n",
       "    <tr>\n",
       "      <th>sex</th>\n",
       "      <td>98.735623</td>\n",
       "      <td>1.0</td>\n",
       "      <td>3.215068</td>\n",
       "      <td>0.077222</td>\n",
       "    </tr>\n",
       "    <tr>\n",
       "      <th>Residual</th>\n",
       "      <td>2180.429848</td>\n",
       "      <td>71.0</td>\n",
       "      <td>NaN</td>\n",
       "      <td>NaN</td>\n",
       "    </tr>\n",
       "  </tbody>\n",
       "</table>\n",
       "</div>"
      ],
      "text/plain": [
       "                    sum_sq    df         F    PR(>F)\n",
       "C(Group)         92.446000   2.0  1.505131  0.228985\n",
       "AgeAtBaseline   142.094586   1.0  4.626939  0.034878\n",
       "sex              98.735623   1.0  3.215068  0.077222\n",
       "Residual       2180.429848  71.0       NaN       NaN"
      ]
     },
     "execution_count": 103,
     "metadata": {},
     "output_type": "execute_result"
    }
   ],
   "source": [
    "# Perform ANCOVA\n",
    "formula = 'BPRS_pos ~ C(Group) + AgeAtBaseline + sex'\n",
    "model = ols(formula, data=MEND).fit()\n",
    "aov_table = sm.stats.anova_lm(model, typ=2)\n",
    "aov_table"
   ]
  },
  {
   "cell_type": "code",
   "execution_count": 105,
   "id": "259f6d04-fcad-4fe8-8b91-5d87b1ebeadc",
   "metadata": {},
   "outputs": [
    {
     "data": {
      "text/html": [
       "<div>\n",
       "<style scoped>\n",
       "    .dataframe tbody tr th:only-of-type {\n",
       "        vertical-align: middle;\n",
       "    }\n",
       "\n",
       "    .dataframe tbody tr th {\n",
       "        vertical-align: top;\n",
       "    }\n",
       "\n",
       "    .dataframe thead th {\n",
       "        text-align: right;\n",
       "    }\n",
       "</style>\n",
       "<table border=\"1\" class=\"dataframe\">\n",
       "  <thead>\n",
       "    <tr style=\"text-align: right;\">\n",
       "      <th></th>\n",
       "      <th>sum_sq</th>\n",
       "      <th>df</th>\n",
       "      <th>F</th>\n",
       "      <th>PR(&gt;F)</th>\n",
       "    </tr>\n",
       "  </thead>\n",
       "  <tbody>\n",
       "    <tr>\n",
       "      <th>C(Group)</th>\n",
       "      <td>62.467206</td>\n",
       "      <td>2.0</td>\n",
       "      <td>1.081345</td>\n",
       "      <td>0.344658</td>\n",
       "    </tr>\n",
       "    <tr>\n",
       "      <th>AgeAtBaseline</th>\n",
       "      <td>84.919829</td>\n",
       "      <td>1.0</td>\n",
       "      <td>2.940028</td>\n",
       "      <td>0.090771</td>\n",
       "    </tr>\n",
       "    <tr>\n",
       "      <th>sex</th>\n",
       "      <td>86.689140</td>\n",
       "      <td>1.0</td>\n",
       "      <td>3.001283</td>\n",
       "      <td>0.087541</td>\n",
       "    </tr>\n",
       "    <tr>\n",
       "      <th>Residual</th>\n",
       "      <td>2050.765651</td>\n",
       "      <td>71.0</td>\n",
       "      <td>NaN</td>\n",
       "      <td>NaN</td>\n",
       "    </tr>\n",
       "  </tbody>\n",
       "</table>\n",
       "</div>"
      ],
      "text/plain": [
       "                    sum_sq    df         F    PR(>F)\n",
       "C(Group)         62.467206   2.0  1.081345  0.344658\n",
       "AgeAtBaseline    84.919829   1.0  2.940028  0.090771\n",
       "sex              86.689140   1.0  3.001283  0.087541\n",
       "Residual       2050.765651  71.0       NaN       NaN"
      ]
     },
     "execution_count": 105,
     "metadata": {},
     "output_type": "execute_result"
    }
   ],
   "source": [
    "# Perform ANCOVA\n",
    "formula = 'BPRS_nonpos ~ C(Group) + AgeAtBaseline + sex'\n",
    "model = ols(formula, data=MEND).fit()\n",
    "aov_table = sm.stats.anova_lm(model, typ=2)\n",
    "aov_table"
   ]
  },
  {
   "cell_type": "code",
   "execution_count": 106,
   "id": "b942378a-c631-4b5b-a8de-97346338cf01",
   "metadata": {},
   "outputs": [
    {
     "data": {
      "text/html": [
       "<div>\n",
       "<style scoped>\n",
       "    .dataframe tbody tr th:only-of-type {\n",
       "        vertical-align: middle;\n",
       "    }\n",
       "\n",
       "    .dataframe tbody tr th {\n",
       "        vertical-align: top;\n",
       "    }\n",
       "\n",
       "    .dataframe thead th {\n",
       "        text-align: right;\n",
       "    }\n",
       "</style>\n",
       "<table border=\"1\" class=\"dataframe\">\n",
       "  <thead>\n",
       "    <tr style=\"text-align: right;\">\n",
       "      <th></th>\n",
       "      <th>sum_sq</th>\n",
       "      <th>df</th>\n",
       "      <th>F</th>\n",
       "      <th>PR(&gt;F)</th>\n",
       "    </tr>\n",
       "  </thead>\n",
       "  <tbody>\n",
       "    <tr>\n",
       "      <th>C(Group)</th>\n",
       "      <td>462.209793</td>\n",
       "      <td>2.0</td>\n",
       "      <td>1.444106</td>\n",
       "      <td>0.242803</td>\n",
       "    </tr>\n",
       "    <tr>\n",
       "      <th>AgeAtBaseline</th>\n",
       "      <td>0.235243</td>\n",
       "      <td>1.0</td>\n",
       "      <td>0.001470</td>\n",
       "      <td>0.969524</td>\n",
       "    </tr>\n",
       "    <tr>\n",
       "      <th>sex</th>\n",
       "      <td>1693.623489</td>\n",
       "      <td>1.0</td>\n",
       "      <td>10.582951</td>\n",
       "      <td>0.001749</td>\n",
       "    </tr>\n",
       "    <tr>\n",
       "      <th>Residual</th>\n",
       "      <td>11362.357292</td>\n",
       "      <td>71.0</td>\n",
       "      <td>NaN</td>\n",
       "      <td>NaN</td>\n",
       "    </tr>\n",
       "  </tbody>\n",
       "</table>\n",
       "</div>"
      ],
      "text/plain": [
       "                     sum_sq    df          F    PR(>F)\n",
       "C(Group)         462.209793   2.0   1.444106  0.242803\n",
       "AgeAtBaseline      0.235243   1.0   0.001470  0.969524\n",
       "sex             1693.623489   1.0  10.582951  0.001749\n",
       "Residual       11362.357292  71.0        NaN       NaN"
      ]
     },
     "execution_count": 106,
     "metadata": {},
     "output_type": "execute_result"
    }
   ],
   "source": [
    "# Perform ANCOVA\n",
    "formula = 'sans_total ~ C(Group) + AgeAtBaseline + sex'\n",
    "model = ols(formula, data=MEND).fit()\n",
    "aov_table = sm.stats.anova_lm(model, typ=2)\n",
    "aov_table"
   ]
  },
  {
   "cell_type": "code",
   "execution_count": 107,
   "id": "c0770a21-21dd-414f-8616-3b4ecdea411b",
   "metadata": {},
   "outputs": [
    {
     "data": {
      "text/html": [
       "<div>\n",
       "<style scoped>\n",
       "    .dataframe tbody tr th:only-of-type {\n",
       "        vertical-align: middle;\n",
       "    }\n",
       "\n",
       "    .dataframe tbody tr th {\n",
       "        vertical-align: top;\n",
       "    }\n",
       "\n",
       "    .dataframe thead th {\n",
       "        text-align: right;\n",
       "    }\n",
       "</style>\n",
       "<table border=\"1\" class=\"dataframe\">\n",
       "  <thead>\n",
       "    <tr style=\"text-align: right;\">\n",
       "      <th></th>\n",
       "      <th>sum_sq</th>\n",
       "      <th>df</th>\n",
       "      <th>F</th>\n",
       "      <th>PR(&gt;F)</th>\n",
       "    </tr>\n",
       "  </thead>\n",
       "  <tbody>\n",
       "    <tr>\n",
       "      <th>C(Group)</th>\n",
       "      <td>507.944851</td>\n",
       "      <td>2.0</td>\n",
       "      <td>5.513025</td>\n",
       "      <td>0.005948</td>\n",
       "    </tr>\n",
       "    <tr>\n",
       "      <th>AgeAtBaseline</th>\n",
       "      <td>338.096467</td>\n",
       "      <td>1.0</td>\n",
       "      <td>7.339121</td>\n",
       "      <td>0.008450</td>\n",
       "    </tr>\n",
       "    <tr>\n",
       "      <th>sex</th>\n",
       "      <td>147.412606</td>\n",
       "      <td>1.0</td>\n",
       "      <td>3.199912</td>\n",
       "      <td>0.077908</td>\n",
       "    </tr>\n",
       "    <tr>\n",
       "      <th>Residual</th>\n",
       "      <td>3270.806990</td>\n",
       "      <td>71.0</td>\n",
       "      <td>NaN</td>\n",
       "      <td>NaN</td>\n",
       "    </tr>\n",
       "  </tbody>\n",
       "</table>\n",
       "</div>"
      ],
      "text/plain": [
       "                    sum_sq    df         F    PR(>F)\n",
       "C(Group)        507.944851   2.0  5.513025  0.005948\n",
       "AgeAtBaseline   338.096467   1.0  7.339121  0.008450\n",
       "sex             147.412606   1.0  3.199912  0.077908\n",
       "Residual       3270.806990  71.0       NaN       NaN"
      ]
     },
     "execution_count": 107,
     "metadata": {},
     "output_type": "execute_result"
    }
   ],
   "source": [
    "# Perform ANCOVA\n",
    "formula = 'ymrs_total ~ C(Group) + AgeAtBaseline + sex'\n",
    "model = ols(formula, data=MEND).fit()\n",
    "aov_table = sm.stats.anova_lm(model, typ=2)\n",
    "aov_table"
   ]
  },
  {
   "cell_type": "code",
   "execution_count": 108,
   "id": "44e42eef-7ea8-4187-bc80-f8700409fc5a",
   "metadata": {},
   "outputs": [
    {
     "name": "stdout",
     "output_type": "stream",
     "text": [
      "q-values: [0.32     0.34     0.32     0.023792]\n"
     ]
    }
   ],
   "source": [
    "import statsmodels.stats.multitest as smm\n",
    "\n",
    "# Given p-values from the four ANOVA tests\n",
    "p_values = [0.23, 0.34, 0.24, 0.005948]\n",
    "\n",
    "# Apply the Benjamini-Hochberg correction\n",
    "_, pvals_corrected, _, _ = smm.multipletests(p_values, alpha=0.05, method='fdr_bh')\n",
    "\n",
    "# The corrected p-values (q-values) are stored in pvals_corrected\n",
    "print(\"q-values:\", pvals_corrected)"
   ]
  },
  {
   "cell_type": "code",
   "execution_count": 109,
   "id": "67946d63-c473-43e5-ba58-b164d81465e1",
   "metadata": {},
   "outputs": [
    {
     "name": "stdout",
     "output_type": "stream",
     "text": [
      "            mean       std\n",
      "Group                     \n",
      "1      13.512821  4.576092\n",
      "2      13.523810  5.163517\n",
      "3      15.625000  8.389478\n"
     ]
    }
   ],
   "source": [
    "# Calculate the mean and SD for 'feature' for each group\n",
    "grouped_stats = MEND.groupby('Group')['BPRS_pos'].agg(['mean', 'std'])\n",
    "\n",
    "print(grouped_stats)"
   ]
  },
  {
   "cell_type": "code",
   "execution_count": 110,
   "id": "74746480-14fb-4255-b151-0af29efc459e",
   "metadata": {},
   "outputs": [
    {
     "name": "stdout",
     "output_type": "stream",
     "text": [
      "            mean       std\n",
      "Group                     \n",
      "1      16.769231  4.743203\n",
      "2      18.428571  6.120224\n",
      "3      17.125000  6.280923\n"
     ]
    }
   ],
   "source": [
    "# Calculate the mean and SD for 'feature' for each group\n",
    "grouped_stats = MEND.groupby('Group')['BPRS_nonpos'].agg(['mean', 'std'])\n",
    "\n",
    "print(grouped_stats)"
   ]
  },
  {
   "cell_type": "code",
   "execution_count": 111,
   "id": "e5ef2496-1786-4413-b6ec-e3b676e5b6a8",
   "metadata": {},
   "outputs": [
    {
     "name": "stdout",
     "output_type": "stream",
     "text": [
      "            mean        std\n",
      "Group                      \n",
      "1      21.179487  14.525607\n",
      "2      19.523810  11.762734\n",
      "3      12.812500  12.443037\n"
     ]
    }
   ],
   "source": [
    "# Calculate the mean and SD for 'feature' for each group\n",
    "grouped_stats = MEND.groupby('Group')['sans_total'].agg(['mean', 'std'])\n",
    "\n",
    "print(grouped_stats)"
   ]
  },
  {
   "cell_type": "code",
   "execution_count": 112,
   "id": "1bf9b9fa-0fac-4111-a2ea-cadb5dec2536",
   "metadata": {},
   "outputs": [
    {
     "name": "stdout",
     "output_type": "stream",
     "text": [
      "            mean       std\n",
      "Group                     \n",
      "1       4.717949  4.756982\n",
      "2       7.333333  8.416254\n",
      "3      10.500000  9.702233\n"
     ]
    }
   ],
   "source": [
    "# Calculate the mean and SD for 'feature' for each group\n",
    "grouped_stats = MEND.groupby('Group')['ymrs_total'].agg(['mean', 'std'])\n",
    "\n",
    "print(grouped_stats)"
   ]
  },
  {
   "cell_type": "markdown",
   "id": "93d90a41-447a-4ddc-baf3-79e39afe68b6",
   "metadata": {},
   "source": [
    "### Violin plots"
   ]
  },
  {
   "cell_type": "code",
   "execution_count": 113,
   "id": "df3055c4-3ef1-41e2-93d3-3168ad191c71",
   "metadata": {},
   "outputs": [],
   "source": [
    "from matplotlib.ticker import MultipleLocator\n",
    "from matplotlib.colors import ListedColormap, to_rgb, to_hex\n",
    "pal_bgo_3 = [\"#31A9E7\", \"#305861\", \"#F19100\"]\n",
    "cmap_bgo_3 = ListedColormap([to_rgb(_) for _ in pal_bgo_3])"
   ]
  },
  {
   "cell_type": "code",
   "execution_count": 114,
   "id": "36f91ac3-97c2-4e6b-bda7-5c4fdc3c1c62",
   "metadata": {},
   "outputs": [],
   "source": [
    "import colorsys\n",
    "\n",
    "def scale_lightness(rgb, scale_l):\n",
    "    # convert rgb to hls\n",
    "    h, l, s = colorsys.rgb_to_hls(*rgb)\n",
    "    # manipulate h, l, s values and return as rgb\n",
    "    return colorsys.hls_to_rgb(h, min(1, l * scale_l), s = s)"
   ]
  },
  {
   "cell_type": "code",
   "execution_count": 115,
   "id": "f7c886f4-dafc-4fe6-ba64-44f8354c4f9f",
   "metadata": {},
   "outputs": [
    {
     "data": {
      "image/png": "[encoded data removed]",
      "text/html": [
       "<div style=\"vertical-align: middle;\"><strong>from_list</strong> </div><div class=\"cmap\"><img alt=\"from_list colormap\" title=\"from_list\" style=\"border: 1px solid #555;\" src=\"data:image/png;base64,iVBORw0KGgoAAAANSUhEUgAAAgAAAABACAYAAABsv8+/AAAAGHRFWHRUaXRsZQBmcm9tX2xpc3QgY29sb3JtYXBDL89FAAAAHnRFWHREZXNjcmlwdGlvbgBmcm9tX2xpc3QgY29sb3JtYXABtCnOAAAAMHRFWHRBdXRob3IATWF0cGxvdGxpYiB2My41LjIsIGh0dHBzOi8vbWF0cGxvdGxpYi5vcmfCWnicAAAAMnRFWHRTb2Z0d2FyZQBNYXRwbG90bGliIHYzLjUuMiwgaHR0cHM6Ly9tYXRwbG90bGliLm9yZ+z857sAAAFESURBVHic7dbBCYNQFEXBmGAKcOfaDmL/tZkGXPs/nJkKLjwenOWz7deLKX2P3+gJ3HCXOa3HOXoCN/zLvN6jBwAAzxMAABAkAAAgSAAAQJAAAIAgAQAAQQIAAIIEAAAECQAACBIAABAkAAAgSAAAQJAAAIAgAQAAQQIAAIIEAAAECQAACBIAABAkAAAgSAAAQJAAAIAgAQAAQQIAAIIEAAAECQAACBIAABAkAAAgSAAAQJAAAIAgAQAAQQIAAIIEAAAECQAACBIAABAkAAAgSAAAQJAAAIAgAQAAQQIAAIIEAAAECQAACBIAABAkAAAgSAAAQJAAAIAgAQAAQQIAAIIEAAAECQAACBIAABAkAAAgSAAAQJAAAIAgAQAAQQIAAIIEAAAECQAACBIAABAkAAAgSAAAQJAAAIAgAQAAQQIAAIL+U8kDGdKFKO4AAAAASUVORK5CYII=\"></div><div style=\"vertical-align: middle; max-width: 514px; display: flex; justify-content: space-between;\"><div style=\"float: left;\"><div title=\"#031219ff\" style=\"display: inline-block; width: 1em; height: 1em; margin: 0; vertical-align: middle; border: 1px solid #555; background-color: #031219ff;\"></div> under</div><div style=\"margin: 0 auto; display: inline-block;\">bad <div title=\"#00000000\" style=\"display: inline-block; width: 1em; height: 1em; margin: 0; vertical-align: middle; border: 1px solid #555; background-color: #00000000;\"></div></div><div style=\"float: right;\">over <div title=\"#1a9ee2ff\" style=\"display: inline-block; width: 1em; height: 1em; margin: 0; vertical-align: middle; border: 1px solid #555; background-color: #1a9ee2ff;\"></div></div>"
      ],
      "text/plain": [
       "<matplotlib.colors.ListedColormap at 0x2b4cf6abe110>"
      ]
     },
     "execution_count": 115,
     "metadata": {},
     "output_type": "execute_result"
    }
   ],
   "source": [
    "ListedColormap([to_hex(scale_lightness(to_rgb(pal_bgo_3[0]), _)) for _ in [0.1, 0.3, 0.5, 0.7, 0.9]])"
   ]
  },
  {
   "cell_type": "code",
   "execution_count": 116,
   "id": "356af30a-44d2-4684-87fb-7570dfb185e3",
   "metadata": {},
   "outputs": [
    {
     "data": {
      "image/png": "[encoded data removed]",
      "text/html": [
       "<div style=\"vertical-align: middle;\"><strong>from_list</strong> </div><div class=\"cmap\"><img alt=\"from_list colormap\" title=\"from_list\" style=\"border: 1px solid #555;\" src=\"data:image/png;base64,iVBORw0KGgoAAAANSUhEUgAAAgAAAABACAYAAABsv8+/AAAAGHRFWHRUaXRsZQBmcm9tX2xpc3QgY29sb3JtYXBDL89FAAAAHnRFWHREZXNjcmlwdGlvbgBmcm9tX2xpc3QgY29sb3JtYXABtCnOAAAAMHRFWHRBdXRob3IATWF0cGxvdGxpYiB2My41LjIsIGh0dHBzOi8vbWF0cGxvdGxpYi5vcmfCWnicAAAAMnRFWHRTb2Z0d2FyZQBNYXRwbG90bGliIHYzLjUuMiwgaHR0cHM6Ly9tYXRwbG90bGliLm9yZ+z857sAAAE/SURBVHic7dYxEYNAAABBgqOUWIuZ1FRoiBpkfCSQKj/M7Sq48h7P/RwL3MA4XrMT4NJne89OgJ+sswMAgP8zAAAQZAAAIMgAAECQAQCAIAMAAEEGAACCDAAABBkAAAgyAAAQZAAAIMgAAECQAQCAIAMAAEEGAACCDAAABBkAAAgyAAAQZAAAIMgAAECQAQCAIAMAAEEGAACCDAAABBkAAAgyAAAQZAAAIMgAAECQAQCAIAMAAEEGAACCDAAABBkAAAgyAAAQZAAAIMgAAECQAQCAIAMAAEEGAACCDAAABBkAAAgyAAAQZAAAIMgAAECQAQCAIAMAAEEGAACCDAAABBkAAAgyAAAQZAAAIMgAAECQAQCAIAMAAEEGAACCDAAABBkAAAgyAAAQZAAAIMgAAECQAQCAIAMAAEEGAACCviVlBwHbItM/AAAAAElFTkSuQmCC\"></div><div style=\"vertical-align: middle; max-width: 514px; display: flex; justify-content: space-between;\"><div style=\"float: left;\"><div title=\"#31a9e7ff\" style=\"display: inline-block; width: 1em; height: 1em; margin: 0; vertical-align: middle; border: 1px solid #555; background-color: #31a9e7ff;\"></div> under</div><div style=\"margin: 0 auto; display: inline-block;\">bad <div title=\"#00000000\" style=\"display: inline-block; width: 1em; height: 1em; margin: 0; vertical-align: middle; border: 1px solid #555; background-color: #00000000;\"></div></div><div style=\"float: right;\">over <div title=\"#f19100ff\" style=\"display: inline-block; width: 1em; height: 1em; margin: 0; vertical-align: middle; border: 1px solid #555; background-color: #f19100ff;\"></div></div>"
      ],
      "text/plain": [
       "<matplotlib.colors.ListedColormap at 0x2b4cfe6db4f0>"
      ]
     },
     "execution_count": 116,
     "metadata": {},
     "output_type": "execute_result"
    }
   ],
   "source": [
    "cmap_bgo_3"
   ]
  },
  {
   "cell_type": "code",
   "execution_count": 120,
   "id": "10b85041-af0b-489e-9919-07303736d708",
   "metadata": {},
   "outputs": [
    {
     "data": {
      "image/png": "[encoded data removed]",
      "text/plain": [
       "<Figure size 432x288 with 1 Axes>"
      ]
     },
     "metadata": {
      "needs_background": "light"
     },
     "output_type": "display_data"
    }
   ],
   "source": [
    "from matplotlib.colors import to_rgb, to_hex\n",
    "import colorsys\n",
    "import seaborn as sns\n",
    "import matplotlib.pyplot as plt\n",
    "\n",
    "# Original color palette\n",
    "pal_bgo_3 = [\"#31A9E7\", \"#305861\", \"#F19100\"]\n",
    "\n",
    "# Function to scale lightness of an RGB color\n",
    "def scale_lightness(rgb, scale_l):\n",
    "    h, l, s = colorsys.rgb_to_hls(*rgb)\n",
    "    return colorsys.hls_to_rgb(h, min(1, l * scale_l), s = s)\n",
    "\n",
    "# Create a list of brighter colors\n",
    "bright_colors = [scale_lightness(to_rgb(color), 1.05) for color in pal_bgo_3]\n",
    "\n",
    "# Convert to hex for seaborn compatibility\n",
    "bright_colors_hex = [to_hex(color) for color in bright_colors]\n",
    "\n",
    "# Create the plot\n",
    "ax = sns.violinplot(\n",
    "    data=MEND,  # Your data here\n",
    "    x=\"Group\", y=\"BPRS_nonpos\", \n",
    "    palette=bright_colors_hex,\n",
    "    inner=None,\n",
    "    scale=\"area\",\n",
    "    linewidth=0\n",
    ")\n",
    "\n",
    "new_labels = ['SZ', 'SZAD', 'BP']  # Define your new labels here\n",
    "ax.set_xticks(range(len(new_labels)))  # This sets the positions of the ticks\n",
    "ax.set_xticklabels(new_labels) \n",
    "ax.set_xlabel('')\n",
    "ax.set_ylabel('BPRS Total Non-Psychotic Symptom Severity')\n",
    "# Remove right and top spines\n",
    "ax.spines['right'].set_visible(False)\n",
    "ax.spines['top'].set_visible(False)\n"
   ]
  },
  {
   "cell_type": "code",
   "execution_count": null,
   "id": "6003d740-06d3-44d6-9b2a-78bc6f4b5216",
   "metadata": {},
   "outputs": [],
   "source": []
  }
 ],
 "metadata": {
  "kernelspec": {
   "display_name": "analysis",
   "language": "python",
   "name": "analysis"
  },
  "language_info": {
   "codemirror_mode": {
    "name": "ipython",
    "version": 3
   },
   "file_extension": ".py",
   "mimetype": "text/x-python",
   "name": "python",
   "nbconvert_exporter": "python",
   "pygments_lexer": "ipython3",
   "version": "3.10.4"
  }
 },
 "nbformat": 4,
 "nbformat_minor": 5
}
