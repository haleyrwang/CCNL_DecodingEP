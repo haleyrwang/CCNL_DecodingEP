{
 "cells": [
  {
   "cell_type": "markdown",
   "id": "b2f46e42-bd90-47c4-a17c-d5b4e0d069e5",
   "metadata": {
    "tags": []
   },
   "source": [
    "# Supp: clinical scores group comparisons"
   ]
  },
  {
   "cell_type": "markdown",
   "id": "97d0b8b1-32a1-4680-9164-9b198414ae89",
   "metadata": {},
   "source": [
    "- Project:        HCP-EP\n",
    "- File Name:      clinical_group_differences\n",
    "- Author:         Haley Wang\n",
    "- Date Created:   2023-9-22\n",
    "- Last Modified:  2023-9-22\n",
    "- Code Status:    Testing"
   ]
  },
  {
   "cell_type": "code",
   "execution_count": null,
   "id": "1f14bdb8-b43c-45cd-a9f8-4265604e4148",
   "metadata": {
    "tags": []
   },
   "outputs": [],
   "source": [
    "import numpy as np\n",
    "import pandas as pd\n",
    "import pyls\n",
    "import h5py\n",
    "import matplotlib\n",
    "import matplotlib.pyplot as plt\n",
    "from matplotlib.colors import ListedColormap\n",
    "import seaborn as sns\n",
    "from netneurotools import datasets, stats, plotting\n",
    "from scipy import stats\n",
    "from scipy.stats import zscore, pearsonr, ttest_ind\n",
    "from scipy.spatial.distance import squareform, pdist"
   ]
  },
  {
   "cell_type": "code",
   "execution_count": null,
   "id": "d45fcbe5-792e-4bd0-9692-f5619021eecb",
   "metadata": {},
   "outputs": [],
   "source": [
    "pd.set_option('display.max_rows', None)\n",
    "pd.set_option('display.max_columns', None)\n",
    "#pd.reset_option('all')"
   ]
  },
  {
   "cell_type": "markdown",
   "id": "f9b96f10-d7d1-4047-9141-4ea0d354bf1f",
   "metadata": {
    "tags": []
   },
   "source": [
    "### Import clinical data from both EP and MEND"
   ]
  },
  {
   "cell_type": "code",
   "execution_count": null,
   "id": "6326afb7-7af3-4c07-9810-12530a4369ed",
   "metadata": {},
   "outputs": [],
   "source": [
    "\"\"\"\n",
    "load data (age and sex were regressed out)\n",
    "\"\"\"\n",
    "\n",
    "EP = pd.read_csv('/u/project/CCN/cbearden/haleywan/qunex_studyfolder/analysis/scripts/behavioral/HCPEP_Cli_Behav_data.csv')\n",
    "MEND = pd.read_csv('/u/project/CCN/cbearden/haleywan/qunex_studyfolder/analysis/scripts/PLS_MEND_Replication/clinical_all.csv')"
   ]
  },
  {
   "cell_type": "markdown",
   "id": "2281d402-7bdd-4f14-8f8f-a2b2476dab99",
   "metadata": {},
   "source": [
    "### For EP"
   ]
  },
  {
   "cell_type": "code",
   "execution_count": null,
   "id": "acf26df9-e155-41d2-8e72-898fdfcba265",
   "metadata": {
    "tags": []
   },
   "outputs": [],
   "source": [
    "EP = EP[EP['cohort'] != 3]\n",
    "EP['dx'] = pd.to_numeric(EP['dx'], errors='coerce')"
   ]
  },
  {
   "cell_type": "code",
   "execution_count": null,
   "id": "a604a39c-1a24-47e0-8952-93d1783457df",
   "metadata": {},
   "outputs": [],
   "source": [
    "# Define a function to set the values of column \"A\" based on column \"B\"\n",
    "def set_value(row):\n",
    "    if row['dx'] in [295.90, 295.40, 298.80, 297.10]:\n",
    "        return 1\n",
    "    elif row['dx'] in [295.70]:\n",
    "        return 2\n",
    "    elif row['dx'] in [296.24, 296.44, 296.89, 296.54, 296.34, 296.40, 296.53]:\n",
    "        return 3\n",
    "\n",
    "# Apply the function to create column \"A\"\n",
    "EP['Group'] = EP.apply(set_value, axis=1)"
   ]
  },
  {
   "cell_type": "code",
   "execution_count": null,
   "id": "427d36f7-0232-4f8f-ae83-930c24ef113e",
   "metadata": {},
   "outputs": [],
   "source": [
    "EP['Group']"
   ]
  },
  {
   "cell_type": "code",
   "execution_count": null,
   "id": "a2264f0e-2183-45a5-9666-e679bbbb49b8",
   "metadata": {
    "tags": []
   },
   "outputs": [],
   "source": [
    "# Get column names as a list\n",
    "column_names = EP.columns.tolist()\n",
    "\n",
    "# Print or use the list\n",
    "print(column_names)\n"
   ]
  },
  {
   "cell_type": "code",
   "execution_count": null,
   "id": "e4b25be2-7593-4189-8318-a83b96fae7db",
   "metadata": {
    "jupyter": {
     "source_hidden": true
    },
    "tags": []
   },
   "outputs": [],
   "source": [
    "# Calculate the sum of those columns row-wise and store it in a new column 'pos_total'\n",
    "EP['total_positive'] = EP.filter(like='pos_').sum(axis=1)\n",
    "EP['total_negtive'] = EP.filter(like='neg_').sum(axis=1)\n",
    "EP['total_general'] = EP.filter(like='gps_').sum(axis=1)\n",
    "EP['total_mania'] = EP.filter(like='ymrs_').sum(axis=1)\n"
   ]
  },
  {
   "cell_type": "code",
   "execution_count": null,
   "id": "5ef06e5f-2d49-4469-a59e-857c264c76e7",
   "metadata": {},
   "outputs": [],
   "source": [
    "import pandas as pd\n",
    "import statsmodels.api as sm\n",
    "from statsmodels.formula.api import ols"
   ]
  },
  {
   "cell_type": "code",
   "execution_count": null,
   "id": "73e66bcd-6092-4779-a8c6-92fd5ed67668",
   "metadata": {},
   "outputs": [],
   "source": [
    "# Perform ANCOVA\n",
    "formula = 'pos_total ~ C(Group) + interview_age_month + sex'\n",
    "model = ols(formula, data=EP).fit()\n",
    "aov_table = sm.stats.anova_lm(model, typ=2)\n",
    "aov_table"
   ]
  },
  {
   "cell_type": "code",
   "execution_count": null,
   "id": "343ee0d0-3445-4369-ae3d-0298640975c2",
   "metadata": {},
   "outputs": [],
   "source": [
    "# Perform ANCOVA\n",
    "formula = 'neg_total ~ C(Group) + interview_age_month + sex'\n",
    "model = ols(formula, data=EP).fit()\n",
    "aov_table = sm.stats.anova_lm(model, typ=2)\n",
    "aov_table"
   ]
  },
  {
   "cell_type": "code",
   "execution_count": null,
   "id": "19305046-e930-4f54-b30c-4213189d59a7",
   "metadata": {},
   "outputs": [],
   "source": [
    "# Perform ANCOVA\n",
    "formula = 'gps_total ~ C(Group) + interview_age_month + sex'\n",
    "model = ols(formula, data=EP).fit()\n",
    "aov_table = sm.stats.anova_lm(model, typ=2)\n",
    "aov_table"
   ]
  },
  {
   "cell_type": "code",
   "execution_count": null,
   "id": "bc26a028-92c1-4036-8ee5-2d0a4229d96a",
   "metadata": {},
   "outputs": [],
   "source": [
    "# Perform ANCOVA\n",
    "formula = 'ymrs_total ~ C(Group) + interview_age_month + sex'\n",
    "model = ols(formula, data=EP).fit()\n",
    "aov_table = sm.stats.anova_lm(model, typ=2)\n",
    "aov_table"
   ]
  },
  {
   "cell_type": "code",
   "execution_count": null,
   "id": "a64f88c2-70fc-457b-828c-0d45ca15ca7c",
   "metadata": {},
   "outputs": [],
   "source": [
    "import statsmodels.stats.multitest as smm\n",
    "\n",
    "# Given p-values from the four ANOVA tests\n",
    "p_values = [0.000083, 0.003159, 0.015050, 0.347700]\n",
    "\n",
    "# Apply the Benjamini-Hochberg correction\n",
    "_, pvals_corrected, _, _ = smm.multipletests(p_values, alpha=0.05, method='fdr_bh')\n",
    "\n",
    "# The corrected p-values (q-values) are stored in pvals_corrected\n",
    "print(\"q-values:\", pvals_corrected)"
   ]
  },
  {
   "cell_type": "code",
   "execution_count": null,
   "id": "4177054d-941f-4ac7-a4c2-53a524362ea9",
   "metadata": {},
   "outputs": [],
   "source": [
    "# Calculate the mean and SD for 'feature' for each group\n",
    "grouped_stats = EP.groupby('Group')['pos_total'].agg(['mean', 'std'])\n",
    "\n",
    "print(grouped_stats)"
   ]
  },
  {
   "cell_type": "code",
   "execution_count": null,
   "id": "35276b6b-b551-4fdd-80e0-3e729ff05063",
   "metadata": {},
   "outputs": [],
   "source": [
    "# Calculate the mean and SD for 'feature' for each group\n",
    "grouped_stats = EP.groupby('Group')['neg_total'].agg(['mean', 'std'])\n",
    "\n",
    "print(grouped_stats)"
   ]
  },
  {
   "cell_type": "code",
   "execution_count": null,
   "id": "26190f25-8eaf-4ce7-bbc2-d9bc682cc2fa",
   "metadata": {},
   "outputs": [],
   "source": [
    "# Calculate the mean and SD for 'feature' for each group\n",
    "grouped_stats = EP.groupby('Group')['gps_total'].agg(['mean', 'std'])\n",
    "\n",
    "print(grouped_stats)"
   ]
  },
  {
   "cell_type": "code",
   "execution_count": null,
   "id": "f5c391f9-45a0-46f1-b7aa-733122eb34ab",
   "metadata": {},
   "outputs": [],
   "source": [
    "# Calculate the mean and SD for 'feature' for each group\n",
    "grouped_stats = EP.groupby('Group')['ymrs_total'].agg(['mean', 'std'])\n",
    "\n",
    "print(grouped_stats)"
   ]
  },
  {
   "cell_type": "markdown",
   "id": "d78d9c00-0499-4a21-92dd-ebb9bc6f6040",
   "metadata": {},
   "source": [
    "### Violin plots"
   ]
  },
  {
   "cell_type": "code",
   "execution_count": null,
   "id": "f34cbc3b-43a5-44f6-bc57-e833c14c360a",
   "metadata": {},
   "outputs": [],
   "source": [
    "from matplotlib.ticker import MultipleLocator\n",
    "from matplotlib.colors import ListedColormap, to_rgb, to_hex\n",
    "pal_bgo_3 = [\"#31A9E7\", \"#305861\", \"#F19100\"]\n",
    "cmap_bgo_3 = ListedColormap([to_rgb(_) for _ in pal_bgo_3])"
   ]
  },
  {
   "cell_type": "code",
   "execution_count": null,
   "id": "c9171e8e-cdca-409b-933a-8f0fd47f5601",
   "metadata": {},
   "outputs": [],
   "source": [
    "import colorsys\n",
    "\n",
    "def scale_lightness(rgb, scale_l):\n",
    "    # convert rgb to hls\n",
    "    h, l, s = colorsys.rgb_to_hls(*rgb)\n",
    "    # manipulate h, l, s values and return as rgb\n",
    "    return colorsys.hls_to_rgb(h, min(1, l * scale_l), s = s)"
   ]
  },
  {
   "cell_type": "code",
   "execution_count": null,
   "id": "d9cc929e-fa84-4939-88e1-1cb392988ee7",
   "metadata": {},
   "outputs": [],
   "source": [
    "ListedColormap([to_hex(scale_lightness(to_rgb(pal_bgo_3[0]), _)) for _ in [0.1, 0.3, 0.5, 0.7, 0.9]])"
   ]
  },
  {
   "cell_type": "code",
   "execution_count": null,
   "id": "0908c623-207a-40b7-9c04-0040e4ecdfcf",
   "metadata": {},
   "outputs": [],
   "source": [
    "cmap_bgo_3"
   ]
  },
  {
   "cell_type": "code",
   "execution_count": null,
   "id": "f5c15599-182b-4840-9822-e1754f7c9b2c",
   "metadata": {},
   "outputs": [],
   "source": [
    "from matplotlib.colors import to_rgb, to_hex\n",
    "import colorsys\n",
    "import seaborn as sns\n",
    "import matplotlib.pyplot as plt\n",
    "\n",
    "# Original color palette\n",
    "pal_bgo_3 = [\"#31A9E7\", \"#305861\", \"#F19100\"]\n",
    "\n",
    "# Function to scale lightness of an RGB color\n",
    "def scale_lightness(rgb, scale_l):\n",
    "    h, l, s = colorsys.rgb_to_hls(*rgb)\n",
    "    return colorsys.hls_to_rgb(h, min(1, l * scale_l), s = s)\n",
    "\n",
    "# Create a list of brighter colors\n",
    "bright_colors = [scale_lightness(to_rgb(color), 1.05) for color in pal_bgo_3]\n",
    "\n",
    "# Convert to hex for seaborn compatibility\n",
    "bright_colors_hex = [to_hex(color) for color in bright_colors]\n",
    "\n",
    "# Create the plot\n",
    "ax = sns.violinplot(\n",
    "    data=EP,  # Your data here\n",
    "    x=\"Group\", y=\"ymrs_total\", \n",
    "    palette=bright_colors_hex,\n",
    "    inner=None,\n",
    "    scale=\"area\",\n",
    "    linewidth=0\n",
    ")\n",
    "\n",
    "new_labels = ['SZ', 'SZAD', 'BP']  # Define your new labels here\n",
    "ax.set_xticks(range(len(new_labels)))  # This sets the positions of the ticks\n",
    "ax.set_xticklabels(new_labels) \n",
    "ax.set_xlabel('')\n",
    "ax.set_ylabel('YMRS Mania Symptom Severity')\n",
    "# Remove right and top spines\n",
    "ax.spines['right'].set_visible(False)\n",
    "ax.spines['top'].set_visible(False)\n"
   ]
  },
  {
   "cell_type": "markdown",
   "id": "6d83fbf2-c250-487d-b428-a92558caef32",
   "metadata": {},
   "source": [
    "### For MEND"
   ]
  },
  {
   "cell_type": "markdown",
   "id": "2f0f125a-f1d0-4779-9104-8af88638f5e5",
   "metadata": {},
   "source": [
    "### For EP"
   ]
  },
  {
   "cell_type": "code",
   "execution_count": null,
   "id": "6992637a-81fa-4fd0-8c14-a1899bcc9c8e",
   "metadata": {
    "tags": []
   },
   "outputs": [],
   "source": [
    "# Get column names as a list\n",
    "column_names = MEND.columns.tolist()\n",
    "\n",
    "# Print or use the list\n",
    "print(column_names)\n"
   ]
  },
  {
   "cell_type": "code",
   "execution_count": null,
   "id": "49802928-2149-437c-85b5-98e60fca7934",
   "metadata": {
    "jupyter": {
     "source_hidden": true
    },
    "tags": []
   },
   "outputs": [],
   "source": [
    "# Calculate the sum of those columns row-wise and store it in a new column 'pos_total'\n",
    "EP['total_positive'] = EP.filter(like='pos_').sum(axis=1)\n",
    "EP['total_negtive'] = EP.filter(like='neg_').sum(axis=1)\n",
    "EP['total_general'] = EP.filter(like='gps_').sum(axis=1)\n",
    "EP['total_mania'] = EP.filter(like='ymrs_').sum(axis=1)\n"
   ]
  },
  {
   "cell_type": "code",
   "execution_count": null,
   "id": "8e2ebd26-c1fa-48be-b984-332b4392e41f",
   "metadata": {},
   "outputs": [],
   "source": [
    "# Using map\n",
    "MEND['Group'] = MEND['PatientType2'].map({2: 1, 3: 2, 5: 3})\n",
    "MEND['BPRS_pos'] = MEND[['BPRS_ConceptualDisorg', 'BPRS_Grandiosity', 'BPRS_Hostility', 'BPRS_Suspiciousness',\n",
    "                         'BPRS_HallucinatoryBehav', 'BPRS_Uncooperativeness', 'BPRS_UnusualThoughtContent', 'BPRS_Excitement']].sum(axis=1)\n",
    "MEND['BPRS_nonpos'] = MEND[['BPRS_Anxiety', 'BPRS_Disorientation', 'BPRS_GuiltFeelings', 'BPRS_MannerismsPosturing', 'BPRS_MotorRetard', 'BPRS_EmotionalWithdrawal', 'BPRS_Tension', 'BPRS_BluntedAffect', \n",
    "                            'BPRS_DepressiveMood', 'BPRS_SomaticConcern']].sum(axis=1)\n",
    "\n",
    "\n",
    "# Filter columns whose names start with 'SANS_'\n",
    "sans_cols = [col for col in MEND.columns if col.startswith('SANS_')]\n",
    "\n",
    "# Create a new column that is the sum of all 'SANS_' columns\n",
    "MEND['sans_total'] = MEND[sans_cols].sum(axis=1)\n",
    "\n",
    "# Filter columns whose names start with 'SANS_'\n",
    "ymrs_cols = [col for col in MEND.columns if col.startswith('YMRS_')]\n",
    "\n",
    "# Create a new column that is the sum of all 'SANS_' columns\n",
    "MEND['ymrs_total'] = MEND[ymrs_cols].sum(axis=1)\n"
   ]
  },
  {
   "cell_type": "code",
   "execution_count": null,
   "id": "67836c27-530f-4230-9718-51a8e8efd831",
   "metadata": {},
   "outputs": [],
   "source": [
    "import pandas as pd\n",
    "import statsmodels.api as sm\n",
    "from statsmodels.formula.api import ols"
   ]
  },
  {
   "cell_type": "code",
   "execution_count": null,
   "id": "89b2c6f0-67da-41d5-8e02-b33d1309d211",
   "metadata": {},
   "outputs": [],
   "source": [
    "# Perform ANCOVA\n",
    "formula = 'BPRS_pos ~ C(Group) + AgeAtBaseline + sex'\n",
    "model = ols(formula, data=MEND).fit()\n",
    "aov_table = sm.stats.anova_lm(model, typ=2)\n",
    "aov_table"
   ]
  },
  {
   "cell_type": "code",
   "execution_count": null,
   "id": "259f6d04-fcad-4fe8-8b91-5d87b1ebeadc",
   "metadata": {},
   "outputs": [],
   "source": [
    "# Perform ANCOVA\n",
    "formula = 'BPRS_nonpos ~ C(Group) + AgeAtBaseline + sex'\n",
    "model = ols(formula, data=MEND).fit()\n",
    "aov_table = sm.stats.anova_lm(model, typ=2)\n",
    "aov_table"
   ]
  },
  {
   "cell_type": "code",
   "execution_count": null,
   "id": "b942378a-c631-4b5b-a8de-97346338cf01",
   "metadata": {},
   "outputs": [],
   "source": [
    "# Perform ANCOVA\n",
    "formula = 'sans_total ~ C(Group) + AgeAtBaseline + sex'\n",
    "model = ols(formula, data=MEND).fit()\n",
    "aov_table = sm.stats.anova_lm(model, typ=2)\n",
    "aov_table"
   ]
  },
  {
   "cell_type": "code",
   "execution_count": null,
   "id": "c0770a21-21dd-414f-8616-3b4ecdea411b",
   "metadata": {},
   "outputs": [],
   "source": [
    "# Perform ANCOVA\n",
    "formula = 'ymrs_total ~ C(Group) + AgeAtBaseline + sex'\n",
    "model = ols(formula, data=MEND).fit()\n",
    "aov_table = sm.stats.anova_lm(model, typ=2)\n",
    "aov_table"
   ]
  },
  {
   "cell_type": "code",
   "execution_count": null,
   "id": "44e42eef-7ea8-4187-bc80-f8700409fc5a",
   "metadata": {},
   "outputs": [],
   "source": [
    "import statsmodels.stats.multitest as smm\n",
    "\n",
    "# Given p-values from the four ANOVA tests\n",
    "p_values = [0.23, 0.34, 0.24, 0.005948]\n",
    "\n",
    "# Apply the Benjamini-Hochberg correction\n",
    "_, pvals_corrected, _, _ = smm.multipletests(p_values, alpha=0.05, method='fdr_bh')\n",
    "\n",
    "# The corrected p-values (q-values) are stored in pvals_corrected\n",
    "print(\"q-values:\", pvals_corrected)"
   ]
  },
  {
   "cell_type": "code",
   "execution_count": null,
   "id": "67946d63-c473-43e5-ba58-b164d81465e1",
   "metadata": {},
   "outputs": [],
   "source": [
    "# Calculate the mean and SD for 'feature' for each group\n",
    "grouped_stats = MEND.groupby('Group')['BPRS_pos'].agg(['mean', 'std'])\n",
    "\n",
    "print(grouped_stats)"
   ]
  },
  {
   "cell_type": "code",
   "execution_count": null,
   "id": "74746480-14fb-4255-b151-0af29efc459e",
   "metadata": {},
   "outputs": [],
   "source": [
    "# Calculate the mean and SD for 'feature' for each group\n",
    "grouped_stats = MEND.groupby('Group')['BPRS_nonpos'].agg(['mean', 'std'])\n",
    "\n",
    "print(grouped_stats)"
   ]
  },
  {
   "cell_type": "code",
   "execution_count": null,
   "id": "e5ef2496-1786-4413-b6ec-e3b676e5b6a8",
   "metadata": {},
   "outputs": [],
   "source": [
    "# Calculate the mean and SD for 'feature' for each group\n",
    "grouped_stats = MEND.groupby('Group')['sans_total'].agg(['mean', 'std'])\n",
    "\n",
    "print(grouped_stats)"
   ]
  },
  {
   "cell_type": "code",
   "execution_count": null,
   "id": "1bf9b9fa-0fac-4111-a2ea-cadb5dec2536",
   "metadata": {},
   "outputs": [],
   "source": [
    "# Calculate the mean and SD for 'feature' for each group\n",
    "grouped_stats = MEND.groupby('Group')['ymrs_total'].agg(['mean', 'std'])\n",
    "\n",
    "print(grouped_stats)"
   ]
  },
  {
   "cell_type": "markdown",
   "id": "93d90a41-447a-4ddc-baf3-79e39afe68b6",
   "metadata": {},
   "source": [
    "### Violin plots"
   ]
  },
  {
   "cell_type": "code",
   "execution_count": null,
   "id": "df3055c4-3ef1-41e2-93d3-3168ad191c71",
   "metadata": {},
   "outputs": [],
   "source": [
    "from matplotlib.ticker import MultipleLocator\n",
    "from matplotlib.colors import ListedColormap, to_rgb, to_hex\n",
    "pal_bgo_3 = [\"#31A9E7\", \"#305861\", \"#F19100\"]\n",
    "cmap_bgo_3 = ListedColormap([to_rgb(_) for _ in pal_bgo_3])"
   ]
  },
  {
   "cell_type": "code",
   "execution_count": null,
   "id": "36f91ac3-97c2-4e6b-bda7-5c4fdc3c1c62",
   "metadata": {},
   "outputs": [],
   "source": [
    "import colorsys\n",
    "\n",
    "def scale_lightness(rgb, scale_l):\n",
    "    # convert rgb to hls\n",
    "    h, l, s = colorsys.rgb_to_hls(*rgb)\n",
    "    # manipulate h, l, s values and return as rgb\n",
    "    return colorsys.hls_to_rgb(h, min(1, l * scale_l), s = s)"
   ]
  },
  {
   "cell_type": "code",
   "execution_count": null,
   "id": "f7c886f4-dafc-4fe6-ba64-44f8354c4f9f",
   "metadata": {},
   "outputs": [],
   "source": [
    "ListedColormap([to_hex(scale_lightness(to_rgb(pal_bgo_3[0]), _)) for _ in [0.1, 0.3, 0.5, 0.7, 0.9]])"
   ]
  },
  {
   "cell_type": "code",
   "execution_count": null,
   "id": "356af30a-44d2-4684-87fb-7570dfb185e3",
   "metadata": {},
   "outputs": [],
   "source": [
    "cmap_bgo_3"
   ]
  },
  {
   "cell_type": "code",
   "execution_count": null,
   "id": "10b85041-af0b-489e-9919-07303736d708",
   "metadata": {},
   "outputs": [],
   "source": [
    "from matplotlib.colors import to_rgb, to_hex\n",
    "import colorsys\n",
    "import seaborn as sns\n",
    "import matplotlib.pyplot as plt\n",
    "\n",
    "# Original color palette\n",
    "pal_bgo_3 = [\"#31A9E7\", \"#305861\", \"#F19100\"]\n",
    "\n",
    "# Function to scale lightness of an RGB color\n",
    "def scale_lightness(rgb, scale_l):\n",
    "    h, l, s = colorsys.rgb_to_hls(*rgb)\n",
    "    return colorsys.hls_to_rgb(h, min(1, l * scale_l), s = s)\n",
    "\n",
    "# Create a list of brighter colors\n",
    "bright_colors = [scale_lightness(to_rgb(color), 1.05) for color in pal_bgo_3]\n",
    "\n",
    "# Convert to hex for seaborn compatibility\n",
    "bright_colors_hex = [to_hex(color) for color in bright_colors]\n",
    "\n",
    "# Create the plot\n",
    "ax = sns.violinplot(\n",
    "    data=MEND,  # Your data here\n",
    "    x=\"Group\", y=\"BPRS_nonpos\", \n",
    "    palette=bright_colors_hex,\n",
    "    inner=None,\n",
    "    scale=\"area\",\n",
    "    linewidth=0\n",
    ")\n",
    "\n",
    "new_labels = ['SZ', 'SZAD', 'BP']  # Define your new labels here\n",
    "ax.set_xticks(range(len(new_labels)))  # This sets the positions of the ticks\n",
    "ax.set_xticklabels(new_labels) \n",
    "ax.set_xlabel('')\n",
    "ax.set_ylabel('BPRS Total Non-Psychotic Symptom Severity')\n",
    "# Remove right and top spines\n",
    "ax.spines['right'].set_visible(False)\n",
    "ax.spines['top'].set_visible(False)\n"
   ]
  },
  {
   "cell_type": "code",
   "execution_count": null,
   "id": "6003d740-06d3-44d6-9b2a-78bc6f4b5216",
   "metadata": {},
   "outputs": [],
   "source": []
  }
 ],
 "metadata": {
  "kernelspec": {
   "display_name": "analysis",
   "language": "python",
   "name": "analysis"
  },
  "language_info": {
   "codemirror_mode": {
    "name": "ipython",
    "version": 3
   },
   "file_extension": ".py",
   "mimetype": "text/x-python",
   "name": "python",
   "nbconvert_exporter": "python",
   "pygments_lexer": "ipython3",
   "version": "3.10.4"
  }
 },
 "nbformat": 4,
 "nbformat_minor": 5
}
