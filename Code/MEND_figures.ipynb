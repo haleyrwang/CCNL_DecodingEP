{
 "cells": [
  {
   "cell_type": "code",
   "execution_count": null,
   "metadata": {
    "colab": {
     "base_uri": "https://localhost:8080/"
    },
    "executionInfo": {
     "elapsed": 18499,
     "status": "ok",
     "timestamp": 1695414710231,
     "user": {
      "displayName": "Haley Wang",
      "userId": "08745376347332339134"
     },
     "user_tz": 420
    },
    "id": "sW_pmk5QVzpk",
    "outputId": "def71811-844d-42e4-9c1a-2febed70785b"
   },
   "outputs": [],
   "source": [
    "!pip install pingouin pycirclize"
   ]
  },
  {
   "cell_type": "code",
   "execution_count": null,
   "metadata": {
    "colab": {
     "base_uri": "https://localhost:8080/"
    },
    "executionInfo": {
     "elapsed": 18906,
     "status": "ok",
     "timestamp": 1695414729134,
     "user": {
      "displayName": "Haley Wang",
      "userId": "08745376347332339134"
     },
     "user_tz": 420
    },
    "id": "SXq7_Xs_yqVn",
    "outputId": "e487639a-eb24-4188-e66c-3d79880c0e00"
   },
   "outputs": [],
   "source": [
    "from google.colab import drive\n",
    "drive.mount(\"/content/gdrive\")"
   ]
  },
  {
   "cell_type": "code",
   "execution_count": null,
   "metadata": {
    "executionInfo": {
     "elapsed": 6528,
     "status": "ok",
     "timestamp": 1695414735658,
     "user": {
      "displayName": "Haley Wang",
      "userId": "08745376347332339134"
     },
     "user_tz": 420
    },
    "id": "2FqzXv9FyxAg"
   },
   "outputs": [],
   "source": [
    "from pathlib import Path\n",
    "import h5py\n",
    "import numpy as np\n",
    "import matplotlib\n",
    "import matplotlib.pyplot as plt\n",
    "import seaborn as sns\n",
    "import pandas as pd\n",
    "import scipy.stats as sstats\n",
    "import pingouin"
   ]
  },
  {
   "cell_type": "code",
   "execution_count": null,
   "metadata": {
    "executionInfo": {
     "elapsed": 5,
     "status": "ok",
     "timestamp": 1695414735659,
     "user": {
      "displayName": "Haley Wang",
      "userId": "08745376347332339134"
     },
     "user_tz": 420
    },
    "id": "fv7Us3pky00v"
   },
   "outputs": [],
   "source": [
    "matplotlib.rcParams.update(matplotlib.rcParamsDefault)\n",
    "%matplotlib inline\n",
    "plt.rcParams['font.size'] = 7\n",
    "plt.rcParams[\"axes.unicode_minus\"] = False\n",
    "plt.rcParams[\"svg.fonttype\"] = \"path\""
   ]
  },
  {
   "cell_type": "code",
   "execution_count": null,
   "metadata": {
    "id": "pDeuuePry1Sg"
   },
   "outputs": [],
   "source": [
    "# this is for Zhen-Qi, change it when you run it\n",
    "data_dir = Path(\"/content/gdrive/MyDrive/My Documents/Research/Manuscript_JAMAPsychiatry_EP_MEND_PLS/Data\")\n",
    "figs_dir = Path(\"/content/gdrive/MyDrive/My Documents/Research/Manuscript_JAMAPsychiatry_EP_MEND_PLS/Figures\")"
   ]
  },
  {
   "cell_type": "code",
   "execution_count": null,
   "metadata": {
    "executionInfo": {
     "elapsed": 4,
     "status": "ok",
     "timestamp": 1695414735659,
     "user": {
      "displayName": "Haley Wang",
      "userId": "08745376347332339134"
     },
     "user_tz": 420
    },
    "id": "_l2rRulkBcRi"
   },
   "outputs": [],
   "source": [
    "# this is for Haley\n",
    "data_dir = Path(\"/content/gdrive/MyDrive/Manuscript_JAMAPsychiatry_EP_MEND_PLS/Data\")\n",
    "figs_dir = Path(\"/content/gdrive/MyDrive/Manuscript_JAMAPsychiatry_EP_MEND_PLS/Figures\")"
   ]
  },
  {
   "cell_type": "code",
   "execution_count": null,
   "metadata": {
    "executionInfo": {
     "elapsed": 828,
     "status": "ok",
     "timestamp": 1695414736483,
     "user": {
      "displayName": "Haley Wang",
      "userId": "08745376347332339134"
     },
     "user_tz": 420
    },
    "id": "vsm3XzLcy4fA"
   },
   "outputs": [],
   "source": [
    "mend_pls_result = h5py.File(data_dir / \"MEND_pls_result.hdf5\")"
   ]
  },
  {
   "cell_type": "code",
   "execution_count": null,
   "metadata": {
    "executionInfo": {
     "elapsed": 1228,
     "status": "ok",
     "timestamp": 1695414737707,
     "user": {
      "displayName": "Haley Wang",
      "userId": "08745376347332339134"
     },
     "user_tz": 420
    },
    "id": "pXep0vS7y9FY"
   },
   "outputs": [],
   "source": [
    "mend_pls_all = pd.read_csv(data_dir / \"MEND_PLS_all.csv\")\n",
    "post_hoc = mend_pls_all[[\"ID\", \"PatientType2\", \"AgeAtBaseline\", \"sex\"]].rename({\n",
    "    \"AgeAtBaseline\": \"age\"\n",
    "})\n",
    "with h5py.File(data_dir / \"MEND_pls_result.hdf5\") as f:\n",
    "    post_hoc['LC1_brain'] = f[\"results\"][\"x_scores\"][:, 0]\n",
    "    post_hoc['LC1_behv'] = f[\"results\"][\"y_scores\"][:, 0]"
   ]
  },
  {
   "cell_type": "code",
   "execution_count": null,
   "metadata": {
    "executionInfo": {
     "elapsed": 2,
     "status": "ok",
     "timestamp": 1695414737707,
     "user": {
      "displayName": "Haley Wang",
      "userId": "08745376347332339134"
     },
     "user_tz": 420
    },
    "id": "0tsfMrnPzJGB"
   },
   "outputs": [],
   "source": [
    "group_names = [\"Schizophrenia\", \"Schizoaffective disorder\", \"Psychotic mood disorders\"]\n",
    "group_names_short = [\"Schizophrenia\", \"Schizoaffective\\ndisorder\", \"Psychotic mood\\ndisorders\"]"
   ]
  },
  {
   "cell_type": "code",
   "execution_count": null,
   "metadata": {
    "executionInfo": {
     "elapsed": 5,
     "status": "ok",
     "timestamp": 1695414737943,
     "user": {
      "displayName": "Haley Wang",
      "userId": "08745376347332339134"
     },
     "user_tz": 420
    },
    "id": "wiknu9VXzdTH"
   },
   "outputs": [],
   "source": [
    "# Define a function to set the values of column \"A\" based on column \"B\"\n",
    "def set_value(row):\n",
    "    if row['PatientType2'] == 2:\n",
    "        return group_names[0]\n",
    "    elif row['PatientType2'] == 3:\n",
    "        return group_names[1]\n",
    "    elif row['PatientType2'] == 5:\n",
    "        return group_names[2]\n",
    "\n",
    "# Apply the function to create column \"A\"\n",
    "post_hoc['group'] = post_hoc.apply(set_value, axis=1)"
   ]
  },
  {
   "cell_type": "code",
   "execution_count": null,
   "metadata": {
    "executionInfo": {
     "elapsed": 400,
     "status": "ok",
     "timestamp": 1695414738340,
     "user": {
      "displayName": "Haley Wang",
      "userId": "08745376347332339134"
     },
     "user_tz": 420
    },
    "id": "bCZsCBJJz6Yy"
   },
   "outputs": [],
   "source": [
    "ENIGMA = pd.read_csv(data_dir / 'ENIGMA_DUP+MED.csv')\n",
    "post_hoc = pd.merge(ENIGMA, post_hoc, on='ID', how='left')\n",
    "post_hoc = post_hoc.dropna(subset=['LC1_brain'])\n",
    "post_hoc = post_hoc.rename({\n",
    "    'Duration of illness  at MR (months)': 'dup',\n",
    "    'Non-Cumulative chlorpromazine equivalents ': 'med'\n",
    "     })"
   ]
  },
  {
   "cell_type": "code",
   "execution_count": null,
   "metadata": {
    "executionInfo": {
     "elapsed": 3,
     "status": "ok",
     "timestamp": 1695414738341,
     "user": {
      "displayName": "Haley Wang",
      "userId": "08745376347332339134"
     },
     "user_tz": 420
    },
    "id": "ay1gA6tN0c1-"
   },
   "outputs": [],
   "source": [
    "post_hoc['group'] = pd.Categorical(post_hoc['group'], categories=group_names, ordered=True)\n",
    "post_hoc['group_code'] = post_hoc['group'].cat.codes"
   ]
  },
  {
   "cell_type": "code",
   "execution_count": null,
   "metadata": {
    "executionInfo": {
     "elapsed": 2,
     "status": "ok",
     "timestamp": 1695414738341,
     "user": {
      "displayName": "Haley Wang",
      "userId": "08745376347332339134"
     },
     "user_tz": 420
    },
    "id": "Bvdm7Pwt0QVF"
   },
   "outputs": [],
   "source": [
    "x_scores_grouped = [post_hoc['LC1_brain'].to_numpy()[np.where(post_hoc[\"group\"] == _)[0]] for _ in group_names]\n",
    "y_scores_grouped = [post_hoc['LC1_behv'].to_numpy()[np.where(post_hoc[\"group\"] == _)[0]] for _ in group_names]"
   ]
  },
  {
   "cell_type": "code",
   "execution_count": null,
   "metadata": {
    "executionInfo": {
     "elapsed": 229,
     "status": "ok",
     "timestamp": 1695414738568,
     "user": {
      "displayName": "Haley Wang",
      "userId": "08745376347332339134"
     },
     "user_tz": 420
    },
    "id": "YJc3lEOR0QXb"
   },
   "outputs": [],
   "source": [
    "from matplotlib.colors import ListedColormap, to_rgb, to_hex\n",
    "pal_bgo_3 = [\"#31A9E7\", \"#305861\", \"#F19100\"]\n",
    "cmap_bgo_3 = ListedColormap([to_rgb(_) for _ in pal_bgo_3])"
   ]
  },
  {
   "cell_type": "code",
   "execution_count": null,
   "metadata": {
    "executionInfo": {
     "elapsed": 2,
     "status": "ok",
     "timestamp": 1695414738568,
     "user": {
      "displayName": "Haley Wang",
      "userId": "08745376347332339134"
     },
     "user_tz": 420
    },
    "id": "0hGQ7IGRB2WS"
   },
   "outputs": [],
   "source": [
    "import colorsys\n",
    "\n",
    "def scale_lightness(rgb, scale_l):\n",
    "    # convert rgb to hls\n",
    "    h, l, s = colorsys.rgb_to_hls(*rgb)\n",
    "    # manipulate h, l, s values and return as rgb\n",
    "    return colorsys.hls_to_rgb(h, min(1, l * scale_l), s = s)"
   ]
  },
  {
   "cell_type": "code",
   "execution_count": null,
   "metadata": {
    "colab": {
     "base_uri": "https://localhost:8080/",
     "height": 121
    },
    "executionInfo": {
     "elapsed": 155,
     "status": "ok",
     "timestamp": 1691635812354,
     "user": {
      "displayName": "Zhenqi Liu",
      "userId": "12135310574992527405"
     },
     "user_tz": 240
    },
    "id": "-4Zah_8LB3Zh",
    "outputId": "940794b4-d8bc-4b9a-ea66-d101c259e97a"
   },
   "outputs": [],
   "source": [
    "ListedColormap([to_hex(scale_lightness(to_rgb(pal_bgo_3[0]), _)) for _ in [0.1, 0.3, 0.5, 0.7, 0.9]])"
   ]
  },
  {
   "cell_type": "code",
   "execution_count": null,
   "metadata": {
    "id": "n3I3WH3LCc2i"
   },
   "outputs": [],
   "source": [
    "score_corr_r, score_corr_p = sstats.pearsonr(mend_pls_result[\"results\"][\"x_scores\"][:, 0], mend_pls_result[\"results\"][\"y_scores\"][:, 0])\n",
    "\n",
    "from sklearn.linear_model import LinearRegression\n",
    "reg = LinearRegression().fit(mend_pls_result[\"results\"][\"x_scores\"][:, 0].reshape(-1, 1), mend_pls_result[\"results\"][\"y_scores\"][:, 0].reshape(-1, 1))\n",
    "b = reg.intercept_\n",
    "m = reg.coef_[0]"
   ]
  },
  {
   "cell_type": "code",
   "execution_count": null,
   "metadata": {
    "colab": {
     "base_uri": "https://localhost:8080/",
     "height": 258
    },
    "executionInfo": {
     "elapsed": 1174,
     "status": "ok",
     "timestamp": 1691636555473,
     "user": {
      "displayName": "Zhenqi Liu",
      "userId": "12135310574992527405"
     },
     "user_tz": 240
    },
    "id": "AwVqsqrV0Lz3",
    "outputId": "340139a2-6217-4f1a-cb39-77a5666c5216"
   },
   "outputs": [],
   "source": [
    "fig, ax = plt.subplots(figsize=(2.3, 2.3), layout=\"constrained\")\n",
    "scatter = ax.scatter(mend_pls_result[\"results\"][\"x_scores\"][:, 0], mend_pls_result[\"results\"][\"y_scores\"][:, 0],\n",
    "           s=15, c=post_hoc['group_code'], cmap=cmap_bgo_3, linewidths=0.1, edgecolors='white')\n",
    "ax.axvline(x=0, c=\"silver\", zorder=0, ls=(0, (2, 1)))\n",
    "ax.axhline(y=0, c=\"silver\", zorder=0, ls=(0, (2, 1)))\n",
    "ax.set(xlim=(-25, 25), ylim=(-8, 8), xticks=[-20, -10, 0, 10, 20], yticks=[-8, -4, 0, 4, 8],\n",
    "       xlabel=\"Microstructural composite scores\", ylabel=\"Clinical composite scores\")\n",
    "\n",
    "ax.text(5, -6, f\"r={score_corr_r:.2f}\\np={score_corr_p:.2e}\")\n",
    "sns.despine(top=True, right=True, trim=True, ax=ax)\n",
    "ax.tick_params(axis=u'both', which=u'both', length=0)\n",
    "\n",
    "handles, previous_labels = scatter.legend_elements()\n",
    "legend = ax.legend(handles=handles, labels=group_names, loc=\"upper left\", bbox_to_anchor=(0, 1.0), frameon=False)\n",
    "ax.add_artist(legend)\n",
    "fig.savefig(figs_dir / \"mend_score_corr.svg\")"
   ]
  },
  {
   "cell_type": "code",
   "execution_count": null,
   "metadata": {
    "id": "UV5QItSy0ZYy"
   },
   "outputs": [],
   "source": [
    "def plot_raincloud(x, ax):\n",
    "    pos = np.array([1, 2, 3])\n",
    "    v1 = ax.violinplot(x, positions=pos+0.2,\n",
    "                    showmeans=False, showextrema=False, showmedians=False)\n",
    "\n",
    "    for b, c in zip(v1['bodies'], pal_bgo_3):\n",
    "        m = np.mean(b.get_paths()[0].vertices[:, 0])\n",
    "        b.get_paths()[0].vertices[:, 0] = np.clip(b.get_paths()[0].vertices[:, 0], m, np.inf)\n",
    "        b.set_facecolor(c)\n",
    "        b.set_linewidth(0)\n",
    "\n",
    "    b1 = ax.boxplot(x, positions=pos, patch_artist=True, widths=0.15)\n",
    "\n",
    "    for item in ['boxes']:\n",
    "        for patch, c in zip(b1[item], pal_bgo_3):\n",
    "            plt.setp(patch, facecolor=c, edgecolor=to_hex(scale_lightness(to_rgb(c), 0.75)))\n",
    "    for item in ['medians']:\n",
    "        for patch, c in zip(b1[item], pal_bgo_3):\n",
    "            plt.setp(patch, color=c)\n",
    "    for item in ['whiskers', 'caps']:\n",
    "        for i, patch in enumerate(b1[item]):\n",
    "            c = pal_bgo_3[int(i/2)]\n",
    "            plt.setp(patch, color=to_hex(scale_lightness(to_rgb(c), 0.75)))\n",
    "    for item in ['fliers']:\n",
    "        for patch, c in zip(b1[item], pal_bgo_3):\n",
    "            plt.setp(patch, markeredgecolor=c)\n",
    "\n",
    "    e1 = ax.eventplot(x, orientation=\"vertical\", lineoffsets=pos-0.2, linelengths=0.1, colors=pal_bgo_3)\n",
    "\n",
    "    return v1, b1, e1"
   ]
  },
  {
   "cell_type": "code",
   "execution_count": null,
   "metadata": {
    "colab": {
     "base_uri": "https://localhost:8080/"
    },
    "executionInfo": {
     "elapsed": 119,
     "status": "ok",
     "timestamp": 1691635820684,
     "user": {
      "displayName": "Zhenqi Liu",
      "userId": "12135310574992527405"
     },
     "user_tz": 240
    },
    "id": "5bqaAh0I0kI0",
    "outputId": "06944368-12f5-4093-fd52-bce537eaa163"
   },
   "outputs": [],
   "source": [
    "for i, j in [(0, 1), (0, 2), (1, 2)]:\n",
    "    print(pingouin.ttest(x_scores_grouped[i], x_scores_grouped[j]))"
   ]
  },
  {
   "cell_type": "code",
   "execution_count": null,
   "metadata": {
    "colab": {
     "base_uri": "https://localhost:8080/",
     "height": 258
    },
    "executionInfo": {
     "elapsed": 313,
     "status": "ok",
     "timestamp": 1691636565762,
     "user": {
      "displayName": "Zhenqi Liu",
      "userId": "12135310574992527405"
     },
     "user_tz": 240
    },
    "id": "I5Tc2lHP0lnI",
    "outputId": "e22bb73c-4740-4bfa-e370-a6c3b2629f25"
   },
   "outputs": [],
   "source": [
    "fig, ax = plt.subplots(figsize=(2.3, 2.3), layout=\"constrained\")\n",
    "v1, b1, e1 = plot_raincloud(x_scores_grouped, ax)\n",
    "\n",
    "ax.set(ylim=(-23, 25), yticks=[-20, -10, 0, 10, 20], xticklabels=group_names_short,\n",
    "       ylabel=\"Microstructural composite scores\")\n",
    "sns.despine(top=True, right=True, trim=True, ax=ax)\n",
    "ax.tick_params(axis=u'both', which=u'both', length=0)\n",
    "fig.savefig(figs_dir / \"mend_x_scores.svg\")"
   ]
  },
  {
   "cell_type": "code",
   "execution_count": null,
   "metadata": {
    "colab": {
     "base_uri": "https://localhost:8080/"
    },
    "executionInfo": {
     "elapsed": 170,
     "status": "ok",
     "timestamp": 1691635825151,
     "user": {
      "displayName": "Zhenqi Liu",
      "userId": "12135310574992527405"
     },
     "user_tz": 240
    },
    "id": "P1WUyofN0p8T",
    "outputId": "7d931c16-29d4-45d0-e353-368db5d8989f"
   },
   "outputs": [],
   "source": [
    "for i, j in [(0, 1), (0, 2), (1, 2)]:\n",
    "    print(pingouin.ttest(y_scores_grouped[i], y_scores_grouped[j]))"
   ]
  },
  {
   "cell_type": "code",
   "execution_count": null,
   "metadata": {
    "colab": {
     "base_uri": "https://localhost:8080/",
     "height": 258
    },
    "executionInfo": {
     "elapsed": 643,
     "status": "ok",
     "timestamp": 1691636569718,
     "user": {
      "displayName": "Zhenqi Liu",
      "userId": "12135310574992527405"
     },
     "user_tz": 240
    },
    "id": "UkL24r1q0vpX",
    "outputId": "ec1ea89c-8888-4201-d873-f0e399b55231"
   },
   "outputs": [],
   "source": [
    "fig, ax = plt.subplots(figsize=(2.3, 2.3), layout=\"constrained\")\n",
    "v1, b1, e1 = plot_raincloud(y_scores_grouped, ax)\n",
    "\n",
    "ax.set(ylim=(-5, 10), yticks=[-4, 0, 4, 8], xticklabels=group_names_short,\n",
    "        ylabel=\"Clinical composite scores\")\n",
    "sns.despine(top=True, right=True, trim=True, ax=ax)\n",
    "ax.tick_params(axis=u'both', which=u'both',length=0)\n",
    "\n",
    "fig.savefig(figs_dir / \"mend_y_scores.svg\")"
   ]
  },
  {
   "cell_type": "code",
   "execution_count": null,
   "metadata": {
    "executionInfo": {
     "elapsed": 228,
     "status": "ok",
     "timestamp": 1695414743349,
     "user": {
      "displayName": "Haley Wang",
      "userId": "08745376347332339134"
     },
     "user_tz": 420
    },
    "id": "vaeRog3e0zep"
   },
   "outputs": [],
   "source": [
    "mend_pls_loadings = h5py.File(data_dir / \"MEND_pls_loadings.hdf5\")"
   ]
  },
  {
   "cell_type": "code",
   "execution_count": null,
   "metadata": {
    "executionInfo": {
     "elapsed": 449,
     "status": "ok",
     "timestamp": 1695414744153,
     "user": {
      "displayName": "Haley Wang",
      "userId": "08745376347332339134"
     },
     "user_tz": 420
    },
    "id": "7zk9uO3o06Hz"
   },
   "outputs": [],
   "source": [
    "mend_pls_xload = mend_pls_loadings[\"results/y_loadings\"][:, 0]\n",
    "mend_pls_xload_resort = np.argsort(-1 * mend_pls_loadings[\"results/y_loadings\"][:, 0])\n",
    "mend_pls_xload_top_idx = np.where(np.abs(sstats.zscore(mend_pls_xload)) > 2)[0]\n",
    "mend_pls_xload_sq_top_idx = np.where(np.abs(sstats.zscore(mend_pls_xload ** 2)) > 2)[0]\n",
    "mend_pls_xload_err = (mend_pls_loadings[\"results/bootres/y_loadings_ci\"][:, 0, 1]- mend_pls_loadings[\"results/bootres/y_loadings_ci\"][:, 0, 0]) / 2\n",
    "mend_pls_xload_top_resort = np.argsort(-1 * mend_pls_loadings[\"results/y_loadings\"][mend_pls_xload_top_idx, 0])\n",
    "mend_pls_xload_sq_top_resort = np.argsort(-1 * mend_pls_loadings[\"results/y_loadings\"][mend_pls_xload_sq_top_idx, 0])"
   ]
  },
  {
   "cell_type": "code",
   "execution_count": null,
   "metadata": {
    "executionInfo": {
     "elapsed": 388,
     "status": "ok",
     "timestamp": 1695414748931,
     "user": {
      "displayName": "Haley Wang",
      "userId": "08745376347332339134"
     },
     "user_tz": 420
    },
    "id": "TvVU9F122Ht5"
   },
   "outputs": [],
   "source": [
    "diff_pred_names = np.loadtxt(data_dir / \"JHU_labels.txt\", delimiter=\"\\t\", dtype=str)"
   ]
  },
  {
   "cell_type": "code",
   "execution_count": null,
   "metadata": {
    "id": "vVyEdJPh1Yh3"
   },
   "outputs": [],
   "source": [
    "diff_pred_names_optimized = [\"(\" + _.replace(\"_\", \") \") for _ in diff_pred_names]\n",
    "for i in range(len(diff_pred_names_optimized)):\n",
    "    curr_name = diff_pred_names_optimized[i]\n",
    "    curr_new = curr_name.split(\" \")\n",
    "    if len(curr_name) >= 40:\n",
    "        curr_new.insert(-3, \"\\n\")\n",
    "    elif 40 > len(curr_name) > 25:\n",
    "        curr_new.insert(-2, \"\\n\")\n",
    "    diff_pred_names_optimized[i] = \" \".join(curr_new)\n",
    "diff_pred_names_optimized = np.array(diff_pred_names_optimized)"
   ]
  },
  {
   "cell_type": "code",
   "execution_count": null,
   "metadata": {
    "colab": {
     "base_uri": "https://localhost:8080/",
     "height": 328
    },
    "executionInfo": {
     "elapsed": 864,
     "status": "ok",
     "timestamp": 1691637160936,
     "user": {
      "displayName": "Zhenqi Liu",
      "userId": "12135310574992527405"
     },
     "user_tz": 240
    },
    "id": "yq_2DO6d3Fm1",
    "outputId": "74a5e6da-1815-44ce-e14e-4bff1fa67deb"
   },
   "outputs": [],
   "source": [
    "fig, ax = plt.subplots(figsize=(3.0, 3.0), layout=\"constrained\")\n",
    "\n",
    "plot_x = np.arange(len(mend_pls_xload_sq_top_resort))\n",
    "plot_y = -1 * mend_pls_xload[mend_pls_xload_sq_top_idx][mend_pls_xload_sq_top_resort]\n",
    "ax.barh(plot_x, plot_y,\n",
    "        xerr=mend_pls_xload_err[mend_pls_xload_sq_top_idx][mend_pls_xload_sq_top_resort], color=pal_bgo_3[1], height=0.8,\n",
    "        error_kw=dict(ecolor=pal_bgo_3[1], lw=1, capsize=2, capthick=1))\n",
    "plot_y_pos = np.where(plot_y>0)[0]\n",
    "plot_y_neg = np.where(plot_y<0)[0]\n",
    "\n",
    "ax.axvline(x=0, c=\"black\", lw=0.5)\n",
    "\n",
    "ax.set(xticks=[-0.6, -0.3, 0, 0.3, 0.6], yticks=[])\n",
    "ax.invert_yaxis()\n",
    "ax.invert_yaxis()\n",
    "sns.despine(top=True, right=True, left=True, ax=ax)\n",
    "ax.tick_params(axis=u'both', which=u'both', length=0)\n",
    "yticklabels=diff_pred_names_optimized[mend_pls_xload_sq_top_idx][mend_pls_xload_sq_top_resort]\n",
    "for i in plot_y_neg:\n",
    "    ax.text(0.05, plot_x[i], yticklabels[i], ha=\"left\", va=\"center\",\n",
    "            color=\"k\")\n",
    "for i in plot_y_pos:\n",
    "    ax.text(-0.05, plot_x[i], yticklabels[i], ha=\"right\", va=\"center\",\n",
    "            color='k')\n",
    "\n",
    "fig.savefig(figs_dir / \"mend_xload.svg\")"
   ]
  },
  {
   "cell_type": "code",
   "execution_count": null,
   "metadata": {
    "id": "aPSK6QPgXu2T"
   },
   "outputs": [],
   "source": []
  },
  {
   "cell_type": "code",
   "execution_count": null,
   "metadata": {
    "executionInfo": {
     "elapsed": 383,
     "status": "ok",
     "timestamp": 1695414753676,
     "user": {
      "displayName": "Haley Wang",
      "userId": "08745376347332339134"
     },
     "user_tz": 420
    },
    "id": "lbfr5t623PD_"
   },
   "outputs": [],
   "source": [
    "mend_pls_yload = mend_pls_result[\"results/y_loadings\"][:, 0]\n",
    "mend_pls_yload_err = (mend_pls_result[\"results/bootres/y_loadings_ci\"][:, 0, 1]- mend_pls_result[\"results/bootres/y_loadings_ci\"][:, 0, 0]) / 2\n",
    "\n",
    "mend_pls_yload_resort = np.argsort(-1 * mend_pls_result[\"results/y_loadings\"][:, 0])\n",
    "mend_pls_yload_top_idx = np.where(\n",
    "    (np.abs(sstats.zscore(mend_pls_yload)) > 1)\n",
    "    & ((np.abs(mend_pls_yload)-mend_pls_yload_err)>0)\n",
    "    )[0]\n",
    "mend_pls_yload_sq_top_idx = np.where(\n",
    "    (np.abs(sstats.zscore(mend_pls_yload ** 2)) > 1)\n",
    "    & ((np.abs(mend_pls_yload)-mend_pls_yload_err)>0)\n",
    "    )[0]\n",
    "mend_pls_yload_top_resort = np.argsort(-1 * mend_pls_result[\"results/y_loadings\"][mend_pls_yload_top_idx, 0])\n",
    "mend_pls_yload_sq_top_resort = np.argsort(-1 * mend_pls_result[\"results/y_loadings\"][mend_pls_yload_sq_top_idx, 0])"
   ]
  },
  {
   "cell_type": "code",
   "execution_count": null,
   "metadata": {
    "executionInfo": {
     "elapsed": 243,
     "status": "ok",
     "timestamp": 1695414764171,
     "user": {
      "displayName": "Haley Wang",
      "userId": "08745376347332339134"
     },
     "user_tz": 420
    },
    "id": "tPUVOo863_P3"
   },
   "outputs": [],
   "source": [
    "mend_scores = pd.read_csv(data_dir / \"MEND_scores.csv\")"
   ]
  },
  {
   "cell_type": "code",
   "execution_count": null,
   "metadata": {
    "colab": {
     "base_uri": "https://localhost:8080/",
     "height": 1000
    },
    "executionInfo": {
     "elapsed": 4,
     "status": "ok",
     "timestamp": 1695414785150,
     "user": {
      "displayName": "Haley Wang",
      "userId": "08745376347332339134"
     },
     "user_tz": 420
    },
    "id": "ZngaYOECmEel",
    "outputId": "23a1fea5-1ef0-4c3f-e23b-da63766f7921"
   },
   "outputs": [],
   "source": [
    "temp = pd.DataFrame(columns=['symptoms', 'coef', 'se'])\n",
    "temp['symptoms'] = mend_scores[\"description\"].to_numpy()\n",
    "temp['coef'] = mend_pls_yload\n",
    "temp['se'] = mend_pls_yload_err\n",
    "\n",
    "temp"
   ]
  },
  {
   "cell_type": "code",
   "execution_count": null,
   "metadata": {
    "id": "2bM1DQ2n6eah"
   },
   "outputs": [],
   "source": [
    "score_dimension_to_color = {\"pos\": \"#5C554A\", \"neg\": \"#31A9E7\", \"gen\": \"#345662\", \"mania\": \"#F19100\"}"
   ]
  },
  {
   "cell_type": "code",
   "execution_count": null,
   "metadata": {
    "id": "Bz0epWG36fyG"
   },
   "outputs": [],
   "source": [
    "mend_scores[\"text_color\"] = mend_scores[\"dimension\"].map(score_dimension_to_color)"
   ]
  },
  {
   "cell_type": "code",
   "execution_count": null,
   "metadata": {
    "id": "Fp2cN_mV6hXy"
   },
   "outputs": [],
   "source": [
    "for i in range(len(mend_scores)):\n",
    "    curr_name = mend_scores.loc[i, \"description\"]\n",
    "    curr_new = curr_name.split(\" \")\n",
    "    if len(curr_name) >= 40:\n",
    "        curr_new.insert(-3, \"\\n\")\n",
    "    elif 40 > len(curr_name) > 23:\n",
    "        curr_new.insert(-2, \"\\n\")\n",
    "    mend_scores.loc[i, \"description\"] = \" \".join(curr_new)"
   ]
  },
  {
   "cell_type": "code",
   "execution_count": null,
   "metadata": {
    "colab": {
     "base_uri": "https://localhost:8080/",
     "height": 278
    },
    "executionInfo": {
     "elapsed": 737,
     "status": "ok",
     "timestamp": 1691635863320,
     "user": {
      "displayName": "Zhenqi Liu",
      "userId": "12135310574992527405"
     },
     "user_tz": 240
    },
    "id": "pqmBX6vE6kUQ",
    "outputId": "c1aacfcb-7122-4751-8d7e-e4bee3890259"
   },
   "outputs": [],
   "source": [
    "fig, ax = plt.subplots(figsize=(3.0, 2.5), layout=\"constrained\")\n",
    "\n",
    "plot_x = np.arange(len(mend_pls_yload_sq_top_resort))\n",
    "plot_y = mend_pls_yload[mend_pls_yload_sq_top_idx][mend_pls_yload_sq_top_resort]\n",
    "plot_error = mend_pls_yload_err[mend_pls_yload_sq_top_idx][mend_pls_yload_sq_top_resort]\n",
    "plot_y_ticklabels = mend_scores[\"description\"].to_numpy()[mend_pls_yload_sq_top_idx][mend_pls_yload_sq_top_resort]\n",
    "plot_y_ticklabels_color = mend_scores[\"text_color\"].to_numpy()[mend_pls_yload_sq_top_idx][mend_pls_yload_sq_top_resort]\n",
    "plot_y_pos = np.where(plot_y>0)[0]\n",
    "plot_y_neg = np.where(plot_y<0)[0]\n",
    "\n",
    "ax.axvline(x=0, c=\"black\", lw=0.5)\n",
    "\n",
    "ax.barh(plot_x, -1 * plot_y, xerr=plot_error, color=plot_y_ticklabels_color, height=0.75,\n",
    "        error_kw=dict(ecolor=\"lightgray\", lw=1, capsize=2, capthick=1))\n",
    "ax.set(xticks=[-0.5, -0.25, 0, 0.25, 0.5], yticks=plot_x, yticklabels=[])\n",
    "ax.invert_yaxis()\n",
    "ax.invert_yaxis()\n",
    "sns.despine(top=True, right=True, left=True, ax=ax)\n",
    "ax.tick_params(axis=u'both', which=u'both', length=0)\n",
    "\n",
    "for i in plot_y_neg:\n",
    "    ax.text(-0.05, plot_x[i], plot_y_ticklabels[i], ha=\"right\", va=\"center\",\n",
    "            color=\"k\")\n",
    "for i in plot_y_pos:\n",
    "    ax.text(0.05, plot_x[i], plot_y_ticklabels[i], ha=\"left\", va=\"center\",\n",
    "            color='k')\n",
    "\n",
    "fig.savefig(figs_dir / \"mend_yload.svg\")"
   ]
  },
  {
   "cell_type": "code",
   "execution_count": null,
   "metadata": {
    "id": "3HNPQS-Y6uLa"
   },
   "outputs": [],
   "source": [
    "from pycirclize import Circos"
   ]
  },
  {
   "cell_type": "code",
   "execution_count": null,
   "metadata": {
    "id": "HK8ic8kc9_pR"
   },
   "outputs": [],
   "source": [
    "mend_scores[\"yload\"] = -1 *mend_pls_yload\n",
    "mend_pls_yload_sq_top_score_names = mend_scores[\"description\"].to_numpy()[mend_pls_yload_sq_top_idx][mend_pls_yload_sq_top_resort]"
   ]
  },
  {
   "cell_type": "code",
   "execution_count": null,
   "metadata": {
    "colab": {
     "base_uri": "https://localhost:8080/",
     "height": 879
    },
    "executionInfo": {
     "elapsed": 3692,
     "status": "ok",
     "timestamp": 1691629672237,
     "user": {
      "displayName": "Zhenqi Liu",
      "userId": "12135310574992527405"
     },
     "user_tz": 240
    },
    "id": "WvjdL6nD-Blq",
    "outputId": "9457e4c5-2e37-476f-d127-c26fe5648964"
   },
   "outputs": [],
   "source": [
    "with matplotlib.rc_context({\"svg.fonttype\": \"path\"}):\n",
    "    fig, ax = plt.subplots(figsize=(8, 8), subplot_kw={'projection': 'polar'}, layout=\"constrained\")\n",
    "\n",
    "    sectors = {\"Mania\": 11, \"General\": 8, \"Negative\": 22, \"Positive\": 8}\n",
    "    circos = Circos(\n",
    "        sectors, space=10,\n",
    "        sector2clockwise = {\"Positive\": False, \"Negative\": False, \"General\": False, \"Mania\": True}\n",
    "        )\n",
    "\n",
    "    for sector, dim in zip(circos.sectors, [\"mania\", \"gen\", \"neg\", \"pos\"]):\n",
    "\n",
    "        sector.rect(r_lim=(35, 38), color=score_dimension_to_color[dim])\n",
    "        sector.text(f\"{sector.name}\", r=27, size=10, color=score_dimension_to_color[dim])\n",
    "\n",
    "        curr_mend_scores = mend_scores[mend_scores[\"dimension\"]==dim]\n",
    "        plot_x = np.arange(len(curr_mend_scores)) + 0.5\n",
    "        plot_y = curr_mend_scores[\"yload\"].to_numpy()\n",
    "        plot_ylabel = curr_mend_scores[\"description\"].to_numpy()\n",
    "        vmin, vmax = -0.30, 0.30\n",
    "\n",
    "        track = sector.add_track((40, 95), r_pad_ratio=0.1)\n",
    "        # track.axis()\n",
    "        track.xticks(plot_x, plot_ylabel, label_orientation=\"vertical\", tick_length=0,\n",
    "                    text_kws={\"color\": score_dimension_to_color[dim]}, label_size=10)\n",
    "        track.yticks(y=[-0.3, -0.2, -0.1, 0, 0.1, 0.2, 0.3], vmin=vmin, vmax=vmax,\n",
    "                    labels=[-0.3, -0.2, -0.1, 0, 0.1, 0.2, 0.3], tick_length=0)\n",
    "\n",
    "\n",
    "        track.line(plot_x, [0]*len(plot_x), vmin=vmin, vmax=vmax, arc=True, color=\"darkgray\", lw=2, zorder=1)\n",
    "        for i in [-0.2, -0.1, 0.1, 0.2, 0.3]:\n",
    "            track.line(plot_x, [i]*len(plot_x), vmin=vmin, vmax=vmax, arc=True, color=\"silver\", zorder=1)\n",
    "        track.bar(plot_x, plot_y, vmin=vmin, vmax=vmax, color=score_dimension_to_color[dim], zorder=3)\n",
    "\n",
    "        plot_ylabel_sig_idx = [i for i, _ in enumerate(plot_ylabel) if _ in mend_pls_yload_sq_top_score_names]\n",
    "        for curr_idx in plot_ylabel_sig_idx:\n",
    "            track.bar([plot_x[curr_idx]], [plot_y[curr_idx]], vmin=vmin, vmax=vmax, zorder=2, linewidth=2, edgecolor=\"tab:red\")\n",
    "\n",
    "    fig = circos.plotfig(ax=ax)\n",
    "    fig.savefig(figs_dir / \"mend_yload_circle.svg\")"
   ]
  },
  {
   "cell_type": "code",
   "execution_count": null,
   "metadata": {
    "id": "XhbzBagk-cKe"
   },
   "outputs": [],
   "source": []
  }
 ],
 "metadata": {
  "colab": {
   "provenance": []
  },
  "kernelspec": {
   "display_name": "Python 3 (ipykernel)",
   "language": "python",
   "name": "python3"
  },
  "language_info": {
   "codemirror_mode": {
    "name": "ipython",
    "version": 3
   },
   "file_extension": ".py",
   "mimetype": "text/x-python",
   "name": "python",
   "nbconvert_exporter": "python",
   "pygments_lexer": "ipython3",
   "version": "3.9.6"
  }
 },
 "nbformat": 4,
 "nbformat_minor": 4
}
