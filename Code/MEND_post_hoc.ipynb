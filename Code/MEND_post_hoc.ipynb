{
 "cells": [
  {
   "cell_type": "markdown",
   "id": "ee1366bd-4a04-4881-bddf-ba80d902c4bf",
   "metadata": {},
   "source": [
    "### Post-hoc analysis"
   ]
  },
  {
   "cell_type": "code",
   "execution_count": null,
   "id": "4c6c5689-a8f2-433e-b118-4775c13b5b0f",
   "metadata": {},
   "outputs": [],
   "source": [
    "import numpy as np\n",
    "import pandas as pd\n",
    "import pyls\n",
    "import matplotlib\n",
    "import matplotlib.pyplot as plt\n",
    "from matplotlib.colors import ListedColormap\n",
    "import seaborn as sns\n",
    "from netneurotools import datasets, stats, plotting\n",
    "from scipy.stats import zscore, pearsonr, ttest_ind\n",
    "from scipy.spatial.distance import squareform, pdist\n",
    "from scipy.stats import pearsonr"
   ]
  },
  {
   "cell_type": "code",
   "execution_count": null,
   "id": "7ca0a47b-7cb7-4d83-87ca-11c7b7cd0508",
   "metadata": {},
   "outputs": [],
   "source": [
    "# Create an empty DataFrame for post hoc analysis\n",
    "column_names = ['ID', 'age', 'sex', 'LC1_brain', 'LC1_behv']\n",
    "post_hoc = pd.DataFrame(columns=column_names)\n",
    "\n",
    "post_hoc['LC1_brain'] = pls_result.x_scores[:,0]\n",
    "post_hoc['LC1_behv'] = pls_result.y_scores[:,0]"
   ]
  },
  {
   "cell_type": "code",
   "execution_count": null,
   "id": "3f536e8d-9b47-4e77-9331-abbdd2b39d76",
   "metadata": {},
   "outputs": [],
   "source": [
    "post_hoc['ID'] = df['ID']\n",
    "post_hoc['PatientType2'] = df['PatientType2']\n",
    "post_hoc['age'] = df['AgeAtBaseline']\n",
    "post_hoc['sex'] = df['sex']"
   ]
  },
  {
   "cell_type": "code",
   "execution_count": null,
   "id": "46cd85a8-7ee7-412a-bc8c-d70142e22181",
   "metadata": {},
   "outputs": [],
   "source": [
    "# Define a function to set the values of column \"A\" based on column \"B\"\n",
    "def set_value(row):\n",
    "    if row['PatientType2'] in [2, 3]:\n",
    "        return 1\n",
    "    elif row['PatientType2'] == 5:\n",
    "        return 0\n",
    "\n",
    "# Apply the function to create column \"A\"\n",
    "post_hoc['SZ'] = post_hoc.apply(set_value, axis=1)"
   ]
  },
  {
   "cell_type": "code",
   "execution_count": null,
   "id": "8ce790fd-cd87-4581-af65-1db81dda96df",
   "metadata": {
    "tags": []
   },
   "outputs": [],
   "source": [
    "# Define a function to set the values of column \"A\" based on column \"B\"\n",
    "def set_value(row):\n",
    "    if row['PatientType2'] == 2:\n",
    "        return 1\n",
    "    elif row['PatientType2'] in [3, 5]:\n",
    "        return 0\n",
    "\n",
    "# Apply the function to create column \"A\"\n",
    "post_hoc['Mood'] = post_hoc.apply(set_value, axis=1)\n",
    "post_hoc"
   ]
  },
  {
   "cell_type": "code",
   "execution_count": null,
   "id": "3d83dcbb-069b-4616-b04b-33aedef47d1e",
   "metadata": {},
   "outputs": [],
   "source": [
    "ENIGMA = pd.read_csv('/u/project/CCN/cbearden/haleywan/qunex_studyfolder/analysis/scripts/PLS_MEND_Replication/ENIGMA_DUP+MED.csv')\n",
    "post_hoc = pd.merge(ENIGMA, post_hoc, on='ID', how='left')\n",
    "post_hoc = post_hoc.dropna(subset=['LC1_brain'])\n",
    "post_hoc = post_hoc.rename(columns={'Duration of illness  at MR (months)': 'dup', 'Non-Cumulative chlorpromazine equivalents ': 'med'})\n"
   ]
  },
  {
   "cell_type": "code",
   "execution_count": null,
   "id": "0f300b07-71ed-45b7-a864-7bb506d55380",
   "metadata": {},
   "outputs": [],
   "source": [
    "post_hoc['PatientType2'].value_counts()"
   ]
  },
  {
   "cell_type": "code",
   "execution_count": null,
   "id": "6fae79e7-bd21-41ae-9c7e-69cdefb9fd72",
   "metadata": {
    "tags": []
   },
   "outputs": [],
   "source": [
    "post_hoc.columns"
   ]
  },
  {
   "cell_type": "markdown",
   "id": "f82f7bf8-f1ab-4c7f-84c2-b186e7f55c3b",
   "metadata": {
    "tags": []
   },
   "source": [
    "### Figure 1a. Composite scores correlation (color code by diagnosis)"
   ]
  },
  {
   "cell_type": "code",
   "execution_count": null,
   "id": "74614ed1-3873-4639-8fdc-9556a07f42d6",
   "metadata": {},
   "outputs": [],
   "source": [
    "from matplotlib.ticker import MultipleLocator\n",
    "\n",
    "# First, create the figure and set its facecolor to white\n",
    "fig = plt.figure(facecolor='white', figsize=(7.5, 6))\n",
    "\n",
    "# Get a palette with 3 colors\n",
    "palette = sns.color_palette(\"colorblind\", 12)\n",
    "\n",
    "# Create a dictionary to map values in column C to colors\n",
    "hue_colors = {\n",
    "    2.0: palette[0],\n",
    "    3.0: palette[7],\n",
    "    5.0: palette[3],\n",
    "    # add more categories if necessary\n",
    "}\n",
    "\n",
    "# Plot the scatter plot using Seaborn\n",
    "# Using Seaborn\n",
    "ax = sns.scatterplot(data=post_hoc, x='LC1_brain', y='LC1_behv', hue='PatientType2', palette=hue_colors, s=160)\n",
    "\n",
    "# Remove top and right spines\n",
    "ax.spines['top'].set_visible(False)\n",
    "ax.spines['right'].set_visible(False)\n",
    "\n",
    "# Set thicker border\n",
    "ax.spines['left'].set_linewidth(1.5)  # Adjust the linewidth (1.5 in this example)\n",
    "ax.spines['bottom'].set_linewidth(1.5)  # Adjust the linewidth (1.5 in this example)\n",
    "\n",
    "\n",
    "# Add gray central dash lines\n",
    "ax.axhline(y=0, color='gray', linestyle='--')\n",
    "ax.axvline(x=0, color='gray', linestyle='--')\n",
    "\n",
    "# Increase font size of axis tick labels\n",
    "ax.tick_params(axis='both', labelsize=22)\n",
    "ax.xaxis.set_major_locator(MultipleLocator(15))\n",
    "ax.yaxis.set_major_locator(MultipleLocator(5))\n",
    "\n",
    "# Set custom axis ranges\n",
    "ax.set_xlim(-30, 30)  # Replace xmin and xmax with your desired values for the x-axis\n",
    "ax.set_ylim(-10, 10) \n",
    "\n",
    "# Change x-axis and y-axis labels\n",
    "ax.set_xlabel('Clinical composite scores', fontsize=25)\n",
    "ax.set_ylabel('Microstructural composite scores', fontsize=25)\n",
    "\n",
    "# Change the legend content\n",
    "legend_font = {'size': 30} # Update legend labels\n",
    "handles, labels = ax.get_legend_handles_labels()\n",
    "legend_labels = {2.0: 'SZ', 3.0: 'SZAD', 5.0: 'BP'}  # Update with your desired legend labels\n",
    "\n",
    "# Replace the original labels with your new labels\n",
    "new_labels = [legend_labels[float(l)] for l in labels]\n",
    "\n",
    "legend = ax.legend(handles, new_labels, bbox_to_anchor=(1.5, 0.5), loc='center right', frameon=False, prop=legend_font)\n",
    "\n",
    "# Change legend dot size\n",
    "for handle in legend.legendHandles:\n",
    "    handle._sizes = [140]  # Set marker size. Adjust as needed.\n",
    "\n",
    "# Adjust the legend position\n",
    "plt.subplots_adjust(right=0.9)  # Increase or decrease the value to move the legend further outside\n",
    "\n",
    "# Show the plot\n",
    "plt.show()"
   ]
  },
  {
   "cell_type": "markdown",
   "id": "a051a25f-1028-40d1-8db2-67ccb9b3ddd0",
   "metadata": {},
   "source": [
    "### Figure 1b. Group differences in composite scores"
   ]
  },
  {
   "cell_type": "code",
   "execution_count": null,
   "id": "53717de3-ced2-405b-a305-0f3b7bc680ce",
   "metadata": {},
   "outputs": [],
   "source": [
    "### Violin Plot ###\n",
    "\n",
    "# Get a palette with 3 colors\n",
    "palette = sns.color_palette(\"colorblind\", 12)\n",
    "\n",
    "# Create a dictionary to map values in column C to colors\n",
    "hue_colors = {\n",
    "    2.0: palette[0],\n",
    "    3.0: palette[7],\n",
    "    5.0: palette[3],\n",
    "    # add more categories if necessary\n",
    "}\n",
    "\n",
    "\n",
    "ax = sns.violinplot(\n",
    "    data=post_hoc,\n",
    "    x=\"PatientType2\", y=\"LC1_brain\", hue=True, #palette=hue_colors, \n",
    "    hue_order=[False, True], split=True, color=palette[0],\n",
    "    inner=None,   # This hides the boxplot inside the violins\n",
    "    scale=\"area\"\n",
    ")\n",
    "ax.legend_ = None\n",
    "\n",
    "# Remove top and right spines\n",
    "ax.spines['top'].set_visible(False)\n",
    "ax.spines['right'].set_visible(False)\n",
    "\n",
    "# Increase font size of axis tick labels\n",
    "ax.tick_params(axis='both', labelsize=20)\n",
    "ax.yaxis.set_major_locator(MultipleLocator(5))\n",
    "\n",
    "# Hide ticks and labels on x axis\n",
    "ax.set_xticks([])\n",
    "ax.set_xticklabels([])\n",
    "ax.set_xlabel('')\n",
    "\n",
    "# Set y-axis label\n",
    "ax.set_ylabel('Composite scores', fontsize=25)\n",
    "\n",
    "plt.show()"
   ]
  }
 ],
 "metadata": {
  "kernelspec": {
   "display_name": "analysis",
   "language": "python",
   "name": "analysis"
  },
  "language_info": {
   "codemirror_mode": {
    "name": "ipython",
    "version": 3
   },
   "file_extension": ".py",
   "mimetype": "text/x-python",
   "name": "python",
   "nbconvert_exporter": "python",
   "pygments_lexer": "ipython3",
   "version": "3.10.4"
  }
 },
 "nbformat": 4,
 "nbformat_minor": 5
}
