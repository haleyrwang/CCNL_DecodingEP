{
 "cells": [
  {
   "cell_type": "code",
   "execution_count": null,
   "metadata": {
    "colab": {
     "base_uri": "https://localhost:8080/"
    },
    "executionInfo": {
     "elapsed": 16415,
     "status": "ok",
     "timestamp": 1695419353731,
     "user": {
      "displayName": "Haley Wang",
      "userId": "08745376347332339134"
     },
     "user_tz": 420
    },
    "id": "5y1TSq3XSzds",
    "outputId": "64bc0aa0-64ae-4af8-9428-72b882288b86"
   },
   "outputs": [],
   "source": [
    "!pip install pingouin"
   ]
  },
  {
   "cell_type": "code",
   "execution_count": null,
   "metadata": {
    "colab": {
     "base_uri": "https://localhost:8080/"
    },
    "executionInfo": {
     "elapsed": 24078,
     "status": "ok",
     "timestamp": 1695419377804,
     "user": {
      "displayName": "Haley Wang",
      "userId": "08745376347332339134"
     },
     "user_tz": 420
    },
    "id": "VBCmfnR2S5T_",
    "outputId": "f70e3372-637f-4f3f-a8b4-7cd71f0c46b8"
   },
   "outputs": [],
   "source": [
    "from google.colab import drive\n",
    "drive.mount(\"/content/gdrive\")"
   ]
  },
  {
   "cell_type": "code",
   "execution_count": null,
   "metadata": {
    "executionInfo": {
     "elapsed": 15,
     "status": "ok",
     "timestamp": 1695419377804,
     "user": {
      "displayName": "Haley Wang",
      "userId": "08745376347332339134"
     },
     "user_tz": 420
    },
    "id": "SUetxpOBS7Cu"
   },
   "outputs": [],
   "source": [
    "from pathlib import Path\n",
    "import h5py\n",
    "import numpy as np\n",
    "import matplotlib\n",
    "import matplotlib.pyplot as plt\n",
    "import matplotlib.patheffects as pe\n",
    "import seaborn as sns\n",
    "import pandas as pd\n",
    "import scipy.stats as sstats\n",
    "import pingouin\n",
    "%matplotlib inline"
   ]
  },
  {
   "cell_type": "code",
   "execution_count": null,
   "metadata": {
    "executionInfo": {
     "elapsed": 12,
     "status": "ok",
     "timestamp": 1695419377804,
     "user": {
      "displayName": "Haley Wang",
      "userId": "08745376347332339134"
     },
     "user_tz": 420
    },
    "id": "kkJaBPTRTKKQ"
   },
   "outputs": [],
   "source": [
    "plt.rcParams['font.size'] = 7\n",
    "plt.rcParams[\"axes.unicode_minus\"] = False"
   ]
  },
  {
   "cell_type": "code",
   "execution_count": null,
   "metadata": {
    "executionInfo": {
     "elapsed": 12,
     "status": "ok",
     "timestamp": 1695419377804,
     "user": {
      "displayName": "Haley Wang",
      "userId": "08745376347332339134"
     },
     "user_tz": 420
    },
    "id": "-RS1Kt9BTL2O"
   },
   "outputs": [],
   "source": [
    "# this is for Haley\n",
    "data_dir = Path(\"/content/gdrive/MyDrive/Manuscript_JAMAPsychiatry_EP_MEND_PLS/Data\")\n",
    "figs_dir = Path(\"/content/gdrive/MyDrive/Manuscript_JAMAPsychiatry_EP_MEND_PLS/Figures\")"
   ]
  },
  {
   "cell_type": "code",
   "execution_count": null,
   "metadata": {
    "executionInfo": {
     "elapsed": 11,
     "status": "ok",
     "timestamp": 1695419377804,
     "user": {
      "displayName": "Haley Wang",
      "userId": "08745376347332339134"
     },
     "user_tz": 420
    },
    "id": "Li0IGE-7TOKO"
   },
   "outputs": [],
   "source": [
    " classified_tracts = pd.read_csv(data_dir / \"classified_tracts_w_coefs.csv\")"
   ]
  },
  {
   "cell_type": "code",
   "execution_count": null,
   "metadata": {
    "executionInfo": {
     "elapsed": 11,
     "status": "ok",
     "timestamp": 1695419377804,
     "user": {
      "displayName": "Haley Wang",
      "userId": "08745376347332339134"
     },
     "user_tz": 420
    },
    "id": "u1eL_RRuUMK-"
   },
   "outputs": [],
   "source": [
    "import colorsys\n",
    "\n",
    "def scale_lightness(rgb, scale_l):\n",
    "    # convert rgb to hls\n",
    "    h, l, s = colorsys.rgb_to_hls(*rgb)\n",
    "    # manipulate h, l, s values and return as rgb\n",
    "    return colorsys.hls_to_rgb(h, min(1, l * scale_l), s = s)"
   ]
  },
  {
   "cell_type": "code",
   "execution_count": null,
   "metadata": {
    "colab": {
     "base_uri": "https://localhost:8080/",
     "height": 1420
    },
    "executionInfo": {
     "elapsed": 154,
     "status": "ok",
     "timestamp": 1695420436667,
     "user": {
      "displayName": "Haley Wang",
      "userId": "08745376347332339134"
     },
     "user_tz": 420
    },
    "id": "7Ekwadk94qE-",
    "outputId": "6bf4cc11-d504-4c2e-b179-dcf24466fe92"
   },
   "outputs": [],
   "source": [
    "classified_tracts.sort_values(by='MEND_coefs', key=abs, ascending=False)"
   ]
  },
  {
   "cell_type": "code",
   "execution_count": null,
   "metadata": {
    "colab": {
     "base_uri": "https://localhost:8080/",
     "height": 300
    },
    "executionInfo": {
     "elapsed": 155,
     "status": "ok",
     "timestamp": 1695419637132,
     "user": {
      "displayName": "Haley Wang",
      "userId": "08745376347332339134"
     },
     "user_tz": 420
    },
    "id": "hJid3ItlZYz1",
    "outputId": "4a262aae-2b9d-4087-ae64-ccdea9d8a247"
   },
   "outputs": [],
   "source": [
    "classified_tracts[classified_tracts[\"Tracts\"].str.contains(\"lemn\")]"
   ]
  },
  {
   "cell_type": "code",
   "execution_count": null,
   "metadata": {
    "id": "mqHZb_EoUSfQ"
   },
   "outputs": [],
   "source": [
    "from matplotlib.colors import ListedColormap, to_rgb, to_hex\n",
    "tract_type2color = {\n",
    "    \"Tracts in the brainstem\": \"#471C6C\",\n",
    "    \"Commissural tracts\": \"#367D8F\",\n",
    "    \"Association tracts\": \"#96D98C\",\n",
    "    \"Projection tracts\": \"#F1E400\",\n",
    "}\n",
    "tract_names = list(tract_type2color.keys())\n",
    "tract_colors = list(tract_type2color.values())\n",
    "cmap_tracts = ListedColormap([to_rgb(_) for _ in tract_colors])"
   ]
  },
  {
   "cell_type": "code",
   "execution_count": null,
   "metadata": {
    "colab": {
     "base_uri": "https://localhost:8080/",
     "height": 121
    },
    "executionInfo": {
     "elapsed": 265,
     "status": "ok",
     "timestamp": 1692735538386,
     "user": {
      "displayName": "Zhenqi Liu",
      "userId": "12135310574992527405"
     },
     "user_tz": 240
    },
    "id": "7QaW5RgzUr7e",
    "outputId": "4f0c5797-c2bf-4973-8e79-d322a9145869"
   },
   "outputs": [],
   "source": [
    "cmap_tracts"
   ]
  },
  {
   "cell_type": "code",
   "execution_count": null,
   "metadata": {
    "id": "RlXpwzELZ7b_"
   },
   "outputs": [],
   "source": [
    "diff_pred_names = np.loadtxt(data_dir / \"JHU_labels.txt\", delimiter=\"\\t\", dtype=str)\n",
    "# diff_pred_colors = [xload_names.index(_.split(\"_\")[0]) for _ in diff_pred_names]\n",
    "\n",
    "diff_tract_colors = [tract_names.index(classified_tracts.loc[i, \"Groups\"]) for i, _ in enumerate(diff_pred_names)]"
   ]
  },
  {
   "cell_type": "code",
   "execution_count": null,
   "metadata": {
    "id": "qXDprVIN6ILO"
   },
   "outputs": [],
   "source": [
    "classified_tracts[\"combined_ci\"] = (classified_tracts[\"EP_CI\"] > 0).astype(int) + (classified_tracts[\"MEND_CI\"] > 0).astype(int)"
   ]
  },
  {
   "cell_type": "code",
   "execution_count": null,
   "metadata": {
    "colab": {
     "base_uri": "https://localhost:8080/",
     "height": 376
    },
    "executionInfo": {
     "elapsed": 2568,
     "status": "ok",
     "timestamp": 1692739448249,
     "user": {
      "displayName": "Zhenqi Liu",
      "userId": "12135310574992527405"
     },
     "user_tz": 240
    },
    "id": "av9gW8_cUxve",
    "outputId": "648e2bc1-ac08-4cf0-d499-39269e279d2a"
   },
   "outputs": [],
   "source": [
    "score_corr_r, score_corr_p = sstats.pearsonr(classified_tracts['MEND_coefs'], classified_tracts['EP_coefs'])\n",
    "\n",
    "\n",
    "fig, ax = plt.subplots(figsize=(4, 4))\n",
    "scatter = ax.scatter(classified_tracts['MEND_coefs'], classified_tracts['EP_coefs'],\n",
    "           c=diff_tract_colors, s=8 + classified_tracts[\"combined_ci\"] * 7, cmap=cmap_tracts, linewidths=0.5, clip_on=False)# , edgecolors='white')\n",
    "\n",
    "# for i in range(len(classified_tracts)):\n",
    "#     ax.text(classified_tracts.loc[i, 'MEND_coefs'], classified_tracts.loc[i, 'EP_coefs'],\n",
    "#             \"\".join(classified_tracts.loc[i, \"combined_ci\"]*[\"*\"]),\n",
    "#             fontsize=5, ha=\"center\", va=\"center\")\n",
    "\n",
    "ax.axvline(x=0, c=\"k\", linewidth=0.5)#, zorder=0.5, ls=(0, (2, 1)))\n",
    "ax.axhline(y=0, c=\"k\", linewidth=0.5)#, zorder=0.7, ls=(0, (2, 1)))\n",
    "\n",
    "# ax.fill_between([0, 0.45], [0.4, 0.4], [0, 0], color=to_hex(scale_lightness(to_rgb(xload_colors[1]), 0.7)), zorder=0.5, alpha=0.3)\n",
    "# ax.fill_between([-0.4, 0], [0, 0], [-0.4, -0.4], color=to_hex(scale_lightness(to_rgb(xload_colors[0]), 0.7)), zorder=0.5, alpha=0.3)\n",
    "\n",
    "# reg_x = np.arange(-20, np.max(ep_pls_result[\"results\"][\"x_scores\"][:, 0]), 0.1)\n",
    "#ax.plot(reg_x, m * reg_x + b, color=\"gray\", zorder=0.5)\n",
    "\n",
    "ax.set(xlim=(-0.517, 0.517), ylim=(-0.5, 0.5), xticks=[-0.4, -0.2, 0, 0.2, 0.4], yticks=[-0.4, -0.2, 0, 0.2, 0.4],\n",
    "       xlabel=\"MEND microstructural loadings\", ylabel=\"HCPEP microstructural loadings\")\n",
    "\n",
    "ax.text(0.1, -0.25, f\"r={score_corr_r:.2f}, p={score_corr_p:.2e}\")\n",
    "\n",
    "sns.despine(top=True, right=True, trim=False, ax=ax)\n",
    "ax.tick_params(axis=u'both', which=u'both', length=1)\n",
    "\n",
    "handles, previous_labels = scatter.legend_elements()\n",
    "legend = ax.legend(handles=handles, labels=tract_names, loc=\"upper left\", bbox_to_anchor=(0, 1.0), frameon=False)\n",
    "ax.add_artist(legend)\n",
    "\n",
    "fig.savefig(figs_dir / \"mend_hcpep_xload_corr_by_tracts.svg\")"
   ]
  },
  {
   "cell_type": "code",
   "execution_count": null,
   "metadata": {
    "colab": {
     "base_uri": "https://localhost:8080/",
     "height": 459
    },
    "executionInfo": {
     "elapsed": 446,
     "status": "ok",
     "timestamp": 1691693984264,
     "user": {
      "displayName": "Zhenqi Liu",
      "userId": "12135310574992527405"
     },
     "user_tz": 240
    },
    "id": "ikXFU_6LbPVD",
    "outputId": "415f2570-9c10-4aba-edc3-0d1b1be0a407"
   },
   "outputs": [],
   "source": [
    "sns.kdeplot(data=classified_tracts, x=\"MEND_coefs\", hue=\"Groups\")"
   ]
  },
  {
   "cell_type": "code",
   "execution_count": null,
   "metadata": {
    "colab": {
     "base_uri": "https://localhost:8080/",
     "height": 459
    },
    "executionInfo": {
     "elapsed": 750,
     "status": "ok",
     "timestamp": 1691693993929,
     "user": {
      "displayName": "Zhenqi Liu",
      "userId": "12135310574992527405"
     },
     "user_tz": 240
    },
    "id": "QwvhqFyY0JXt",
    "outputId": "dbd0f24b-ad09-4746-ffd6-3cbf86fa54e7"
   },
   "outputs": [],
   "source": [
    "sns.kdeplot(data=classified_tracts, x=\"EP_coefs\", hue=\"Groups\")"
   ]
  },
  {
   "cell_type": "code",
   "execution_count": null,
   "metadata": {
    "colab": {
     "base_uri": "https://localhost:8080/",
     "height": 463
    },
    "executionInfo": {
     "elapsed": 572,
     "status": "ok",
     "timestamp": 1691694105037,
     "user": {
      "displayName": "Zhenqi Liu",
      "userId": "12135310574992527405"
     },
     "user_tz": 240
    },
    "id": "Zihbbp7S0cvL",
    "outputId": "b36d367d-016e-49e9-9de3-e5d26728f7bf"
   },
   "outputs": [],
   "source": [
    "sns.ecdfplot(data=classified_tracts, x=\"MEND_coefs\", hue=\"Groups\")"
   ]
  },
  {
   "cell_type": "code",
   "execution_count": null,
   "metadata": {
    "colab": {
     "base_uri": "https://localhost:8080/",
     "height": 463
    },
    "executionInfo": {
     "elapsed": 372,
     "status": "ok",
     "timestamp": 1691694112351,
     "user": {
      "displayName": "Zhenqi Liu",
      "userId": "12135310574992527405"
     },
     "user_tz": 240
    },
    "id": "9M_OVhGZ035z",
    "outputId": "e1961438-cb77-49e9-bfc9-08ec8f0694a1"
   },
   "outputs": [],
   "source": [
    "sns.ecdfplot(data=classified_tracts, x=\"EP_coefs\", hue=\"Groups\")"
   ]
  },
  {
   "cell_type": "code",
   "execution_count": null,
   "metadata": {
    "colab": {
     "base_uri": "https://localhost:8080/",
     "height": 459
    },
    "executionInfo": {
     "elapsed": 456,
     "status": "ok",
     "timestamp": 1691694311003,
     "user": {
      "displayName": "Zhenqi Liu",
      "userId": "12135310574992527405"
     },
     "user_tz": 240
    },
    "id": "uRUJAabX05vY",
    "outputId": "d26d49d4-6728-4031-ffb8-92019a67ecd6"
   },
   "outputs": [],
   "source": [
    "sns.histplot(data=classified_tracts, x=\"MEND_coefs\", hue=\"Groups\", element=\"poly\")"
   ]
  },
  {
   "cell_type": "code",
   "execution_count": null,
   "metadata": {
    "colab": {
     "base_uri": "https://localhost:8080/",
     "height": 459
    },
    "executionInfo": {
     "elapsed": 633,
     "status": "ok",
     "timestamp": 1691694321785,
     "user": {
      "displayName": "Zhenqi Liu",
      "userId": "12135310574992527405"
     },
     "user_tz": 240
    },
    "id": "SpyzEzqL1mEp",
    "outputId": "35022ebf-8e05-45e1-8a00-aec0566450bc"
   },
   "outputs": [],
   "source": [
    "sns.histplot(data=classified_tracts, x=\"EP_coefs\", hue=\"Groups\", element=\"poly\")"
   ]
  },
  {
   "cell_type": "code",
   "execution_count": null,
   "metadata": {
    "colab": {
     "base_uri": "https://localhost:8080/",
     "height": 459
    },
    "executionInfo": {
     "elapsed": 724,
     "status": "ok",
     "timestamp": 1691694475676,
     "user": {
      "displayName": "Zhenqi Liu",
      "userId": "12135310574992527405"
     },
     "user_tz": 240
    },
    "id": "a-6Mx0681szz",
    "outputId": "896fff7b-06f1-423b-f594-b2bc97dfd054"
   },
   "outputs": [],
   "source": [
    "sns.kdeplot(data=classified_tracts, x=\"MEND_coefs\", y=\"EP_coefs\", hue=\"Groups\")"
   ]
  },
  {
   "cell_type": "code",
   "execution_count": null,
   "metadata": {
    "colab": {
     "base_uri": "https://localhost:8080/",
     "height": 459
    },
    "executionInfo": {
     "elapsed": 782,
     "status": "ok",
     "timestamp": 1691694476449,
     "user": {
      "displayName": "Zhenqi Liu",
      "userId": "12135310574992527405"
     },
     "user_tz": 240
    },
    "id": "L4Ky-Tij2HF1",
    "outputId": "6cad68e4-4a0a-4d77-dcdc-367bd3a5da4c"
   },
   "outputs": [],
   "source": [
    "sns.kdeplot(data=classified_tracts, x=\"MEND_coefs\", y=\"EP_coefs\", hue=\"Groups\", fill=True, alpha=0.5)"
   ]
  },
  {
   "cell_type": "code",
   "execution_count": null,
   "metadata": {
    "id": "t24I4UIX2ScF"
   },
   "outputs": [],
   "source": []
  }
 ],
 "metadata": {
  "colab": {
   "provenance": []
  },
  "kernelspec": {
   "display_name": "Python 3 (ipykernel)",
   "language": "python",
   "name": "python3"
  },
  "language_info": {
   "codemirror_mode": {
    "name": "ipython",
    "version": 3
   },
   "file_extension": ".py",
   "mimetype": "text/x-python",
   "name": "python",
   "nbconvert_exporter": "python",
   "pygments_lexer": "ipython3",
   "version": "3.9.6"
  }
 },
 "nbformat": 4,
 "nbformat_minor": 4
}
