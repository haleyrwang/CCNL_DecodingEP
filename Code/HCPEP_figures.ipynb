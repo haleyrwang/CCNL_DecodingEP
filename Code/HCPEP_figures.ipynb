{
 "cells": [
  {
   "cell_type": "code",
   "execution_count": null,
   "metadata": {
    "colab": {
     "base_uri": "https://localhost:8080/"
    },
    "executionInfo": {
     "elapsed": 20399,
     "status": "ok",
     "timestamp": 1695412761595,
     "user": {
      "displayName": "Haley Wang",
      "userId": "08745376347332339134"
     },
     "user_tz": 420
    },
    "id": "0VW472NouuzS",
    "outputId": "326edf55-8b4a-4332-fac1-a0aafe42bf04"
   },
   "outputs": [],
   "source": [
    "!pip install pingouin pycirclize"
   ]
  },
  {
   "cell_type": "code",
   "execution_count": null,
   "metadata": {
    "colab": {
     "base_uri": "https://localhost:8080/"
    },
    "executionInfo": {
     "elapsed": 20018,
     "status": "ok",
     "timestamp": 1695412781611,
     "user": {
      "displayName": "Haley Wang",
      "userId": "08745376347332339134"
     },
     "user_tz": 420
    },
    "id": "HuW27UpwwwEV",
    "outputId": "43005e59-c7a4-477b-bab2-3cb841e6f14b"
   },
   "outputs": [],
   "source": [
    "from google.colab import drive\n",
    "drive.mount(\"/content/gdrive\")"
   ]
  },
  {
   "cell_type": "code",
   "execution_count": null,
   "metadata": {
    "executionInfo": {
     "elapsed": 3082,
     "status": "ok",
     "timestamp": 1695412784689,
     "user": {
      "displayName": "Haley Wang",
      "userId": "08745376347332339134"
     },
     "user_tz": 420
    },
    "id": "2q0YCUxoldy4"
   },
   "outputs": [],
   "source": [
    "from pathlib import Path\n",
    "import h5py\n",
    "import numpy as np\n",
    "import matplotlib\n",
    "import matplotlib.pyplot as plt\n",
    "import seaborn as sns\n",
    "import pandas as pd\n",
    "import scipy.stats as sstats\n",
    "import pingouin"
   ]
  },
  {
   "cell_type": "code",
   "execution_count": null,
   "metadata": {
    "executionInfo": {
     "elapsed": 6,
     "status": "ok",
     "timestamp": 1695412784690,
     "user": {
      "displayName": "Haley Wang",
      "userId": "08745376347332339134"
     },
     "user_tz": 420
    },
    "id": "Ek_QRhON9yMZ"
   },
   "outputs": [],
   "source": [
    "matplotlib.rcParams.update(matplotlib.rcParamsDefault)\n",
    "%matplotlib inline\n",
    "plt.rcParams['font.size'] = 7\n",
    "plt.rcParams[\"axes.unicode_minus\"] = False\n",
    "plt.rcParams[\"svg.fonttype\"] = \"path\""
   ]
  },
  {
   "cell_type": "code",
   "execution_count": null,
   "metadata": {
    "id": "yRieh2UAREle"
   },
   "outputs": [],
   "source": [
    "# this is for Zhen-Qi, change it when you run it\n",
    "data_dir = Path(\"/content/gdrive/MyDrive/My Documents/Research/Manuscript_JAMAPsychiatry_EP_MEND_PLS/Data\")\n",
    "figs_dir = Path(\"/content/gdrive/MyDrive/My Documents/Research/Manuscript_JAMAPsychiatry_EP_MEND_PLS/Figures\")"
   ]
  },
  {
   "cell_type": "code",
   "execution_count": null,
   "metadata": {
    "executionInfo": {
     "elapsed": 4,
     "status": "ok",
     "timestamp": 1695412784690,
     "user": {
      "displayName": "Haley Wang",
      "userId": "08745376347332339134"
     },
     "user_tz": 420
    },
    "id": "igWtCHSrcgMQ"
   },
   "outputs": [],
   "source": [
    "# this is for Haley\n",
    "data_dir = Path(\"/content/gdrive/MyDrive/Manuscript_JAMAPsychiatry_EP_MEND_PLS/Data\")\n",
    "figs_dir = Path(\"/content/gdrive/MyDrive/Manuscript_JAMAPsychiatry_EP_MEND_PLS/Figures\")"
   ]
  },
  {
   "cell_type": "code",
   "execution_count": null,
   "metadata": {
    "executionInfo": {
     "elapsed": 175,
     "status": "ok",
     "timestamp": 1695412785344,
     "user": {
      "displayName": "Haley Wang",
      "userId": "08745376347332339134"
     },
     "user_tz": 420
    },
    "id": "nIwl6AgK9zjN"
   },
   "outputs": [],
   "source": [
    "ep_pls_result = h5py.File(data_dir / \"EP_pls_result.hdf5\")"
   ]
  },
  {
   "cell_type": "code",
   "execution_count": null,
   "metadata": {
    "executionInfo": {
     "elapsed": 804,
     "status": "ok",
     "timestamp": 1695412786145,
     "user": {
      "displayName": "Haley Wang",
      "userId": "08745376347332339134"
     },
     "user_tz": 420
    },
    "id": "lMQLgAtFwMiR"
   },
   "outputs": [],
   "source": [
    "ep_pls_all = pd.read_csv(data_dir / \"EP_PLS_all.csv\")\n",
    "post_hoc = ep_pls_all[[\"src_subject_id\", \"cohort\", \"age_demeaned\", \"sex\", \"dup\", \"med_equiv_current\", \"dx\", \"dx_code\"]].rename({\n",
    "    \"src_subject_id\": \"ID\",\n",
    "    \"age_demeaned\": \"age\",\n",
    "    \"med_equiv_current\": \"med\",\n",
    "})\n",
    "with h5py.File(data_dir / \"EP_pls_result.hdf5\") as f:\n",
    "    post_hoc['LC1_brain'] = f[\"results\"][\"x_scores\"][:, 0]\n",
    "    post_hoc['LC1_behv'] = f[\"results\"][\"y_scores\"][:, 0]"
   ]
  },
  {
   "cell_type": "code",
   "execution_count": null,
   "metadata": {
    "executionInfo": {
     "elapsed": 6,
     "status": "ok",
     "timestamp": 1695412786146,
     "user": {
      "displayName": "Haley Wang",
      "userId": "08745376347332339134"
     },
     "user_tz": 420
    },
    "id": "w03GJrQPf2kb"
   },
   "outputs": [],
   "source": [
    "group_names = [\"Schizophrenia\", \"Schizoaffective disorder\", \"Psychotic mood disorders\"]\n",
    "group_names_short = [\"Schizophrenia\", \"Schizoaffective\\ndisorder\", \"Psychotic mood\\ndisorders\"]"
   ]
  },
  {
   "cell_type": "code",
   "execution_count": null,
   "metadata": {
    "executionInfo": {
     "elapsed": 3,
     "status": "ok",
     "timestamp": 1695412786146,
     "user": {
      "displayName": "Haley Wang",
      "userId": "08745376347332339134"
     },
     "user_tz": 420
    },
    "id": "G9KN-nUmFzvy"
   },
   "outputs": [],
   "source": [
    "# Define a function to set the values of column \"A\" based on column \"B\"\n",
    "def set_value(row):\n",
    "    if row['dx'] in [295.90, 295.40, 298.80, 297.10]:\n",
    "        return group_names[0]\n",
    "    elif row[\"dx\"] in [295.70]:\n",
    "        return group_names[1]\n",
    "    elif row['dx'] in [296.24, 296.44, 296.89, 296.54, 296.34, 296.40, 296.53]:\n",
    "        return group_names[2]\n",
    "\n",
    "# Apply the function to create column \"A\"\n",
    "post_hoc['group'] = post_hoc.apply(set_value, axis=1)"
   ]
  },
  {
   "cell_type": "code",
   "execution_count": null,
   "metadata": {
    "executionInfo": {
     "elapsed": 243,
     "status": "ok",
     "timestamp": 1695412786386,
     "user": {
      "displayName": "Haley Wang",
      "userId": "08745376347332339134"
     },
     "user_tz": 420
    },
    "id": "FAzHI0ES6ezk"
   },
   "outputs": [],
   "source": [
    "post_hoc['group'] = pd.Categorical(post_hoc['group'], categories=group_names, ordered=True)\n",
    "post_hoc['group_code'] = post_hoc['group'].cat.codes"
   ]
  },
  {
   "cell_type": "code",
   "execution_count": null,
   "metadata": {
    "executionInfo": {
     "elapsed": 3,
     "status": "ok",
     "timestamp": 1695412786386,
     "user": {
      "displayName": "Haley Wang",
      "userId": "08745376347332339134"
     },
     "user_tz": 420
    },
    "id": "OmZFntF5KOoR"
   },
   "outputs": [],
   "source": [
    "x_scores_grouped = [post_hoc['LC1_brain'].to_numpy()[np.where(post_hoc[\"group\"] == _)[0]] for _ in group_names]\n",
    "y_scores_grouped = [post_hoc['LC1_behv'].to_numpy()[np.where(post_hoc[\"group\"] == _)[0]] for _ in group_names]"
   ]
  },
  {
   "cell_type": "code",
   "execution_count": null,
   "metadata": {
    "executionInfo": {
     "elapsed": 4,
     "status": "ok",
     "timestamp": 1695412787137,
     "user": {
      "displayName": "Haley Wang",
      "userId": "08745376347332339134"
     },
     "user_tz": 420
    },
    "id": "i2BihlPJd5ZP"
   },
   "outputs": [],
   "source": [
    "from matplotlib.colors import ListedColormap, to_rgb, to_hex\n",
    "pal_bgo_3 = [\"#31A9E7\", \"#305861\", \"#F19100\"]\n",
    "cmap_bgo_3 = ListedColormap([to_rgb(_) for _ in pal_bgo_3])"
   ]
  },
  {
   "cell_type": "code",
   "execution_count": null,
   "metadata": {
    "executionInfo": {
     "elapsed": 291,
     "status": "ok",
     "timestamp": 1695412790436,
     "user": {
      "displayName": "Haley Wang",
      "userId": "08745376347332339134"
     },
     "user_tz": 420
    },
    "id": "aPma2sePCkst"
   },
   "outputs": [],
   "source": [
    "import colorsys\n",
    "\n",
    "def scale_lightness(rgb, scale_l):\n",
    "    # convert rgb to hls\n",
    "    h, l, s = colorsys.rgb_to_hls(*rgb)\n",
    "    # manipulate h, l, s values and return as rgb\n",
    "    return colorsys.hls_to_rgb(h, min(1, l * scale_l), s = s)"
   ]
  },
  {
   "cell_type": "code",
   "execution_count": null,
   "metadata": {
    "colab": {
     "base_uri": "https://localhost:8080/",
     "height": 122
    },
    "executionInfo": {
     "elapsed": 154,
     "status": "ok",
     "timestamp": 1695412792445,
     "user": {
      "displayName": "Haley Wang",
      "userId": "08745376347332339134"
     },
     "user_tz": 420
    },
    "id": "Sqox3ez-Clra",
    "outputId": "cca0dbc1-02ee-4475-c42e-8230ed476f18"
   },
   "outputs": [],
   "source": [
    "ListedColormap([to_hex(scale_lightness(to_rgb(pal_bgo_3[0]), _)) for _ in [0.1, 0.3, 0.5, 0.7, 0.9]])"
   ]
  },
  {
   "cell_type": "code",
   "execution_count": null,
   "metadata": {
    "executionInfo": {
     "elapsed": 1027,
     "status": "ok",
     "timestamp": 1695412795767,
     "user": {
      "displayName": "Haley Wang",
      "userId": "08745376347332339134"
     },
     "user_tz": 420
    },
    "id": "5qbdfUw299yx"
   },
   "outputs": [],
   "source": [
    "score_corr_r, score_corr_p = sstats.pearsonr(ep_pls_result[\"results\"][\"x_scores\"][:, 0], ep_pls_result[\"results\"][\"y_scores\"][:, 0])\n",
    "\n",
    "from sklearn.linear_model import LinearRegression\n",
    "reg = LinearRegression().fit(ep_pls_result[\"results\"][\"x_scores\"][:, 0].reshape(-1, 1), ep_pls_result[\"results\"][\"y_scores\"][:, 0].reshape(-1, 1))\n",
    "b = reg.intercept_\n",
    "m = reg.coef_[0]"
   ]
  },
  {
   "cell_type": "code",
   "execution_count": null,
   "metadata": {
    "executionInfo": {
     "elapsed": 163,
     "status": "ok",
     "timestamp": 1695412796587,
     "user": {
      "displayName": "Haley Wang",
      "userId": "08745376347332339134"
     },
     "user_tz": 420
    },
    "id": "QTxcpEnw_tEA"
   },
   "outputs": [],
   "source": [
    "plt.close('all')"
   ]
  },
  {
   "cell_type": "code",
   "execution_count": null,
   "metadata": {
    "colab": {
     "base_uri": "https://localhost:8080/",
     "height": 258
    },
    "executionInfo": {
     "elapsed": 2445,
     "status": "ok",
     "timestamp": 1691636504299,
     "user": {
      "displayName": "Zhenqi Liu",
      "userId": "12135310574992527405"
     },
     "user_tz": 240
    },
    "id": "eugeGNAa-at6",
    "outputId": "e0baa49a-77a6-433f-f132-ed5c0236261f"
   },
   "outputs": [],
   "source": [
    "fig, ax = plt.subplots(figsize=(2.3, 2.3), layout=\"constrained\")\n",
    "scatter = ax.scatter(ep_pls_result[\"results\"][\"x_scores\"][:, 0], ep_pls_result[\"results\"][\"y_scores\"][:, 0],\n",
    "           s=15, c=post_hoc['group_code'], cmap=cmap_bgo_3, linewidths=0.1, edgecolors='white')\n",
    "ax.axvline(x=0, c=\"silver\", zorder=0, ls=(0, (2, 1)))\n",
    "ax.axhline(y=0, c=\"silver\", zorder=0, ls=(0, (2, 1)))\n",
    "\n",
    "reg_x = np.arange(-20, np.max(ep_pls_result[\"results\"][\"x_scores\"][:, 0]), 0.1)\n",
    "#ax.plot(reg_x, m * reg_x + b, color=\"gray\", zorder=0.5)\n",
    "\n",
    "ax.set(xlim=(-25, 25), ylim=(-8, 8), xticks=[-20, -10, 0, 10, 20], yticks=[-8, -4, 0, 4, 8],\n",
    "       xlabel=\"Microstructural composite scores\", ylabel=\"Clinical composite scores\")\n",
    "\n",
    "ax.text(5, -6, f\"r={score_corr_r:.2f}\\np={score_corr_p:.2e}\")\n",
    "\n",
    "sns.despine(top=True, right=True, trim=True, ax=ax)\n",
    "ax.tick_params(axis=u'both', which=u'both', length=1)\n",
    "\n",
    "handles, previous_labels = scatter.legend_elements()\n",
    "legend = ax.legend(handles=handles, labels=group_names, loc=\"upper left\", bbox_to_anchor=(0, 1.0), frameon=False)\n",
    "ax.add_artist(legend)\n",
    "fig.savefig(figs_dir / \"hcpep_score_corr.svg\")"
   ]
  },
  {
   "cell_type": "code",
   "execution_count": null,
   "metadata": {
    "id": "HbWO52p3IsLh"
   },
   "outputs": [],
   "source": [
    "def plot_raincloud(x, ax):\n",
    "    pos = np.array([1, 2, 3])\n",
    "    v1 = ax.violinplot(x, positions=pos+0.2,\n",
    "                    showmeans=False, showextrema=False, showmedians=False)\n",
    "\n",
    "    for b, c in zip(v1['bodies'], pal_bgo_3):\n",
    "        m = np.mean(b.get_paths()[0].vertices[:, 0])\n",
    "        b.get_paths()[0].vertices[:, 0] = np.clip(b.get_paths()[0].vertices[:, 0], m, np.inf)\n",
    "        b.set_facecolor(c)\n",
    "        b.set_linewidth(0)\n",
    "\n",
    "    b1 = ax.boxplot(x, positions=pos, patch_artist=True, widths=0.15)\n",
    "\n",
    "    for item in ['boxes']:\n",
    "        for patch, c in zip(b1[item], pal_bgo_3):\n",
    "            plt.setp(patch, facecolor=c, edgecolor=to_hex(scale_lightness(to_rgb(c), 0.75)))\n",
    "    for item in ['medians']:\n",
    "        for patch, c in zip(b1[item], pal_bgo_3):\n",
    "            plt.setp(patch, color=c)\n",
    "    for item in ['whiskers', 'caps']:\n",
    "        for i, patch in enumerate(b1[item]):\n",
    "            c = pal_bgo_3[int(i/2)]\n",
    "            plt.setp(patch, color=to_hex(scale_lightness(to_rgb(c), 0.75)))\n",
    "    for item in ['fliers']:\n",
    "        for patch, c in zip(b1[item], pal_bgo_3):\n",
    "            plt.setp(patch, markeredgecolor=c)\n",
    "\n",
    "    e1 = ax.eventplot(x, orientation=\"vertical\", lineoffsets=pos-0.2, linelengths=0.1, colors=pal_bgo_3)\n",
    "\n",
    "    return v1, b1, e1"
   ]
  },
  {
   "cell_type": "code",
   "execution_count": null,
   "metadata": {
    "colab": {
     "base_uri": "https://localhost:8080/"
    },
    "executionInfo": {
     "elapsed": 181,
     "status": "ok",
     "timestamp": 1691635622323,
     "user": {
      "displayName": "Zhenqi Liu",
      "userId": "12135310574992527405"
     },
     "user_tz": 240
    },
    "id": "mADToHWYuNFJ",
    "outputId": "acc58789-39a8-45e7-805d-034a3892b963"
   },
   "outputs": [],
   "source": [
    "for i, j in [(0, 1), (0, 2), (1, 2)]:\n",
    "    print(pingouin.ttest(x_scores_grouped[i], x_scores_grouped[j]))"
   ]
  },
  {
   "cell_type": "code",
   "execution_count": null,
   "metadata": {
    "colab": {
     "base_uri": "https://localhost:8080/",
     "height": 258
    },
    "executionInfo": {
     "elapsed": 3755,
     "status": "ok",
     "timestamp": 1691636521670,
     "user": {
      "displayName": "Zhenqi Liu",
      "userId": "12135310574992527405"
     },
     "user_tz": 240
    },
    "id": "iNZ5xa-FzSSi",
    "outputId": "6d691dc7-f787-4cc2-bcf9-4becac0c6d26"
   },
   "outputs": [],
   "source": [
    "fig, ax = plt.subplots(figsize=(2.3, 2.3), layout=\"constrained\")\n",
    "v1, b1, e1 = plot_raincloud(x_scores_grouped, ax)\n",
    "\n",
    "ax.set(ylim=(-17, 23), yticks=[-15, -10, -5, 0, 5, 10, 15, 20], xticklabels=group_names_short,\n",
    "       ylabel=\"Microstructural composite scores\")\n",
    "sns.despine(top=True, right=True, trim=True, ax=ax)\n",
    "ax.tick_params(axis=u'both', which=u'both', length=0)\n",
    "\n",
    "fig.savefig(figs_dir / \"hcpep_x_scores.svg\")"
   ]
  },
  {
   "cell_type": "code",
   "execution_count": null,
   "metadata": {
    "colab": {
     "base_uri": "https://localhost:8080/"
    },
    "executionInfo": {
     "elapsed": 150,
     "status": "ok",
     "timestamp": 1691635627434,
     "user": {
      "displayName": "Zhenqi Liu",
      "userId": "12135310574992527405"
     },
     "user_tz": 240
    },
    "id": "sL7xqYEsvPmx",
    "outputId": "f81daaac-25c9-4268-d4e4-752c3d13c1bf"
   },
   "outputs": [],
   "source": [
    "for i, j in [(0, 1), (0, 2), (1, 2)]:\n",
    "    print(pingouin.ttest(y_scores_grouped[i], y_scores_grouped[j]))"
   ]
  },
  {
   "cell_type": "code",
   "execution_count": null,
   "metadata": {
    "colab": {
     "base_uri": "https://localhost:8080/",
     "height": 258
    },
    "executionInfo": {
     "elapsed": 1150,
     "status": "ok",
     "timestamp": 1691636527499,
     "user": {
      "displayName": "Zhenqi Liu",
      "userId": "12135310574992527405"
     },
     "user_tz": 240
    },
    "id": "cCWDIxW0G0LZ",
    "outputId": "c92f73a9-c160-4175-b2fc-2e691239c52c"
   },
   "outputs": [],
   "source": [
    "fig, ax = plt.subplots(figsize=(2.3, 2.3), layout=\"constrained\")\n",
    "v1, b1, e1 = plot_raincloud(y_scores_grouped, ax)\n",
    "\n",
    "ax.set(ylim=(-5, 10), yticks=[-4, 0, 4, 8], xticklabels=group_names_short,\n",
    "        ylabel=\"Clinical composite scores\")\n",
    "sns.despine(top=True, right=True, trim=True, ax=ax)\n",
    "ax.tick_params(axis=u'both', which=u'both',length=0)\n",
    "\n",
    "y1, y2, h = 8.5, 9.5, 0.3\n",
    "ax.plot([1, 1, 2, 2], [y1, y1+h, y1+h, y1], lw=1, c=\"k\")\n",
    "ax.text(1.5, y1+h, \"*\", ha='center', va='bottom', color=\"k\")\n",
    "ax.plot([1, 1, 3, 3], [y2, y2+h, y2+h, y2], lw=1, c=\"k\")\n",
    "ax.text(2, y2+h, \"**\", ha='center', va='bottom', color=\"k\")\n",
    "\n",
    "fig.savefig(figs_dir / \"hcpep_y_scores.svg\")"
   ]
  },
  {
   "cell_type": "code",
   "execution_count": null,
   "metadata": {
    "id": "PgJFWnq3Kqa0"
   },
   "outputs": [],
   "source": [
    "ep_pls_loadings = h5py.File(data_dir / \"EP_pls_loadings.hdf5\")"
   ]
  },
  {
   "cell_type": "code",
   "execution_count": null,
   "metadata": {
    "id": "Smhbi_XookUD"
   },
   "outputs": [],
   "source": [
    "ep_pls_xload = ep_pls_loadings[\"results/y_loadings\"][:, 0]\n",
    "ep_pls_xload_resort = np.argsort(-1 * ep_pls_loadings[\"results/y_loadings\"][:, 0])\n",
    "ep_pls_xload_top_idx = np.where(np.abs(sstats.zscore(ep_pls_xload)) > 2)[0]\n",
    "ep_pls_xload_sq_top_idx = np.where(np.abs(sstats.zscore(ep_pls_xload ** 2)) > 2)[0]\n",
    "ep_pls_xload_err = (ep_pls_loadings[\"results/bootres/y_loadings_ci\"][:, 0, 1]- ep_pls_loadings[\"results/bootres/y_loadings_ci\"][:, 0, 0]) / 2\n",
    "ep_pls_xload_top_resort = np.argsort(-1 * ep_pls_loadings[\"results/y_loadings\"][ep_pls_xload_top_idx, 0])\n",
    "ep_pls_xload_sq_top_resort = np.argsort(-1 * ep_pls_loadings[\"results/y_loadings\"][ep_pls_xload_sq_top_idx, 0])"
   ]
  },
  {
   "cell_type": "code",
   "execution_count": null,
   "metadata": {
    "id": "CPTsiY5Ntm45"
   },
   "outputs": [],
   "source": [
    "diff_pred_names = np.loadtxt(data_dir / \"JHU_labels.txt\", delimiter=\"\\t\", dtype=str)"
   ]
  },
  {
   "cell_type": "code",
   "execution_count": null,
   "metadata": {
    "id": "LABZwS5e9PfF"
   },
   "outputs": [],
   "source": [
    "diff_pred_names_optimized = [\"(\" + _.replace(\"_\", \") \") for _ in diff_pred_names]\n",
    "diff_pred_names_optimized = np.array(diff_pred_names_optimized)"
   ]
  },
  {
   "cell_type": "code",
   "execution_count": null,
   "metadata": {
    "id": "Z-qH-Ou2wJk1"
   },
   "outputs": [],
   "source": [
    "diff_pred_names_optimized = [\"(\" + _.replace(\"_\", \") \") for _ in diff_pred_names]\n",
    "for i in range(len(diff_pred_names_optimized)):\n",
    "    curr_name = diff_pred_names_optimized[i]\n",
    "    curr_new = curr_name.split(\" \")\n",
    "    if len(curr_name) >= 40:\n",
    "        curr_new.insert(-3, \"\\n\")\n",
    "    elif 40 > len(curr_name) > 25:\n",
    "        curr_new.insert(-2, \"\\n\")\n",
    "    diff_pred_names_optimized[i] = \" \".join(curr_new)\n",
    "diff_pred_names_optimized = np.array(diff_pred_names_optimized)"
   ]
  },
  {
   "cell_type": "code",
   "execution_count": null,
   "metadata": {
    "id": "o_Y6jyXXulWx"
   },
   "outputs": [],
   "source": [
    "# fig, ax = plt.subplots(figsize=(2.5, 16))\n",
    "# ax.barh(np.arange(len(ep_pls_xload_resort)), ep_pls_xload[ep_pls_xload_resort],\n",
    "#         xerr=ep_pls_xload_err[ep_pls_xload_resort])\n",
    "# ax.set(yticks=np.arange(len(ep_pls_xload_resort)), yticklabels=diff_pred_names_optimized[ep_pls_xload_resort])\n",
    "# ax.invert_yaxis()\n",
    "# sns.despine(top=True, right=True, ax=ax)\n",
    "# ax.tick_params(axis=u'both', which=u'both', length=0)"
   ]
  },
  {
   "cell_type": "code",
   "execution_count": null,
   "metadata": {
    "colab": {
     "base_uri": "https://localhost:8080/",
     "height": 328
    },
    "executionInfo": {
     "elapsed": 2047,
     "status": "ok",
     "timestamp": 1691637150119,
     "user": {
      "displayName": "Zhenqi Liu",
      "userId": "12135310574992527405"
     },
     "user_tz": 240
    },
    "id": "R0ilcpvozjBW",
    "outputId": "d341a91d-57da-46f4-af33-74be47c8674d"
   },
   "outputs": [],
   "source": [
    "fig, ax = plt.subplots(figsize=(3.0, 3.0), layout=\"constrained\")\n",
    "ax.barh(np.arange(len(ep_pls_xload_sq_top_resort)), ep_pls_xload[ep_pls_xload_sq_top_idx][ep_pls_xload_sq_top_resort],\n",
    "        xerr=ep_pls_xload_err[ep_pls_xload_sq_top_idx][ep_pls_xload_sq_top_resort], color=pal_bgo_3[1], height=0.8,\n",
    "        error_kw=dict(ecolor=pal_bgo_3[1], lw=1, capsize=2, capthick=1))\n",
    "ax.set(xticks=[0, 0.2, 0.4, 0.6],\n",
    "       #yticks=np.arange(len(ep_pls_xload_sq_top_resort)), yticklabels=diff_pred_names_optimized[ep_pls_xload_sq_top_idx][ep_pls_xload_sq_top_resort])\n",
    "       yticks=np.arange(len(ep_pls_xload_sq_top_resort)), yticklabels=diff_pred_names_optimized[ep_pls_xload_sq_top_idx][ep_pls_xload_sq_top_resort])\n",
    "\n",
    "ax.invert_yaxis()\n",
    "sns.despine(top=True, right=True, ax=ax)\n",
    "ax.tick_params(axis=u'both', which=u'both', length=0)\n",
    "\n",
    "fig.savefig(figs_dir / \"hcpep_xload.svg\")"
   ]
  },
  {
   "cell_type": "code",
   "execution_count": null,
   "metadata": {
    "colab": {
     "base_uri": "https://localhost:8080/"
    },
    "executionInfo": {
     "elapsed": 156,
     "status": "ok",
     "timestamp": 1691635639095,
     "user": {
      "displayName": "Zhenqi Liu",
      "userId": "12135310574992527405"
     },
     "user_tz": 240
    },
    "id": "GTUG-vP01O5i",
    "outputId": "77885d9f-5b25-4794-977a-147b27e43fa2"
   },
   "outputs": [],
   "source": [
    "# fig, ax = plt.subplots(figsize=(3, 3), layout=\"constrained\")\n",
    "# ax.barh(np.arange(len(ep_pls_xload_top_resort)), ep_pls_xload[ep_pls_xload_top_idx][ep_pls_xload_top_resort],\n",
    "#         xerr=ep_pls_xload_err[ep_pls_xload_top_idx][ep_pls_xload_top_resort], color=pal_bgo_3[0], height=0.75,\n",
    "#         error_kw=dict(ecolor=pal_bgo_3[1], lw=1, capsize=2, capthick=1))\n",
    "# ax.set(xticks=[-0.6, -0.4, -0.2, 0],\n",
    "#        yticks=np.arange(len(ep_pls_xload_top_resort)), yticklabels=diff_pred_names_optimized[ep_pls_xload_top_idx][ep_pls_xload_top_resort])\n",
    "# ax.invert_yaxis()\n",
    "# sns.despine(top=True, right=True, ax=ax)\n",
    "# ax.tick_params(axis=u'both', which=u'both', length=0)"
   ]
  },
  {
   "cell_type": "code",
   "execution_count": null,
   "metadata": {
    "executionInfo": {
     "elapsed": 173,
     "status": "ok",
     "timestamp": 1695412831518,
     "user": {
      "displayName": "Haley Wang",
      "userId": "08745376347332339134"
     },
     "user_tz": 420
    },
    "id": "6GW2L4tA2D4E"
   },
   "outputs": [],
   "source": [
    "ep_pls_yload = ep_pls_result[\"results/y_loadings\"][:, 0]\n",
    "ep_pls_yload_err = (ep_pls_result[\"results/bootres/y_loadings_ci\"][:, 0, 1]- ep_pls_result[\"results/bootres/y_loadings_ci\"][:, 0, 0]) / 2\n",
    "\n",
    "ep_pls_yload_resort = np.argsort(-1 * ep_pls_result[\"results/y_loadings\"][:, 0])\n",
    "ep_pls_yload_top_idx = np.where(\n",
    "    (np.abs(sstats.zscore(ep_pls_yload)) > 1)\n",
    "    & ((np.abs(ep_pls_yload)-ep_pls_yload_err)>0)\n",
    "    )[0]\n",
    "ep_pls_yload_sq_top_idx = np.where(\n",
    "    (np.abs(sstats.zscore(ep_pls_yload ** 2)) > 1)\n",
    "    & ((np.abs(ep_pls_yload)-ep_pls_yload_err)>0)\n",
    "    )[0]\n",
    "ep_pls_yload_top_resort = np.argsort(-1 * ep_pls_result[\"results/y_loadings\"][ep_pls_yload_top_idx, 0])\n",
    "ep_pls_yload_sq_top_resort = np.argsort(-1 * ep_pls_result[\"results/y_loadings\"][ep_pls_yload_sq_top_idx, 0])"
   ]
  },
  {
   "cell_type": "code",
   "execution_count": null,
   "metadata": {
    "colab": {
     "base_uri": "https://localhost:8080/"
    },
    "executionInfo": {
     "elapsed": 166,
     "status": "ok",
     "timestamp": 1695412833144,
     "user": {
      "displayName": "Haley Wang",
      "userId": "08745376347332339134"
     },
     "user_tz": 420
    },
    "id": "eqhRjs9B3AH2",
    "outputId": "1f0bb6b8-cfce-4e0f-f4f4-e5ff7b316cdc"
   },
   "outputs": [],
   "source": [
    "ep_pls_yload_sq_top_idx"
   ]
  },
  {
   "cell_type": "code",
   "execution_count": null,
   "metadata": {
    "executionInfo": {
     "elapsed": 393,
     "status": "ok",
     "timestamp": 1695412853927,
     "user": {
      "displayName": "Haley Wang",
      "userId": "08745376347332339134"
     },
     "user_tz": 420
    },
    "id": "jGpDOl1Fm1Rz"
   },
   "outputs": [],
   "source": [
    "ep_scores = pd.read_csv(data_dir / \"EP_scores.csv\")"
   ]
  },
  {
   "cell_type": "code",
   "execution_count": null,
   "metadata": {
    "executionInfo": {
     "elapsed": 166,
     "status": "ok",
     "timestamp": 1695412855379,
     "user": {
      "displayName": "Haley Wang",
      "userId": "08745376347332339134"
     },
     "user_tz": 420
    },
    "id": "a2vz9--7pNEw"
   },
   "outputs": [],
   "source": [
    "score_dimension_to_color = {\"pos\": \"#5C554A\", \"neg\": \"#31A9E7\", \"gen\": \"#345662\", \"mania\": \"#F19100\"}"
   ]
  },
  {
   "cell_type": "code",
   "execution_count": null,
   "metadata": {
    "executionInfo": {
     "elapsed": 2,
     "status": "ok",
     "timestamp": 1695412856312,
     "user": {
      "displayName": "Haley Wang",
      "userId": "08745376347332339134"
     },
     "user_tz": 420
    },
    "id": "11hvbX-To_jk"
   },
   "outputs": [],
   "source": [
    "ep_scores[\"text_color\"] = ep_scores[\"dimension\"].map(score_dimension_to_color)"
   ]
  },
  {
   "cell_type": "code",
   "execution_count": null,
   "metadata": {
    "executionInfo": {
     "elapsed": 160,
     "status": "ok",
     "timestamp": 1695412857170,
     "user": {
      "displayName": "Haley Wang",
      "userId": "08745376347332339134"
     },
     "user_tz": 420
    },
    "id": "IdvctWnNp3o5"
   },
   "outputs": [],
   "source": [
    "for i in range(len(ep_scores)):\n",
    "    curr_name = ep_scores.loc[i, \"description\"]\n",
    "    curr_new = curr_name.split(\" \")\n",
    "    if len(curr_name) >= 40:\n",
    "        curr_new.insert(-3, \"\\n\")\n",
    "    elif 40 > len(curr_name) > 23:\n",
    "        curr_new.insert(-2, \"\\n\")\n",
    "    ep_scores.loc[i, \"description\"] = \" \".join(curr_new)"
   ]
  },
  {
   "cell_type": "code",
   "execution_count": null,
   "metadata": {
    "colab": {
     "base_uri": "https://localhost:8080/",
     "height": 1019
    },
    "executionInfo": {
     "elapsed": 167,
     "status": "ok",
     "timestamp": 1695413772516,
     "user": {
      "displayName": "Haley Wang",
      "userId": "08745376347332339134"
     },
     "user_tz": 420
    },
    "id": "IRwbmMDse-yh",
    "outputId": "7a33ebc3-9872-4b06-dad1-2942c61f2dd2"
   },
   "outputs": [],
   "source": [
    "temp = pd.DataFrame(columns=['symptoms', 'coef', 'se'])\n",
    "temp['symptoms'] = ep_scores[\"description\"].to_numpy()\n",
    "temp['coef'] = ep_pls_yload\n",
    "temp['se'] = ep_pls_yload_err\n",
    "\n",
    "temp\n"
   ]
  },
  {
   "cell_type": "code",
   "execution_count": null,
   "metadata": {
    "colab": {
     "base_uri": "https://localhost:8080/",
     "height": 278
    },
    "executionInfo": {
     "elapsed": 841,
     "status": "ok",
     "timestamp": 1691635689519,
     "user": {
      "displayName": "Zhenqi Liu",
      "userId": "12135310574992527405"
     },
     "user_tz": 240
    },
    "id": "zUuVG7f3206b",
    "outputId": "a9a34098-d606-47df-fda9-a106d614517f"
   },
   "outputs": [],
   "source": [
    "fig, ax = plt.subplots(figsize=(3.0, 2.5), layout=\"constrained\")\n",
    "\n",
    "plot_x = np.arange(len(ep_pls_yload_sq_top_resort))\n",
    "plot_y = ep_pls_yload[ep_pls_yload_sq_top_idx][ep_pls_yload_sq_top_resort]\n",
    "plot_error = ep_pls_yload_err[ep_pls_yload_sq_top_idx][ep_pls_yload_sq_top_resort]\n",
    "plot_y_ticklabels = ep_scores[\"description\"].to_numpy()[ep_pls_yload_sq_top_idx][ep_pls_yload_sq_top_resort]\n",
    "plot_y_ticklabels_color = ep_scores[\"text_color\"].to_numpy()[ep_pls_yload_sq_top_idx][ep_pls_yload_sq_top_resort]\n",
    "plot_y_pos = np.where(plot_y>0)[0]\n",
    "plot_y_neg = np.where(plot_y<0)[0]\n",
    "\n",
    "ax.axvline(x=0, c=\"black\", lw=0.5)\n",
    "\n",
    "ax.barh(plot_x, plot_y, xerr=plot_error, color=plot_y_ticklabels_color, height=0.75,\n",
    "        error_kw=dict(ecolor=\"lightgray\", lw=1, capsize=2, capthick=1))\n",
    "ax.set(xticks=[-0.25, 0, 0.25, 0.5], yticks=plot_x, yticklabels=[])\n",
    "ax.invert_yaxis()\n",
    "sns.despine(top=True, right=True, left=True, ax=ax)\n",
    "ax.tick_params(axis=u'both', which=u'both', length=0)\n",
    "\n",
    "for i in plot_y_pos:\n",
    "    ax.text(-0.05, plot_x[i], plot_y_ticklabels[i], ha=\"right\", va=\"center\",\n",
    "            color=\"k\")\n",
    "for i in plot_y_neg:\n",
    "    ax.text(0.05, plot_x[i], plot_y_ticklabels[i], ha=\"left\", va=\"center\",\n",
    "            color=\"k\")\n",
    "\n",
    "fig.savefig(figs_dir / \"hcpep_yload.svg\")"
   ]
  },
  {
   "cell_type": "code",
   "execution_count": null,
   "metadata": {
    "executionInfo": {
     "elapsed": 392,
     "status": "ok",
     "timestamp": 1695412820295,
     "user": {
      "displayName": "Haley Wang",
      "userId": "08745376347332339134"
     },
     "user_tz": 420
    },
    "id": "PbJtMGl42-9r"
   },
   "outputs": [],
   "source": [
    "from pycirclize import Circos"
   ]
  },
  {
   "cell_type": "code",
   "execution_count": null,
   "metadata": {
    "colab": {
     "base_uri": "https://localhost:8080/",
     "height": 193
    },
    "executionInfo": {
     "elapsed": 395,
     "status": "error",
     "timestamp": 1695412822776,
     "user": {
      "displayName": "Haley Wang",
      "userId": "08745376347332339134"
     },
     "user_tz": 420
    },
    "id": "a88hjcffAulE",
    "outputId": "2ff81bc8-0817-40ce-bb80-f2e703b0866d"
   },
   "outputs": [],
   "source": [
    "ep_scores[\"yload\"] = ep_pls_yload\n",
    "ep_pls_yload_sq_top_score_names = ep_scores[\"description\"].to_numpy()[ep_pls_yload_sq_top_idx][ep_pls_yload_sq_top_resort]"
   ]
  },
  {
   "cell_type": "code",
   "execution_count": null,
   "metadata": {
    "colab": {
     "base_uri": "https://localhost:8080/",
     "height": 862
    },
    "executionInfo": {
     "elapsed": 4324,
     "status": "ok",
     "timestamp": 1691623253611,
     "user": {
      "displayName": "Zhenqi Liu",
      "userId": "12135310574992527405"
     },
     "user_tz": 240
    },
    "id": "0LGCeM61nM2t",
    "outputId": "13bdf5d7-04f2-437a-cfd1-6b592063b251"
   },
   "outputs": [],
   "source": [
    "with matplotlib.rc_context({\"svg.fonttype\": \"path\"}):\n",
    "    fig, ax = plt.subplots(figsize=(8, 8), subplot_kw={'projection': 'polar'}, layout=\"constrained\")\n",
    "\n",
    "    sectors = {\"Mania\": 11, \"General\": 16, \"Negative\": 7, \"Positive\": 7}\n",
    "    circos = Circos(\n",
    "        sectors, space=10,\n",
    "        sector2clockwise = {\"Positive\": False, \"Negative\": False, \"General\": False, \"Mania\": True}\n",
    "        )\n",
    "\n",
    "    for sector, dim in zip(circos.sectors, [\"mania\", \"gen\", \"neg\", \"pos\"]):\n",
    "\n",
    "        sector.rect(r_lim=(35, 38), color=score_dimension_to_color[dim])\n",
    "        sector.text(f\"{sector.name}\", r=27, size=10, color=score_dimension_to_color[dim])\n",
    "\n",
    "        curr_ep_scores = ep_scores[ep_scores[\"dimension\"]==dim]\n",
    "        plot_x = np.arange(len(curr_ep_scores)) + 0.5\n",
    "        plot_y = curr_ep_scores[\"yload\"].to_numpy()\n",
    "        plot_ylabel = curr_ep_scores[\"description\"].to_numpy()\n",
    "        vmin, vmax = -0.23, 0.33\n",
    "\n",
    "        track = sector.add_track((40, 95), r_pad_ratio=0.1)\n",
    "        # track.axis()\n",
    "        track.xticks(plot_x, plot_ylabel, label_orientation=\"vertical\", tick_length=0,\n",
    "                    text_kws={\"color\": score_dimension_to_color[dim]}, label_size=10)\n",
    "        track.yticks(y=[-0.2, -0.1, 0, 0.1, 0.2, 0.3], vmin=vmin, vmax=vmax,\n",
    "                    labels=[-0.2, -0.1, 0, 0.1, 0.2, 0.3], tick_length=0)\n",
    "\n",
    "        track.line(plot_x, [0]*len(plot_x), vmin=vmin, vmax=vmax, arc=True, color=\"darkgray\", lw=2, zorder=1)\n",
    "        for i in [-0.2, -0.1, 0.1, 0.2, 0.3]:\n",
    "            track.line(plot_x, [i]*len(plot_x), vmin=vmin, vmax=vmax, arc=True, color=\"silver\", zorder=1)\n",
    "        track.bar(plot_x, plot_y, vmin=vmin, vmax=vmax, color=score_dimension_to_color[dim], zorder=3)\n",
    "\n",
    "        plot_ylabel_sig_idx = [i for i, _ in enumerate(plot_ylabel) if _ in ep_pls_yload_sq_top_score_names]\n",
    "        for curr_idx in plot_ylabel_sig_idx:\n",
    "            track.bar([plot_x[curr_idx]], [plot_y[curr_idx]], vmin=vmin, vmax=vmax, zorder=2, linewidth=2, edgecolor=\"tab:red\")\n",
    "\n",
    "    fig = circos.plotfig(ax=ax)\n",
    "    fig.savefig(figs_dir / \"hcpep_yload_circle.svg\")"
   ]
  },
  {
   "cell_type": "code",
   "execution_count": null,
   "metadata": {
    "id": "UAe27b6mJsba"
   },
   "outputs": [],
   "source": []
  }
 ],
 "metadata": {
  "colab": {
   "provenance": []
  },
  "kernelspec": {
   "display_name": "Python 3 (ipykernel)",
   "language": "python",
   "name": "python3"
  },
  "language_info": {
   "codemirror_mode": {
    "name": "ipython",
    "version": 3
   },
   "file_extension": ".py",
   "mimetype": "text/x-python",
   "name": "python",
   "nbconvert_exporter": "python",
   "pygments_lexer": "ipython3",
   "version": "3.9.6"
  }
 },
 "nbformat": 4,
 "nbformat_minor": 4
}
